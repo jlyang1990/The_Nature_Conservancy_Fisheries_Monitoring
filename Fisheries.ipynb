{
 "cells": [
  {
   "cell_type": "markdown",
   "metadata": {},
   "source": [
    "# The Nature Conservancy Fisheries Monitoring"
   ]
  },
  {
   "cell_type": "markdown",
   "metadata": {},
   "source": [
    "## Data pre-processing"
   ]
  },
  {
   "cell_type": "code",
   "execution_count": 1,
   "metadata": {
    "collapsed": false
   },
   "outputs": [
    {
     "name": "stderr",
     "output_type": "stream",
     "text": [
      "Using gpu device 0: Tesla K80 (CNMeM is disabled, cuDNN 5103)\n",
      "/home/ubuntu/anaconda2/lib/python2.7/site-packages/theano/sandbox/cuda/__init__.py:600: UserWarning: Your cuDNN version is more recent than the one Theano officially supports. If you see any problems, try updating Theano or downgrading cuDNN to version 5.\n",
      "  warnings.warn(warn)\n",
      "Using Theano backend.\n"
     ]
    }
   ],
   "source": [
    "from __future__ import division,print_function\n",
    "import math, os, sys, re\n",
    "import PIL\n",
    "import ujson as json\n",
    "import numpy as np\n",
    "from matplotlib import pyplot as plt\n",
    "\n",
    "import pandas as pd\n",
    "import bcolz\n",
    "\n",
    "from IPython.lib.display import FileLink\n",
    "\n",
    "import theano\n",
    "import keras\n",
    "from keras import backend as K\n",
    "from keras.utils.data_utils import get_file\n",
    "from keras.utils import np_utils\n",
    "from keras.utils.np_utils import to_categorical\n",
    "from keras.models import Sequential, Model\n",
    "from keras.layers import Input, Embedding, Reshape, merge, LSTM, Bidirectional\n",
    "from keras.layers import TimeDistributed, Activation, SimpleRNN, GRU\n",
    "from keras.layers.core import Flatten, Dense, Dropout, Lambda\n",
    "from keras.layers.convolutional import Convolution2D, MaxPooling2D, ZeroPadding2D\n",
    "from keras.layers.pooling import GlobalAveragePooling2D\n",
    "from keras.regularizers import l2, activity_l2, l1, activity_l1\n",
    "from keras.layers.normalization import BatchNormalization\n",
    "from keras.optimizers import SGD, RMSprop, Adam\n",
    "from keras.utils.layer_utils import layer_from_config\n",
    "from keras.metrics import categorical_crossentropy, categorical_accuracy\n",
    "from keras.layers.convolutional import *\n",
    "from keras.preprocessing import image, sequence\n",
    "from keras.preprocessing.text import Tokenizer\n",
    "from keras.utils.layer_utils import convert_all_kernels_in_model\n",
    "from keras.applications.resnet50 import identity_block, conv_block\n",
    "from keras.applications.inception_v3 import conv2d_bn"
   ]
  },
  {
   "cell_type": "code",
   "execution_count": 2,
   "metadata": {
    "collapsed": false
   },
   "outputs": [],
   "source": [
    "def get_batches(dirname, gen = image.ImageDataGenerator(), shuffle = True, batch_size = 64, class_mode = 'categorical',\n",
    "                target_size = (224,224)):\n",
    "    return gen.flow_from_directory(dirname, target_size = target_size, class_mode = class_mode, shuffle = shuffle, \n",
    "                                   batch_size = batch_size)"
   ]
  },
  {
   "cell_type": "code",
   "execution_count": 3,
   "metadata": {
    "collapsed": true
   },
   "outputs": [],
   "source": [
    "def get_classes(path):\n",
    "    trn_batches = get_batches(path+'train', shuffle = False, batch_size = 1)\n",
    "    val_batches = get_batches(path+'valid', shuffle = False, batch_size = 1)\n",
    "    test_batches = get_batches(path+'test', shuffle = False, batch_size = 1)\n",
    "    test2_batches = get_batches(path+'test_stg2', shuffle = False, batch_size = 1)\n",
    "    return (trn_batches.classes, val_batches.classes, to_categorical(trn_batches.classes), \n",
    "            to_categorical(val_batches.classes), trn_batches.filenames, val_batches.filenames, \n",
    "            test_batches.filenames, test2_batches.filenames)"
   ]
  },
  {
   "cell_type": "code",
   "execution_count": 4,
   "metadata": {
    "collapsed": true
   },
   "outputs": [],
   "source": [
    "path = '/home/ubuntu/courses/deeplearning1/data/fish/'"
   ]
  },
  {
   "cell_type": "code",
   "execution_count": 5,
   "metadata": {
    "collapsed": true
   },
   "outputs": [],
   "source": [
    "batch_size = 32"
   ]
  },
  {
   "cell_type": "code",
   "execution_count": 6,
   "metadata": {
    "collapsed": false
   },
   "outputs": [
    {
     "name": "stdout",
     "output_type": "stream",
     "text": [
      "Found 3277 images belonging to 8 classes.\n",
      "Found 500 images belonging to 8 classes.\n",
      "Found 1000 images belonging to 1 classes.\n",
      "Found 12153 images belonging to 1 classes.\n"
     ]
    }
   ],
   "source": [
    "trn_batches = get_batches(path+'train', batch_size = batch_size, shuffle = False, target_size = (360, 640))\n",
    "val_batches = get_batches(path+'valid', batch_size = batch_size, shuffle = False, target_size = (360, 640))\n",
    "test_batches = get_batches(path+'test', batch_size = batch_size, shuffle = False, target_size = (360, 640))\n",
    "test2_batches = get_batches(path+'test_stg2', batch_size = batch_size, shuffle = False, target_size = (360, 640))"
   ]
  },
  {
   "cell_type": "code",
   "execution_count": 7,
   "metadata": {
    "collapsed": true
   },
   "outputs": [],
   "source": [
    "#training data augmentation\n",
    "#gen_aug = image.ImageDataGenerator(rotation_range = 15, height_shift_range = 0.05, shear_range = 0.1, \n",
    "#                                  channel_shift_range = 20, width_shift_range = 0.1)\n",
    "#trn_aug_batches = get_batches(path+'train', gen = gen_aug, batch_size = batch_size, shuffle = False, \n",
    "#                              target_size = (360, 640))"
   ]
  },
  {
   "cell_type": "code",
   "execution_count": 7,
   "metadata": {
    "collapsed": false
   },
   "outputs": [
    {
     "name": "stdout",
     "output_type": "stream",
     "text": [
      "Found 3277 images belonging to 8 classes.\n",
      "Found 500 images belonging to 8 classes.\n",
      "Found 1000 images belonging to 1 classes.\n",
      "Found 12153 images belonging to 1 classes.\n"
     ]
    }
   ],
   "source": [
    "(trn_classes, val_classes, trn_labels, val_labels, trn_filenames, val_filenames, \n",
    " test_filenames, test2_filenames) = get_classes(path)"
   ]
  },
  {
   "cell_type": "code",
   "execution_count": 8,
   "metadata": {
    "collapsed": true
   },
   "outputs": [],
   "source": [
    "trn_raw_filenames = [f.split('/')[-1] for f in trn_filenames]\n",
    "val_raw_filenames = [f.split('/')[-1] for f in val_filenames]\n",
    "test_raw_filenames = [f.split('/')[-1] for f in test_filenames]\n",
    "test2_raw_filenames = [f.split('/')[-1] for f in test2_filenames]"
   ]
  },
  {
   "cell_type": "code",
   "execution_count": 9,
   "metadata": {
    "collapsed": true
   },
   "outputs": [],
   "source": [
    "#bcolz speeds up saving and loading np.array process\n",
    "def save_array(fname, arr):\n",
    "    c = bcolz.carray(arr, rootdir = fname, mode = 'w')\n",
    "    c.flush()"
   ]
  },
  {
   "cell_type": "code",
   "execution_count": 10,
   "metadata": {
    "collapsed": true
   },
   "outputs": [],
   "source": [
    "def load_array(fname):\n",
    "    return bcolz.open(fname)[:]"
   ]
  },
  {
   "cell_type": "markdown",
   "metadata": {},
   "source": [
    "## VGG model"
   ]
  },
  {
   "cell_type": "markdown",
   "metadata": {},
   "source": [
    "### Calculate convolutional features based on pre-trained model"
   ]
  },
  {
   "cell_type": "code",
   "execution_count": 11,
   "metadata": {
    "collapsed": true
   },
   "outputs": [],
   "source": [
    "vgg_mean = np.array([123.68, 116.779, 103.939], dtype = np.float32).reshape((3,1,1))\n",
    "def vgg_preprocess(x):\n",
    "    x = x - vgg_mean\n",
    "    return x[:, ::-1] # reverse axis rgb->bgr"
   ]
  },
  {
   "cell_type": "code",
   "execution_count": 12,
   "metadata": {
    "collapsed": true
   },
   "outputs": [],
   "source": [
    "#The VGG 16 Imagenet model with batch normalization for the dense layers\n",
    "class Vgg16BN():\n",
    "\n",
    "    def __init__(self, size = (224,224), include_top = True):\n",
    "        self.FILE_PATH = 'http://www.platform.ai/models/'\n",
    "        self.create(size, include_top)\n",
    "\n",
    "    def ConvBlock(self, layers, filters):\n",
    "        model = self.model\n",
    "        for i in range(layers):\n",
    "            model.add(ZeroPadding2D((1, 1)))\n",
    "            model.add(Convolution2D(filters, 3, 3, activation='relu'))\n",
    "        model.add(MaxPooling2D((2, 2), strides=(2, 2)))\n",
    "\n",
    "    def FCBlock(self):\n",
    "        model = self.model\n",
    "        model.add(Dense(4096, activation='relu'))\n",
    "        model.add(BatchNormalization())\n",
    "        model.add(Dropout(0.5))\n",
    "\n",
    "    def create(self, size, include_top):\n",
    "        if size != (224,224):\n",
    "            include_top = False\n",
    "\n",
    "        model = self.model = Sequential()\n",
    "        model.add(Lambda(vgg_preprocess, input_shape = (3,) + size, output_shape = (3,) + size))\n",
    "\n",
    "        self.ConvBlock(2, 64)\n",
    "        self.ConvBlock(2, 128)\n",
    "        self.ConvBlock(3, 256)\n",
    "        self.ConvBlock(3, 512)\n",
    "        self.ConvBlock(3, 512)\n",
    "\n",
    "        if not include_top:\n",
    "            fname = 'vgg16_bn_conv.h5'\n",
    "            model.load_weights(get_file(fname, self.FILE_PATH+fname, cache_subdir='models'))\n",
    "            return\n",
    "\n",
    "        model.add(Flatten())\n",
    "        self.FCBlock()\n",
    "        self.FCBlock()\n",
    "        model.add(Dense(1000, activation='softmax'))\n",
    "        \n",
    "        fname = 'vgg16_bn.h5'\n",
    "        model.load_weights(get_file(fname, self.FILE_PATH+fname, cache_subdir='models'))"
   ]
  },
  {
   "cell_type": "code",
   "execution_count": 13,
   "metadata": {
    "collapsed": false
   },
   "outputs": [],
   "source": [
    "vgg = Vgg16BN((360, 640)).model"
   ]
  },
  {
   "cell_type": "code",
   "execution_count": 14,
   "metadata": {
    "collapsed": true
   },
   "outputs": [],
   "source": [
    "vgg.pop()  #delete the last MaxPooling layer"
   ]
  },
  {
   "cell_type": "code",
   "execution_count": 15,
   "metadata": {
    "collapsed": true
   },
   "outputs": [],
   "source": [
    "vgg.compile(optimizer = Adam(), loss = 'categorical_crossentropy', metrics = ['accuracy'])"
   ]
  },
  {
   "cell_type": "code",
   "execution_count": 16,
   "metadata": {
    "collapsed": false
   },
   "outputs": [
    {
     "name": "stdout",
     "output_type": "stream",
     "text": [
      "____________________________________________________________________________________________________\n",
      "Layer (type)                     Output Shape          Param #     Connected to                     \n",
      "====================================================================================================\n",
      "lambda_1 (Lambda)                (None, 3, 360, 640)   0           lambda_input_1[0][0]             \n",
      "____________________________________________________________________________________________________\n",
      "zeropadding2d_1 (ZeroPadding2D)  (None, 3, 362, 642)   0           lambda_1[0][0]                   \n",
      "____________________________________________________________________________________________________\n",
      "convolution2d_1 (Convolution2D)  (None, 64, 360, 640)  1792        zeropadding2d_1[0][0]            \n",
      "____________________________________________________________________________________________________\n",
      "zeropadding2d_2 (ZeroPadding2D)  (None, 64, 362, 642)  0           convolution2d_1[0][0]            \n",
      "____________________________________________________________________________________________________\n",
      "convolution2d_2 (Convolution2D)  (None, 64, 360, 640)  36928       zeropadding2d_2[0][0]            \n",
      "____________________________________________________________________________________________________\n",
      "maxpooling2d_1 (MaxPooling2D)    (None, 64, 180, 320)  0           convolution2d_2[0][0]            \n",
      "____________________________________________________________________________________________________\n",
      "zeropadding2d_3 (ZeroPadding2D)  (None, 64, 182, 322)  0           maxpooling2d_1[0][0]             \n",
      "____________________________________________________________________________________________________\n",
      "convolution2d_3 (Convolution2D)  (None, 128, 180, 320) 73856       zeropadding2d_3[0][0]            \n",
      "____________________________________________________________________________________________________\n",
      "zeropadding2d_4 (ZeroPadding2D)  (None, 128, 182, 322) 0           convolution2d_3[0][0]            \n",
      "____________________________________________________________________________________________________\n",
      "convolution2d_4 (Convolution2D)  (None, 128, 180, 320) 147584      zeropadding2d_4[0][0]            \n",
      "____________________________________________________________________________________________________\n",
      "maxpooling2d_2 (MaxPooling2D)    (None, 128, 90, 160)  0           convolution2d_4[0][0]            \n",
      "____________________________________________________________________________________________________\n",
      "zeropadding2d_5 (ZeroPadding2D)  (None, 128, 92, 162)  0           maxpooling2d_2[0][0]             \n",
      "____________________________________________________________________________________________________\n",
      "convolution2d_5 (Convolution2D)  (None, 256, 90, 160)  295168      zeropadding2d_5[0][0]            \n",
      "____________________________________________________________________________________________________\n",
      "zeropadding2d_6 (ZeroPadding2D)  (None, 256, 92, 162)  0           convolution2d_5[0][0]            \n",
      "____________________________________________________________________________________________________\n",
      "convolution2d_6 (Convolution2D)  (None, 256, 90, 160)  590080      zeropadding2d_6[0][0]            \n",
      "____________________________________________________________________________________________________\n",
      "zeropadding2d_7 (ZeroPadding2D)  (None, 256, 92, 162)  0           convolution2d_6[0][0]            \n",
      "____________________________________________________________________________________________________\n",
      "convolution2d_7 (Convolution2D)  (None, 256, 90, 160)  590080      zeropadding2d_7[0][0]            \n",
      "____________________________________________________________________________________________________\n",
      "maxpooling2d_3 (MaxPooling2D)    (None, 256, 45, 80)   0           convolution2d_7[0][0]            \n",
      "____________________________________________________________________________________________________\n",
      "zeropadding2d_8 (ZeroPadding2D)  (None, 256, 47, 82)   0           maxpooling2d_3[0][0]             \n",
      "____________________________________________________________________________________________________\n",
      "convolution2d_8 (Convolution2D)  (None, 512, 45, 80)   1180160     zeropadding2d_8[0][0]            \n",
      "____________________________________________________________________________________________________\n",
      "zeropadding2d_9 (ZeroPadding2D)  (None, 512, 47, 82)   0           convolution2d_8[0][0]            \n",
      "____________________________________________________________________________________________________\n",
      "convolution2d_9 (Convolution2D)  (None, 512, 45, 80)   2359808     zeropadding2d_9[0][0]            \n",
      "____________________________________________________________________________________________________\n",
      "zeropadding2d_10 (ZeroPadding2D) (None, 512, 47, 82)   0           convolution2d_9[0][0]            \n",
      "____________________________________________________________________________________________________\n",
      "convolution2d_10 (Convolution2D) (None, 512, 45, 80)   2359808     zeropadding2d_10[0][0]           \n",
      "____________________________________________________________________________________________________\n",
      "maxpooling2d_4 (MaxPooling2D)    (None, 512, 22, 40)   0           convolution2d_10[0][0]           \n",
      "____________________________________________________________________________________________________\n",
      "zeropadding2d_11 (ZeroPadding2D) (None, 512, 24, 42)   0           maxpooling2d_4[0][0]             \n",
      "____________________________________________________________________________________________________\n",
      "convolution2d_11 (Convolution2D) (None, 512, 22, 40)   2359808     zeropadding2d_11[0][0]           \n",
      "____________________________________________________________________________________________________\n",
      "zeropadding2d_12 (ZeroPadding2D) (None, 512, 24, 42)   0           convolution2d_11[0][0]           \n",
      "____________________________________________________________________________________________________\n",
      "convolution2d_12 (Convolution2D) (None, 512, 22, 40)   2359808     zeropadding2d_12[0][0]           \n",
      "____________________________________________________________________________________________________\n",
      "zeropadding2d_13 (ZeroPadding2D) (None, 512, 24, 42)   0           convolution2d_12[0][0]           \n",
      "____________________________________________________________________________________________________\n",
      "convolution2d_13 (Convolution2D) (None, 512, 22, 40)   2359808     zeropadding2d_13[0][0]           \n",
      "====================================================================================================\n",
      "Total params: 14714688\n",
      "____________________________________________________________________________________________________\n"
     ]
    }
   ],
   "source": [
    "vgg.summary()"
   ]
  },
  {
   "cell_type": "code",
   "execution_count": null,
   "metadata": {
    "collapsed": false
   },
   "outputs": [],
   "source": [
    "conv_trn_feat = vgg.predict_generator(trn_batches, trn_batches.nb_sample)"
   ]
  },
  {
   "cell_type": "code",
   "execution_count": null,
   "metadata": {
    "collapsed": true
   },
   "outputs": [],
   "source": [
    "conv_val_feat = vgg.predict_generator(val_batches, val_batches.nb_sample)"
   ]
  },
  {
   "cell_type": "code",
   "execution_count": null,
   "metadata": {
    "collapsed": false
   },
   "outputs": [],
   "source": [
    "conv_test_feat = vgg.predict_generator(test_batches, test_batches.nb_sample)"
   ]
  },
  {
   "cell_type": "code",
   "execution_count": 22,
   "metadata": {
    "collapsed": false
   },
   "outputs": [],
   "source": [
    "conv_test2_feat = vgg.predict_generator(test2_batches, test2_batches.nb_sample)"
   ]
  },
  {
   "cell_type": "code",
   "execution_count": null,
   "metadata": {
    "collapsed": false
   },
   "outputs": [],
   "source": [
    "save_array(path+'results/conv_trn_feat.dat', conv_trn_feat)"
   ]
  },
  {
   "cell_type": "code",
   "execution_count": null,
   "metadata": {
    "collapsed": true
   },
   "outputs": [],
   "source": [
    "save_array(path+'results/conv_val_feat.dat', conv_val_feat)"
   ]
  },
  {
   "cell_type": "code",
   "execution_count": null,
   "metadata": {
    "collapsed": true
   },
   "outputs": [],
   "source": [
    "save_array(path+'results/conv_test_feat.dat', conv_test_feat)"
   ]
  },
  {
   "cell_type": "code",
   "execution_count": 25,
   "metadata": {
    "collapsed": true
   },
   "outputs": [],
   "source": [
    "save_array(path+'results/conv_test2_feat.dat', conv_test2_feat)"
   ]
  },
  {
   "cell_type": "code",
   "execution_count": 17,
   "metadata": {
    "collapsed": false
   },
   "outputs": [],
   "source": [
    "conv_trn_feat = load_array(path+'results/conv_trn_feat.dat')"
   ]
  },
  {
   "cell_type": "code",
   "execution_count": 18,
   "metadata": {
    "collapsed": true
   },
   "outputs": [],
   "source": [
    "conv_val_feat = load_array(path+'results/conv_val_feat.dat')"
   ]
  },
  {
   "cell_type": "code",
   "execution_count": 19,
   "metadata": {
    "collapsed": true
   },
   "outputs": [],
   "source": [
    "conv_test_feat = load_array(path+'results/conv_test_feat.dat')"
   ]
  },
  {
   "cell_type": "code",
   "execution_count": 20,
   "metadata": {
    "collapsed": true
   },
   "outputs": [],
   "source": [
    "conv_test2_feat = load_array(path+'results/conv_test2_feat.dat')"
   ]
  },
  {
   "cell_type": "code",
   "execution_count": null,
   "metadata": {
    "collapsed": true
   },
   "outputs": [],
   "source": [
    "#training data augmentation\n",
    "#conv_trn_aug_feat = vgg.predict_generator(trn_aug_batches, trn_aug_batches.nb_sample * 5)\n",
    "#save_array(path+'results/conv_trn_aug_feat.dat', conv_trn_aug_feat)\n",
    "#conv_trn_aug_feat = load_array(path+'results/conv_trn_aug_feat.dat')"
   ]
  },
  {
   "cell_type": "code",
   "execution_count": null,
   "metadata": {
    "collapsed": false
   },
   "outputs": [],
   "source": [
    "#training data augmentation\n",
    "#conv_trn_feat = np.concatenate([conv_trn_feat, conv_trn_aug_feat[:3277*3, :, :, :]])\n",
    "#trn_labels = np.concatenate([trn_labels] * 4)\n",
    "#del conv_trn_aug_feat"
   ]
  },
  {
   "cell_type": "code",
   "execution_count": 21,
   "metadata": {
    "collapsed": false
   },
   "outputs": [
    {
     "data": {
      "text/plain": [
       "((3277, 512, 22, 40), (500, 512, 22, 40))"
      ]
     },
     "execution_count": 21,
     "metadata": {},
     "output_type": "execute_result"
    }
   ],
   "source": [
    "conv_trn_feat.shape, conv_val_feat.shape"
   ]
  },
  {
   "cell_type": "code",
   "execution_count": 22,
   "metadata": {
    "collapsed": false
   },
   "outputs": [
    {
     "data": {
      "text/plain": [
       "((1000, 512, 22, 40), (12153, 512, 22, 40))"
      ]
     },
     "execution_count": 22,
     "metadata": {},
     "output_type": "execute_result"
    }
   ],
   "source": [
    "conv_test_feat.shape, conv_test2_feat.shape"
   ]
  },
  {
   "cell_type": "markdown",
   "metadata": {},
   "source": [
    "### Train on fully-convolutional network"
   ]
  },
  {
   "cell_type": "code",
   "execution_count": 23,
   "metadata": {
    "collapsed": false
   },
   "outputs": [
    {
     "data": {
      "text/plain": [
       "(512, 22, 40)"
      ]
     },
     "execution_count": 23,
     "metadata": {},
     "output_type": "execute_result"
    }
   ],
   "source": [
    "vgg.layers[-1].output_shape[1:]"
   ]
  },
  {
   "cell_type": "code",
   "execution_count": 24,
   "metadata": {
    "collapsed": false
   },
   "outputs": [
    {
     "name": "stdout",
     "output_type": "stream",
     "text": [
      "th\n"
     ]
    }
   ],
   "source": [
    "model = Sequential([\n",
    "        BatchNormalization(axis = 1, input_shape = vgg.layers[-1].output_shape[1:]),\n",
    "        Convolution2D(128, 3, 3, activation = 'relu', border_mode = 'same'),\n",
    "        BatchNormalization(axis = 1),\n",
    "        MaxPooling2D(),\n",
    "        Convolution2D(128, 3, 3, activation = 'relu', border_mode = 'same'),\n",
    "        BatchNormalization(axis = 1),\n",
    "        MaxPooling2D(),\n",
    "        Convolution2D(128, 3, 3, activation = 'relu', border_mode = 'same'),\n",
    "        BatchNormalization(axis = 1),\n",
    "        MaxPooling2D((1, 2)),\n",
    "        Convolution2D(8, 3, 3, border_mode = 'same'),\n",
    "        GlobalAveragePooling2D(),\n",
    "        Activation('softmax')\n",
    "    ])"
   ]
  },
  {
   "cell_type": "code",
   "execution_count": 25,
   "metadata": {
    "collapsed": true
   },
   "outputs": [],
   "source": [
    "model.compile(optimizer = Adam(lr=1e-3), loss = 'categorical_crossentropy', metrics = ['accuracy'])"
   ]
  },
  {
   "cell_type": "code",
   "execution_count": 26,
   "metadata": {
    "collapsed": false
   },
   "outputs": [
    {
     "name": "stdout",
     "output_type": "stream",
     "text": [
      "____________________________________________________________________________________________________\n",
      "Layer (type)                     Output Shape          Param #     Connected to                     \n",
      "====================================================================================================\n",
      "batchnormalization_1 (BatchNormal(None, 512, 22, 40)   1024        batchnormalization_input_1[0][0] \n",
      "____________________________________________________________________________________________________\n",
      "convolution2d_14 (Convolution2D) (None, 128, 22, 40)   589952      batchnormalization_1[0][0]       \n",
      "____________________________________________________________________________________________________\n",
      "batchnormalization_2 (BatchNormal(None, 128, 22, 40)   256         convolution2d_14[0][0]           \n",
      "____________________________________________________________________________________________________\n",
      "maxpooling2d_6 (MaxPooling2D)    (None, 128, 11, 20)   0           batchnormalization_2[0][0]       \n",
      "____________________________________________________________________________________________________\n",
      "convolution2d_15 (Convolution2D) (None, 128, 11, 20)   147584      maxpooling2d_6[0][0]             \n",
      "____________________________________________________________________________________________________\n",
      "batchnormalization_3 (BatchNormal(None, 128, 11, 20)   256         convolution2d_15[0][0]           \n",
      "____________________________________________________________________________________________________\n",
      "maxpooling2d_7 (MaxPooling2D)    (None, 128, 5, 10)    0           batchnormalization_3[0][0]       \n",
      "____________________________________________________________________________________________________\n",
      "convolution2d_16 (Convolution2D) (None, 128, 5, 10)    147584      maxpooling2d_7[0][0]             \n",
      "____________________________________________________________________________________________________\n",
      "batchnormalization_4 (BatchNormal(None, 128, 5, 10)    256         convolution2d_16[0][0]           \n",
      "____________________________________________________________________________________________________\n",
      "maxpooling2d_8 (MaxPooling2D)    (None, 128, 5, 5)     0           batchnormalization_4[0][0]       \n",
      "____________________________________________________________________________________________________\n",
      "convolution2d_17 (Convolution2D) (None, 8, 5, 5)       9224        maxpooling2d_8[0][0]             \n",
      "____________________________________________________________________________________________________\n",
      "globalaveragepooling2d_1 (GlobalA(None, 8)             0           convolution2d_17[0][0]           \n",
      "____________________________________________________________________________________________________\n",
      "activation_1 (Activation)        (None, 8)             0           globalaveragepooling2d_1[0][0]   \n",
      "====================================================================================================\n",
      "Total params: 896136\n",
      "____________________________________________________________________________________________________\n"
     ]
    }
   ],
   "source": [
    "model.summary()"
   ]
  },
  {
   "cell_type": "code",
   "execution_count": 27,
   "metadata": {
    "collapsed": true
   },
   "outputs": [],
   "source": [
    "batch_size = 64"
   ]
  },
  {
   "cell_type": "code",
   "execution_count": 28,
   "metadata": {
    "collapsed": false
   },
   "outputs": [
    {
     "name": "stdout",
     "output_type": "stream",
     "text": [
      "Train on 3277 samples, validate on 500 samples\n",
      "Epoch 1/2\n",
      "3277/3277 [==============================] - 16s - loss: 0.6890 - acc: 0.7870 - val_loss: 0.9690 - val_acc: 0.7280\n",
      "Epoch 2/2\n",
      "3277/3277 [==============================] - 16s - loss: 0.1329 - acc: 0.9628 - val_loss: 0.3531 - val_acc: 0.8940\n"
     ]
    },
    {
     "data": {
      "text/plain": [
       "<keras.callbacks.History at 0x7ef6146a45d0>"
      ]
     },
     "execution_count": 28,
     "metadata": {},
     "output_type": "execute_result"
    }
   ],
   "source": [
    "model.fit(conv_trn_feat, trn_labels, batch_size = batch_size, nb_epoch = 2, \n",
    "          validation_data = (conv_val_feat, val_labels))"
   ]
  },
  {
   "cell_type": "code",
   "execution_count": 29,
   "metadata": {
    "collapsed": true
   },
   "outputs": [],
   "source": [
    "model.optimizer.lr = 1e-5"
   ]
  },
  {
   "cell_type": "code",
   "execution_count": 30,
   "metadata": {
    "collapsed": false
   },
   "outputs": [
    {
     "name": "stdout",
     "output_type": "stream",
     "text": [
      "Train on 3277 samples, validate on 500 samples\n",
      "Epoch 1/6\n",
      "3277/3277 [==============================] - 17s - loss: 0.0394 - acc: 0.9896 - val_loss: 0.1359 - val_acc: 0.9760\n",
      "Epoch 2/6\n",
      "3277/3277 [==============================] - 16s - loss: 0.0122 - acc: 0.9985 - val_loss: 0.1046 - val_acc: 0.9780\n",
      "Epoch 3/6\n",
      "3277/3277 [==============================] - 16s - loss: 0.0047 - acc: 0.9988 - val_loss: 0.1238 - val_acc: 0.9680\n",
      "Epoch 4/6\n",
      "3277/3277 [==============================] - 16s - loss: 0.0024 - acc: 0.9997 - val_loss: 0.0949 - val_acc: 0.9720\n",
      "Epoch 5/6\n",
      "3277/3277 [==============================] - 17s - loss: 0.0012 - acc: 1.0000 - val_loss: 0.0937 - val_acc: 0.9760\n",
      "Epoch 6/6\n",
      "3277/3277 [==============================] - 17s - loss: 5.9466e-04 - acc: 1.0000 - val_loss: 0.0896 - val_acc: 0.9800\n"
     ]
    },
    {
     "data": {
      "text/plain": [
       "<keras.callbacks.History at 0x7efd3d16bf10>"
      ]
     },
     "execution_count": 30,
     "metadata": {},
     "output_type": "execute_result"
    }
   ],
   "source": [
    "model.fit(conv_trn_feat, trn_labels, batch_size = batch_size, nb_epoch = 6, \n",
    "          validation_data = (conv_val_feat, val_labels))"
   ]
  },
  {
   "cell_type": "markdown",
   "metadata": {},
   "source": [
    "### Conduct model ensemble based on entire training set"
   ]
  },
  {
   "cell_type": "code",
   "execution_count": 31,
   "metadata": {
    "collapsed": true
   },
   "outputs": [],
   "source": [
    "conv_ens_feat = np.concatenate((conv_trn_feat, conv_val_feat), axis = 0)"
   ]
  },
  {
   "cell_type": "code",
   "execution_count": 32,
   "metadata": {
    "collapsed": true
   },
   "outputs": [],
   "source": [
    "ens_labels = np.concatenate((trn_labels, val_labels), axis = 0)"
   ]
  },
  {
   "cell_type": "code",
   "execution_count": 33,
   "metadata": {
    "collapsed": false
   },
   "outputs": [
    {
     "data": {
      "text/plain": [
       "((3777, 512, 22, 40), (3777, 8))"
      ]
     },
     "execution_count": 33,
     "metadata": {},
     "output_type": "execute_result"
    }
   ],
   "source": [
    "conv_ens_feat.shape, ens_labels.shape"
   ]
  },
  {
   "cell_type": "code",
   "execution_count": 34,
   "metadata": {
    "collapsed": true
   },
   "outputs": [],
   "source": [
    "def fully_conv(i):\n",
    "    model = Sequential([\n",
    "        BatchNormalization(axis = 1, input_shape = vgg.layers[-1].output_shape[1:]),\n",
    "        Convolution2D(128, 3, 3, activation = 'relu', border_mode = 'same'),\n",
    "        BatchNormalization(axis = 1),\n",
    "        MaxPooling2D(),\n",
    "        Convolution2D(128, 3, 3, activation = 'relu', border_mode = 'same'),\n",
    "        BatchNormalization(axis = 1),\n",
    "        MaxPooling2D(),\n",
    "        Convolution2D(128, 3, 3, activation = 'relu', border_mode = 'same'),\n",
    "        BatchNormalization(axis = 1),\n",
    "        MaxPooling2D((1, 2)),\n",
    "        Convolution2D(8, 3, 3, border_mode = 'same'),\n",
    "        GlobalAveragePooling2D(),\n",
    "        Activation('softmax')\n",
    "    ])\n",
    "    model.compile(optimizer = Adam(lr=1e-3), loss = 'categorical_crossentropy', metrics = ['accuracy'])\n",
    "    model.fit(conv_ens_feat, ens_labels, batch_size = batch_size, nb_epoch = 2)\n",
    "    model.optimizer.lr = 1e-5\n",
    "    model.fit(conv_ens_feat, ens_labels, batch_size = batch_size, nb_epoch = 6)\n",
    "    model.save_weights(path+'models/vgg_'+str(i)+'.h5')"
   ]
  },
  {
   "cell_type": "code",
   "execution_count": null,
   "metadata": {
    "collapsed": false
   },
   "outputs": [
    {
     "name": "stdout",
     "output_type": "stream",
     "text": [
      "Training model 0\n",
      "th\n",
      "Epoch 1/2\n",
      "3777/3777 [==============================] - 17s - loss: 0.5805 - acc: 0.8155    \n",
      "Epoch 2/2\n",
      "3777/3777 [==============================] - 17s - loss: 0.1415 - acc: 0.9603    \n",
      "Epoch 1/6\n",
      "1984/3777 [==============>...............] - ETA: 8s - loss: 0.0904 - acc: 0.9803"
     ]
    }
   ],
   "source": [
    "for i in range(100):\n",
    "    print('Training model {}'.format(i))\n",
    "    fully_conv(i)"
   ]
  },
  {
   "cell_type": "code",
   "execution_count": 43,
   "metadata": {
    "collapsed": false
   },
   "outputs": [
    {
     "name": "stdout",
     "output_type": "stream",
     "text": [
      "Finish predicting 10 samples\n",
      "Finish predicting 20 samples\n",
      "Finish predicting 30 samples\n",
      "Finish predicting 40 samples\n",
      "Finish predicting 50 samples\n",
      "Finish predicting 60 samples\n",
      "Finish predicting 70 samples\n",
      "Finish predicting 80 samples\n",
      "Finish predicting 90 samples\n",
      "Finish predicting 100 samples\n"
     ]
    }
   ],
   "source": [
    "#Predict test data from test_stg1\n",
    "preds_ens = []\n",
    "for i in range(100):\n",
    "    model.load_weights(path+'models/vgg_'+str(i)+'.h5')\n",
    "    preds_ens.append(model.predict(conv_test_feat, batch_size = batch_size))\n",
    "    if i % 10 == 9:\n",
    "        print('Finish predicting {} samples'.format(i+1))"
   ]
  },
  {
   "cell_type": "code",
   "execution_count": 38,
   "metadata": {
    "collapsed": false
   },
   "outputs": [
    {
     "name": "stdout",
     "output_type": "stream",
     "text": [
      "Finish predicting 10 samples\n",
      "Finish predicting 20 samples\n",
      "Finish predicting 30 samples\n",
      "Finish predicting 40 samples\n",
      "Finish predicting 50 samples\n",
      "Finish predicting 60 samples\n",
      "Finish predicting 70 samples\n",
      "Finish predicting 80 samples\n",
      "Finish predicting 90 samples\n",
      "Finish predicting 100 samples\n"
     ]
    }
   ],
   "source": [
    "#Predict test data from test_stg2\n",
    "preds2_ens = []\n",
    "for i in range(100):\n",
    "    model.load_weights(path+'models/vgg_all_'+str(i)+'.h5')\n",
    "    preds2_ens.append(model.predict(conv_test2_feat, batch_size = batch_size))\n",
    "    if i % 10 == 9:\n",
    "        print('Finish predicting {} samples'.format(i+1))"
   ]
  },
  {
   "cell_type": "code",
   "execution_count": 44,
   "metadata": {
    "collapsed": false
   },
   "outputs": [
    {
     "data": {
      "text/plain": [
       "(100, 1000, 8)"
      ]
     },
     "execution_count": 44,
     "metadata": {},
     "output_type": "execute_result"
    }
   ],
   "source": [
    "preds_ens_vgg = np.stack(preds_ens)\n",
    "preds_ens_vgg.shape"
   ]
  },
  {
   "cell_type": "code",
   "execution_count": 45,
   "metadata": {
    "collapsed": true
   },
   "outputs": [],
   "source": [
    "save_array(path+'results/preds_ens_vgg.dat', preds_ens_vgg)"
   ]
  },
  {
   "cell_type": "code",
   "execution_count": 39,
   "metadata": {
    "collapsed": false
   },
   "outputs": [
    {
     "data": {
      "text/plain": [
       "(100, 12153, 8)"
      ]
     },
     "execution_count": 39,
     "metadata": {},
     "output_type": "execute_result"
    }
   ],
   "source": [
    "preds2_ens_vgg = np.stack(preds2_ens)\n",
    "preds2_ens_vgg.shape"
   ]
  },
  {
   "cell_type": "code",
   "execution_count": 40,
   "metadata": {
    "collapsed": true
   },
   "outputs": [],
   "source": [
    "save_array(path+'results/preds2_ens_vgg.dat', preds2_ens_vgg)"
   ]
  },
  {
   "cell_type": "markdown",
   "metadata": {},
   "source": [
    "## ResNet model"
   ]
  },
  {
   "cell_type": "markdown",
   "metadata": {},
   "source": [
    "### Calculate convolutional features based on pre-trained model"
   ]
  },
  {
   "cell_type": "code",
   "execution_count": 35,
   "metadata": {
    "collapsed": true
   },
   "outputs": [],
   "source": [
    "# The Resnet 50 Imagenet model\n",
    "class Resnet50():\n",
    "\n",
    "    def __init__(self, size=(224,224), include_top=True):\n",
    "        self.FILE_PATH = 'http://www.platform.ai/models/'\n",
    "        self.vgg_mean = np.array([123.68, 116.779, 103.939]).reshape((3,1,1))\n",
    "        self.create(size, include_top)\n",
    "\n",
    "    def vgg_preprocess(self, x):\n",
    "        x = x - self.vgg_mean\n",
    "        return x[:, ::-1] # reverse axis bgr->rgb\n",
    "\n",
    "    def create(self, size, include_top):\n",
    "        input_shape = (3,)+size\n",
    "        img_input = Input(shape=input_shape)\n",
    "        bn_axis = 1\n",
    "\n",
    "        x = Lambda(self.vgg_preprocess)(img_input)\n",
    "        x = ZeroPadding2D((3, 3))(x)\n",
    "        x = Convolution2D(64, 7, 7, subsample=(2, 2), name='conv1')(x)\n",
    "        x = BatchNormalization(axis=bn_axis, name='bn_conv1')(x)\n",
    "        x = Activation('relu')(x)\n",
    "        x = MaxPooling2D((3, 3), strides=(2, 2))(x)\n",
    "\n",
    "        x = conv_block(x, 3, [64, 64, 256], stage=2, block='a', strides=(1, 1))\n",
    "        x = identity_block(x, 3, [64, 64, 256], stage=2, block='b')\n",
    "        x = identity_block(x, 3, [64, 64, 256], stage=2, block='c')\n",
    "\n",
    "        x = conv_block(x, 3, [128, 128, 512], stage=3, block='a')\n",
    "        for n in ['b','c','d']: x = identity_block(x, 3, [128, 128, 512], stage=3, block=n)\n",
    "        x = conv_block(x, 3, [256, 256, 1024], stage=4, block='a')\n",
    "        for n in ['b','c','d', 'e', 'f']: x = identity_block(x, 3, [256, 256, 1024], stage=4, block=n)\n",
    "\n",
    "        x = conv_block(x, 3, [512, 512, 2048], stage=5, block='a')\n",
    "        x = identity_block(x, 3, [512, 512, 2048], stage=5, block='b')\n",
    "        x = identity_block(x, 3, [512, 512, 2048], stage=5, block='c')\n",
    "\n",
    "        if include_top:\n",
    "            x = AveragePooling2D((7, 7), name='avg_pool')(x)\n",
    "            x = Flatten()(x)\n",
    "            x = Dense(1000, activation='softmax', name='fc1000')(x)\n",
    "            fname = 'resnet50.h5'\n",
    "        else:\n",
    "            fname = 'resnet_nt.h5'\n",
    "\n",
    "        self.img_input = img_input\n",
    "        self.model = Model(self.img_input, x)\n",
    "        convert_all_kernels_in_model(self.model)\n",
    "        self.model.load_weights(get_file(fname, self.FILE_PATH+fname, cache_subdir='models'))"
   ]
  },
  {
   "cell_type": "code",
   "execution_count": 36,
   "metadata": {
    "collapsed": false
   },
   "outputs": [],
   "source": [
    "resnet = Resnet50(size = (360, 640), include_top = False).model"
   ]
  },
  {
   "cell_type": "code",
   "execution_count": 37,
   "metadata": {
    "collapsed": true
   },
   "outputs": [],
   "source": [
    "resnet.compile(optimizer = Adam(), loss = 'categorical_crossentropy', metrics = ['accuracy'])"
   ]
  },
  {
   "cell_type": "code",
   "execution_count": 38,
   "metadata": {
    "collapsed": false
   },
   "outputs": [
    {
     "name": "stdout",
     "output_type": "stream",
     "text": [
      "____________________________________________________________________________________________________\n",
      "Layer (type)                     Output Shape          Param #     Connected to                     \n",
      "====================================================================================================\n",
      "input_1 (InputLayer)             (None, 3, 360, 640)   0                                            \n",
      "____________________________________________________________________________________________________\n",
      "lambda_2 (Lambda)                (None, 3, 360, 640)   0           input_1[0][0]                    \n",
      "____________________________________________________________________________________________________\n",
      "zeropadding2d_14 (ZeroPadding2D) (None, 3, 366, 646)   0           lambda_2[0][0]                   \n",
      "____________________________________________________________________________________________________\n",
      "conv1 (Convolution2D)            (None, 64, 180, 320)  9472        zeropadding2d_14[0][0]           \n",
      "____________________________________________________________________________________________________\n",
      "bn_conv1 (BatchNormalization)    (None, 64, 180, 320)  128         conv1[0][0]                      \n",
      "____________________________________________________________________________________________________\n",
      "activation_2 (Activation)        (None, 64, 180, 320)  0           bn_conv1[0][0]                   \n",
      "____________________________________________________________________________________________________\n",
      "maxpooling2d_9 (MaxPooling2D)    (None, 64, 89, 159)   0           activation_2[0][0]               \n",
      "____________________________________________________________________________________________________\n",
      "res2a_branch2a (Convolution2D)   (None, 64, 89, 159)   4160        maxpooling2d_9[0][0]             \n",
      "____________________________________________________________________________________________________\n",
      "bn2a_branch2a (BatchNormalization(None, 64, 89, 159)   128         res2a_branch2a[0][0]             \n",
      "____________________________________________________________________________________________________\n",
      "activation_3 (Activation)        (None, 64, 89, 159)   0           bn2a_branch2a[0][0]              \n",
      "____________________________________________________________________________________________________\n",
      "res2a_branch2b (Convolution2D)   (None, 64, 89, 159)   36928       activation_3[0][0]               \n",
      "____________________________________________________________________________________________________\n",
      "bn2a_branch2b (BatchNormalization(None, 64, 89, 159)   128         res2a_branch2b[0][0]             \n",
      "____________________________________________________________________________________________________\n",
      "activation_4 (Activation)        (None, 64, 89, 159)   0           bn2a_branch2b[0][0]              \n",
      "____________________________________________________________________________________________________\n",
      "res2a_branch2c (Convolution2D)   (None, 256, 89, 159)  16640       activation_4[0][0]               \n",
      "____________________________________________________________________________________________________\n",
      "res2a_branch1 (Convolution2D)    (None, 256, 89, 159)  16640       maxpooling2d_9[0][0]             \n",
      "____________________________________________________________________________________________________\n",
      "bn2a_branch2c (BatchNormalization(None, 256, 89, 159)  512         res2a_branch2c[0][0]             \n",
      "____________________________________________________________________________________________________\n",
      "bn2a_branch1 (BatchNormalization)(None, 256, 89, 159)  512         res2a_branch1[0][0]              \n",
      "____________________________________________________________________________________________________\n",
      "merge_1 (Merge)                  (None, 256, 89, 159)  0           bn2a_branch2c[0][0]              \n",
      "                                                                   bn2a_branch1[0][0]               \n",
      "____________________________________________________________________________________________________\n",
      "activation_5 (Activation)        (None, 256, 89, 159)  0           merge_1[0][0]                    \n",
      "____________________________________________________________________________________________________\n",
      "res2b_branch2a (Convolution2D)   (None, 64, 89, 159)   16448       activation_5[0][0]               \n",
      "____________________________________________________________________________________________________\n",
      "bn2b_branch2a (BatchNormalization(None, 64, 89, 159)   128         res2b_branch2a[0][0]             \n",
      "____________________________________________________________________________________________________\n",
      "activation_6 (Activation)        (None, 64, 89, 159)   0           bn2b_branch2a[0][0]              \n",
      "____________________________________________________________________________________________________\n",
      "res2b_branch2b (Convolution2D)   (None, 64, 89, 159)   36928       activation_6[0][0]               \n",
      "____________________________________________________________________________________________________\n",
      "bn2b_branch2b (BatchNormalization(None, 64, 89, 159)   128         res2b_branch2b[0][0]             \n",
      "____________________________________________________________________________________________________\n",
      "activation_7 (Activation)        (None, 64, 89, 159)   0           bn2b_branch2b[0][0]              \n",
      "____________________________________________________________________________________________________\n",
      "res2b_branch2c (Convolution2D)   (None, 256, 89, 159)  16640       activation_7[0][0]               \n",
      "____________________________________________________________________________________________________\n",
      "bn2b_branch2c (BatchNormalization(None, 256, 89, 159)  512         res2b_branch2c[0][0]             \n",
      "____________________________________________________________________________________________________\n",
      "merge_2 (Merge)                  (None, 256, 89, 159)  0           bn2b_branch2c[0][0]              \n",
      "                                                                   activation_5[0][0]               \n",
      "____________________________________________________________________________________________________\n",
      "activation_8 (Activation)        (None, 256, 89, 159)  0           merge_2[0][0]                    \n",
      "____________________________________________________________________________________________________\n",
      "res2c_branch2a (Convolution2D)   (None, 64, 89, 159)   16448       activation_8[0][0]               \n",
      "____________________________________________________________________________________________________\n",
      "bn2c_branch2a (BatchNormalization(None, 64, 89, 159)   128         res2c_branch2a[0][0]             \n",
      "____________________________________________________________________________________________________\n",
      "activation_9 (Activation)        (None, 64, 89, 159)   0           bn2c_branch2a[0][0]              \n",
      "____________________________________________________________________________________________________\n",
      "res2c_branch2b (Convolution2D)   (None, 64, 89, 159)   36928       activation_9[0][0]               \n",
      "____________________________________________________________________________________________________\n",
      "bn2c_branch2b (BatchNormalization(None, 64, 89, 159)   128         res2c_branch2b[0][0]             \n",
      "____________________________________________________________________________________________________\n",
      "activation_10 (Activation)       (None, 64, 89, 159)   0           bn2c_branch2b[0][0]              \n",
      "____________________________________________________________________________________________________\n",
      "res2c_branch2c (Convolution2D)   (None, 256, 89, 159)  16640       activation_10[0][0]              \n",
      "____________________________________________________________________________________________________\n",
      "bn2c_branch2c (BatchNormalization(None, 256, 89, 159)  512         res2c_branch2c[0][0]             \n",
      "____________________________________________________________________________________________________\n",
      "merge_3 (Merge)                  (None, 256, 89, 159)  0           bn2c_branch2c[0][0]              \n",
      "                                                                   activation_8[0][0]               \n",
      "____________________________________________________________________________________________________\n",
      "activation_11 (Activation)       (None, 256, 89, 159)  0           merge_3[0][0]                    \n",
      "____________________________________________________________________________________________________\n",
      "res3a_branch2a (Convolution2D)   (None, 128, 45, 80)   32896       activation_11[0][0]              \n",
      "____________________________________________________________________________________________________\n",
      "bn3a_branch2a (BatchNormalization(None, 128, 45, 80)   256         res3a_branch2a[0][0]             \n",
      "____________________________________________________________________________________________________\n",
      "activation_12 (Activation)       (None, 128, 45, 80)   0           bn3a_branch2a[0][0]              \n",
      "____________________________________________________________________________________________________\n",
      "res3a_branch2b (Convolution2D)   (None, 128, 45, 80)   147584      activation_12[0][0]              \n",
      "____________________________________________________________________________________________________\n",
      "bn3a_branch2b (BatchNormalization(None, 128, 45, 80)   256         res3a_branch2b[0][0]             \n",
      "____________________________________________________________________________________________________\n",
      "activation_13 (Activation)       (None, 128, 45, 80)   0           bn3a_branch2b[0][0]              \n",
      "____________________________________________________________________________________________________\n",
      "res3a_branch2c (Convolution2D)   (None, 512, 45, 80)   66048       activation_13[0][0]              \n",
      "____________________________________________________________________________________________________\n",
      "res3a_branch1 (Convolution2D)    (None, 512, 45, 80)   131584      activation_11[0][0]              \n",
      "____________________________________________________________________________________________________\n",
      "bn3a_branch2c (BatchNormalization(None, 512, 45, 80)   1024        res3a_branch2c[0][0]             \n",
      "____________________________________________________________________________________________________\n",
      "bn3a_branch1 (BatchNormalization)(None, 512, 45, 80)   1024        res3a_branch1[0][0]              \n",
      "____________________________________________________________________________________________________\n",
      "merge_4 (Merge)                  (None, 512, 45, 80)   0           bn3a_branch2c[0][0]              \n",
      "                                                                   bn3a_branch1[0][0]               \n",
      "____________________________________________________________________________________________________\n",
      "activation_14 (Activation)       (None, 512, 45, 80)   0           merge_4[0][0]                    \n",
      "____________________________________________________________________________________________________\n",
      "res3b_branch2a (Convolution2D)   (None, 128, 45, 80)   65664       activation_14[0][0]              \n",
      "____________________________________________________________________________________________________\n",
      "bn3b_branch2a (BatchNormalization(None, 128, 45, 80)   256         res3b_branch2a[0][0]             \n",
      "____________________________________________________________________________________________________\n",
      "activation_15 (Activation)       (None, 128, 45, 80)   0           bn3b_branch2a[0][0]              \n",
      "____________________________________________________________________________________________________\n",
      "res3b_branch2b (Convolution2D)   (None, 128, 45, 80)   147584      activation_15[0][0]              \n",
      "____________________________________________________________________________________________________\n",
      "bn3b_branch2b (BatchNormalization(None, 128, 45, 80)   256         res3b_branch2b[0][0]             \n",
      "____________________________________________________________________________________________________\n",
      "activation_16 (Activation)       (None, 128, 45, 80)   0           bn3b_branch2b[0][0]              \n",
      "____________________________________________________________________________________________________\n",
      "res3b_branch2c (Convolution2D)   (None, 512, 45, 80)   66048       activation_16[0][0]              \n",
      "____________________________________________________________________________________________________\n",
      "bn3b_branch2c (BatchNormalization(None, 512, 45, 80)   1024        res3b_branch2c[0][0]             \n",
      "____________________________________________________________________________________________________\n",
      "merge_5 (Merge)                  (None, 512, 45, 80)   0           bn3b_branch2c[0][0]              \n",
      "                                                                   activation_14[0][0]              \n",
      "____________________________________________________________________________________________________\n",
      "activation_17 (Activation)       (None, 512, 45, 80)   0           merge_5[0][0]                    \n",
      "____________________________________________________________________________________________________\n",
      "res3c_branch2a (Convolution2D)   (None, 128, 45, 80)   65664       activation_17[0][0]              \n",
      "____________________________________________________________________________________________________\n",
      "bn3c_branch2a (BatchNormalization(None, 128, 45, 80)   256         res3c_branch2a[0][0]             \n",
      "____________________________________________________________________________________________________\n",
      "activation_18 (Activation)       (None, 128, 45, 80)   0           bn3c_branch2a[0][0]              \n",
      "____________________________________________________________________________________________________\n",
      "res3c_branch2b (Convolution2D)   (None, 128, 45, 80)   147584      activation_18[0][0]              \n",
      "____________________________________________________________________________________________________\n",
      "bn3c_branch2b (BatchNormalization(None, 128, 45, 80)   256         res3c_branch2b[0][0]             \n",
      "____________________________________________________________________________________________________\n",
      "activation_19 (Activation)       (None, 128, 45, 80)   0           bn3c_branch2b[0][0]              \n",
      "____________________________________________________________________________________________________\n",
      "res3c_branch2c (Convolution2D)   (None, 512, 45, 80)   66048       activation_19[0][0]              \n",
      "____________________________________________________________________________________________________\n",
      "bn3c_branch2c (BatchNormalization(None, 512, 45, 80)   1024        res3c_branch2c[0][0]             \n",
      "____________________________________________________________________________________________________\n",
      "merge_6 (Merge)                  (None, 512, 45, 80)   0           bn3c_branch2c[0][0]              \n",
      "                                                                   activation_17[0][0]              \n",
      "____________________________________________________________________________________________________\n",
      "activation_20 (Activation)       (None, 512, 45, 80)   0           merge_6[0][0]                    \n",
      "____________________________________________________________________________________________________\n",
      "res3d_branch2a (Convolution2D)   (None, 128, 45, 80)   65664       activation_20[0][0]              \n",
      "____________________________________________________________________________________________________\n",
      "bn3d_branch2a (BatchNormalization(None, 128, 45, 80)   256         res3d_branch2a[0][0]             \n",
      "____________________________________________________________________________________________________\n",
      "activation_21 (Activation)       (None, 128, 45, 80)   0           bn3d_branch2a[0][0]              \n",
      "____________________________________________________________________________________________________\n",
      "res3d_branch2b (Convolution2D)   (None, 128, 45, 80)   147584      activation_21[0][0]              \n",
      "____________________________________________________________________________________________________\n",
      "bn3d_branch2b (BatchNormalization(None, 128, 45, 80)   256         res3d_branch2b[0][0]             \n",
      "____________________________________________________________________________________________________\n",
      "activation_22 (Activation)       (None, 128, 45, 80)   0           bn3d_branch2b[0][0]              \n",
      "____________________________________________________________________________________________________\n",
      "res3d_branch2c (Convolution2D)   (None, 512, 45, 80)   66048       activation_22[0][0]              \n",
      "____________________________________________________________________________________________________\n",
      "bn3d_branch2c (BatchNormalization(None, 512, 45, 80)   1024        res3d_branch2c[0][0]             \n",
      "____________________________________________________________________________________________________\n",
      "merge_7 (Merge)                  (None, 512, 45, 80)   0           bn3d_branch2c[0][0]              \n",
      "                                                                   activation_20[0][0]              \n",
      "____________________________________________________________________________________________________\n",
      "activation_23 (Activation)       (None, 512, 45, 80)   0           merge_7[0][0]                    \n",
      "____________________________________________________________________________________________________\n",
      "res4a_branch2a (Convolution2D)   (None, 256, 23, 40)   131328      activation_23[0][0]              \n",
      "____________________________________________________________________________________________________\n",
      "bn4a_branch2a (BatchNormalization(None, 256, 23, 40)   512         res4a_branch2a[0][0]             \n",
      "____________________________________________________________________________________________________\n",
      "activation_24 (Activation)       (None, 256, 23, 40)   0           bn4a_branch2a[0][0]              \n",
      "____________________________________________________________________________________________________\n",
      "res4a_branch2b (Convolution2D)   (None, 256, 23, 40)   590080      activation_24[0][0]              \n",
      "____________________________________________________________________________________________________\n",
      "bn4a_branch2b (BatchNormalization(None, 256, 23, 40)   512         res4a_branch2b[0][0]             \n",
      "____________________________________________________________________________________________________\n",
      "activation_25 (Activation)       (None, 256, 23, 40)   0           bn4a_branch2b[0][0]              \n",
      "____________________________________________________________________________________________________\n",
      "res4a_branch2c (Convolution2D)   (None, 1024, 23, 40)  263168      activation_25[0][0]              \n",
      "____________________________________________________________________________________________________\n",
      "res4a_branch1 (Convolution2D)    (None, 1024, 23, 40)  525312      activation_23[0][0]              \n",
      "____________________________________________________________________________________________________\n",
      "bn4a_branch2c (BatchNormalization(None, 1024, 23, 40)  2048        res4a_branch2c[0][0]             \n",
      "____________________________________________________________________________________________________\n",
      "bn4a_branch1 (BatchNormalization)(None, 1024, 23, 40)  2048        res4a_branch1[0][0]              \n",
      "____________________________________________________________________________________________________\n",
      "merge_8 (Merge)                  (None, 1024, 23, 40)  0           bn4a_branch2c[0][0]              \n",
      "                                                                   bn4a_branch1[0][0]               \n",
      "____________________________________________________________________________________________________\n",
      "activation_26 (Activation)       (None, 1024, 23, 40)  0           merge_8[0][0]                    \n",
      "____________________________________________________________________________________________________\n",
      "res4b_branch2a (Convolution2D)   (None, 256, 23, 40)   262400      activation_26[0][0]              \n",
      "____________________________________________________________________________________________________\n",
      "bn4b_branch2a (BatchNormalization(None, 256, 23, 40)   512         res4b_branch2a[0][0]             \n",
      "____________________________________________________________________________________________________\n",
      "activation_27 (Activation)       (None, 256, 23, 40)   0           bn4b_branch2a[0][0]              \n",
      "____________________________________________________________________________________________________\n",
      "res4b_branch2b (Convolution2D)   (None, 256, 23, 40)   590080      activation_27[0][0]              \n",
      "____________________________________________________________________________________________________\n",
      "bn4b_branch2b (BatchNormalization(None, 256, 23, 40)   512         res4b_branch2b[0][0]             \n",
      "____________________________________________________________________________________________________\n",
      "activation_28 (Activation)       (None, 256, 23, 40)   0           bn4b_branch2b[0][0]              \n",
      "____________________________________________________________________________________________________\n",
      "res4b_branch2c (Convolution2D)   (None, 1024, 23, 40)  263168      activation_28[0][0]              \n",
      "____________________________________________________________________________________________________\n",
      "bn4b_branch2c (BatchNormalization(None, 1024, 23, 40)  2048        res4b_branch2c[0][0]             \n",
      "____________________________________________________________________________________________________\n",
      "merge_9 (Merge)                  (None, 1024, 23, 40)  0           bn4b_branch2c[0][0]              \n",
      "                                                                   activation_26[0][0]              \n",
      "____________________________________________________________________________________________________\n",
      "activation_29 (Activation)       (None, 1024, 23, 40)  0           merge_9[0][0]                    \n",
      "____________________________________________________________________________________________________\n",
      "res4c_branch2a (Convolution2D)   (None, 256, 23, 40)   262400      activation_29[0][0]              \n",
      "____________________________________________________________________________________________________\n",
      "bn4c_branch2a (BatchNormalization(None, 256, 23, 40)   512         res4c_branch2a[0][0]             \n",
      "____________________________________________________________________________________________________\n",
      "activation_30 (Activation)       (None, 256, 23, 40)   0           bn4c_branch2a[0][0]              \n",
      "____________________________________________________________________________________________________\n",
      "res4c_branch2b (Convolution2D)   (None, 256, 23, 40)   590080      activation_30[0][0]              \n",
      "____________________________________________________________________________________________________\n",
      "bn4c_branch2b (BatchNormalization(None, 256, 23, 40)   512         res4c_branch2b[0][0]             \n",
      "____________________________________________________________________________________________________\n",
      "activation_31 (Activation)       (None, 256, 23, 40)   0           bn4c_branch2b[0][0]              \n",
      "____________________________________________________________________________________________________\n",
      "res4c_branch2c (Convolution2D)   (None, 1024, 23, 40)  263168      activation_31[0][0]              \n",
      "____________________________________________________________________________________________________\n",
      "bn4c_branch2c (BatchNormalization(None, 1024, 23, 40)  2048        res4c_branch2c[0][0]             \n",
      "____________________________________________________________________________________________________\n",
      "merge_10 (Merge)                 (None, 1024, 23, 40)  0           bn4c_branch2c[0][0]              \n",
      "                                                                   activation_29[0][0]              \n",
      "____________________________________________________________________________________________________\n",
      "activation_32 (Activation)       (None, 1024, 23, 40)  0           merge_10[0][0]                   \n",
      "____________________________________________________________________________________________________\n",
      "res4d_branch2a (Convolution2D)   (None, 256, 23, 40)   262400      activation_32[0][0]              \n",
      "____________________________________________________________________________________________________\n",
      "bn4d_branch2a (BatchNormalization(None, 256, 23, 40)   512         res4d_branch2a[0][0]             \n",
      "____________________________________________________________________________________________________\n",
      "activation_33 (Activation)       (None, 256, 23, 40)   0           bn4d_branch2a[0][0]              \n",
      "____________________________________________________________________________________________________\n",
      "res4d_branch2b (Convolution2D)   (None, 256, 23, 40)   590080      activation_33[0][0]              \n",
      "____________________________________________________________________________________________________\n",
      "bn4d_branch2b (BatchNormalization(None, 256, 23, 40)   512         res4d_branch2b[0][0]             \n",
      "____________________________________________________________________________________________________\n",
      "activation_34 (Activation)       (None, 256, 23, 40)   0           bn4d_branch2b[0][0]              \n",
      "____________________________________________________________________________________________________\n",
      "res4d_branch2c (Convolution2D)   (None, 1024, 23, 40)  263168      activation_34[0][0]              \n",
      "____________________________________________________________________________________________________\n",
      "bn4d_branch2c (BatchNormalization(None, 1024, 23, 40)  2048        res4d_branch2c[0][0]             \n",
      "____________________________________________________________________________________________________\n",
      "merge_11 (Merge)                 (None, 1024, 23, 40)  0           bn4d_branch2c[0][0]              \n",
      "                                                                   activation_32[0][0]              \n",
      "____________________________________________________________________________________________________\n",
      "activation_35 (Activation)       (None, 1024, 23, 40)  0           merge_11[0][0]                   \n",
      "____________________________________________________________________________________________________\n",
      "res4e_branch2a (Convolution2D)   (None, 256, 23, 40)   262400      activation_35[0][0]              \n",
      "____________________________________________________________________________________________________\n",
      "bn4e_branch2a (BatchNormalization(None, 256, 23, 40)   512         res4e_branch2a[0][0]             \n",
      "____________________________________________________________________________________________________\n",
      "activation_36 (Activation)       (None, 256, 23, 40)   0           bn4e_branch2a[0][0]              \n",
      "____________________________________________________________________________________________________\n",
      "res4e_branch2b (Convolution2D)   (None, 256, 23, 40)   590080      activation_36[0][0]              \n",
      "____________________________________________________________________________________________________\n",
      "bn4e_branch2b (BatchNormalization(None, 256, 23, 40)   512         res4e_branch2b[0][0]             \n",
      "____________________________________________________________________________________________________\n",
      "activation_37 (Activation)       (None, 256, 23, 40)   0           bn4e_branch2b[0][0]              \n",
      "____________________________________________________________________________________________________\n",
      "res4e_branch2c (Convolution2D)   (None, 1024, 23, 40)  263168      activation_37[0][0]              \n",
      "____________________________________________________________________________________________________\n",
      "bn4e_branch2c (BatchNormalization(None, 1024, 23, 40)  2048        res4e_branch2c[0][0]             \n",
      "____________________________________________________________________________________________________\n",
      "merge_12 (Merge)                 (None, 1024, 23, 40)  0           bn4e_branch2c[0][0]              \n",
      "                                                                   activation_35[0][0]              \n",
      "____________________________________________________________________________________________________\n",
      "activation_38 (Activation)       (None, 1024, 23, 40)  0           merge_12[0][0]                   \n",
      "____________________________________________________________________________________________________\n",
      "res4f_branch2a (Convolution2D)   (None, 256, 23, 40)   262400      activation_38[0][0]              \n",
      "____________________________________________________________________________________________________\n",
      "bn4f_branch2a (BatchNormalization(None, 256, 23, 40)   512         res4f_branch2a[0][0]             \n",
      "____________________________________________________________________________________________________\n",
      "activation_39 (Activation)       (None, 256, 23, 40)   0           bn4f_branch2a[0][0]              \n",
      "____________________________________________________________________________________________________\n",
      "res4f_branch2b (Convolution2D)   (None, 256, 23, 40)   590080      activation_39[0][0]              \n",
      "____________________________________________________________________________________________________\n",
      "bn4f_branch2b (BatchNormalization(None, 256, 23, 40)   512         res4f_branch2b[0][0]             \n",
      "____________________________________________________________________________________________________\n",
      "activation_40 (Activation)       (None, 256, 23, 40)   0           bn4f_branch2b[0][0]              \n",
      "____________________________________________________________________________________________________\n",
      "res4f_branch2c (Convolution2D)   (None, 1024, 23, 40)  263168      activation_40[0][0]              \n",
      "____________________________________________________________________________________________________\n",
      "bn4f_branch2c (BatchNormalization(None, 1024, 23, 40)  2048        res4f_branch2c[0][0]             \n",
      "____________________________________________________________________________________________________\n",
      "merge_13 (Merge)                 (None, 1024, 23, 40)  0           bn4f_branch2c[0][0]              \n",
      "                                                                   activation_38[0][0]              \n",
      "____________________________________________________________________________________________________\n",
      "activation_41 (Activation)       (None, 1024, 23, 40)  0           merge_13[0][0]                   \n",
      "____________________________________________________________________________________________________\n",
      "res5a_branch2a (Convolution2D)   (None, 512, 12, 20)   524800      activation_41[0][0]              \n",
      "____________________________________________________________________________________________________\n",
      "bn5a_branch2a (BatchNormalization(None, 512, 12, 20)   1024        res5a_branch2a[0][0]             \n",
      "____________________________________________________________________________________________________\n",
      "activation_42 (Activation)       (None, 512, 12, 20)   0           bn5a_branch2a[0][0]              \n",
      "____________________________________________________________________________________________________\n",
      "res5a_branch2b (Convolution2D)   (None, 512, 12, 20)   2359808     activation_42[0][0]              \n",
      "____________________________________________________________________________________________________\n",
      "bn5a_branch2b (BatchNormalization(None, 512, 12, 20)   1024        res5a_branch2b[0][0]             \n",
      "____________________________________________________________________________________________________\n",
      "activation_43 (Activation)       (None, 512, 12, 20)   0           bn5a_branch2b[0][0]              \n",
      "____________________________________________________________________________________________________\n",
      "res5a_branch2c (Convolution2D)   (None, 2048, 12, 20)  1050624     activation_43[0][0]              \n",
      "____________________________________________________________________________________________________\n",
      "res5a_branch1 (Convolution2D)    (None, 2048, 12, 20)  2099200     activation_41[0][0]              \n",
      "____________________________________________________________________________________________________\n",
      "bn5a_branch2c (BatchNormalization(None, 2048, 12, 20)  4096        res5a_branch2c[0][0]             \n",
      "____________________________________________________________________________________________________\n",
      "bn5a_branch1 (BatchNormalization)(None, 2048, 12, 20)  4096        res5a_branch1[0][0]              \n",
      "____________________________________________________________________________________________________\n",
      "merge_14 (Merge)                 (None, 2048, 12, 20)  0           bn5a_branch2c[0][0]              \n",
      "                                                                   bn5a_branch1[0][0]               \n",
      "____________________________________________________________________________________________________\n",
      "activation_44 (Activation)       (None, 2048, 12, 20)  0           merge_14[0][0]                   \n",
      "____________________________________________________________________________________________________\n",
      "res5b_branch2a (Convolution2D)   (None, 512, 12, 20)   1049088     activation_44[0][0]              \n",
      "____________________________________________________________________________________________________\n",
      "bn5b_branch2a (BatchNormalization(None, 512, 12, 20)   1024        res5b_branch2a[0][0]             \n",
      "____________________________________________________________________________________________________\n",
      "activation_45 (Activation)       (None, 512, 12, 20)   0           bn5b_branch2a[0][0]              \n",
      "____________________________________________________________________________________________________\n",
      "res5b_branch2b (Convolution2D)   (None, 512, 12, 20)   2359808     activation_45[0][0]              \n",
      "____________________________________________________________________________________________________\n",
      "bn5b_branch2b (BatchNormalization(None, 512, 12, 20)   1024        res5b_branch2b[0][0]             \n",
      "____________________________________________________________________________________________________\n",
      "activation_46 (Activation)       (None, 512, 12, 20)   0           bn5b_branch2b[0][0]              \n",
      "____________________________________________________________________________________________________\n",
      "res5b_branch2c (Convolution2D)   (None, 2048, 12, 20)  1050624     activation_46[0][0]              \n",
      "____________________________________________________________________________________________________\n",
      "bn5b_branch2c (BatchNormalization(None, 2048, 12, 20)  4096        res5b_branch2c[0][0]             \n",
      "____________________________________________________________________________________________________\n",
      "merge_15 (Merge)                 (None, 2048, 12, 20)  0           bn5b_branch2c[0][0]              \n",
      "                                                                   activation_44[0][0]              \n",
      "____________________________________________________________________________________________________\n",
      "activation_47 (Activation)       (None, 2048, 12, 20)  0           merge_15[0][0]                   \n",
      "____________________________________________________________________________________________________\n",
      "res5c_branch2a (Convolution2D)   (None, 512, 12, 20)   1049088     activation_47[0][0]              \n",
      "____________________________________________________________________________________________________\n",
      "bn5c_branch2a (BatchNormalization(None, 512, 12, 20)   1024        res5c_branch2a[0][0]             \n",
      "____________________________________________________________________________________________________\n",
      "activation_48 (Activation)       (None, 512, 12, 20)   0           bn5c_branch2a[0][0]              \n",
      "____________________________________________________________________________________________________\n",
      "res5c_branch2b (Convolution2D)   (None, 512, 12, 20)   2359808     activation_48[0][0]              \n",
      "____________________________________________________________________________________________________\n",
      "bn5c_branch2b (BatchNormalization(None, 512, 12, 20)   1024        res5c_branch2b[0][0]             \n",
      "____________________________________________________________________________________________________\n",
      "activation_49 (Activation)       (None, 512, 12, 20)   0           bn5c_branch2b[0][0]              \n",
      "____________________________________________________________________________________________________\n",
      "res5c_branch2c (Convolution2D)   (None, 2048, 12, 20)  1050624     activation_49[0][0]              \n",
      "____________________________________________________________________________________________________\n",
      "bn5c_branch2c (BatchNormalization(None, 2048, 12, 20)  4096        res5c_branch2c[0][0]             \n",
      "____________________________________________________________________________________________________\n",
      "merge_16 (Merge)                 (None, 2048, 12, 20)  0           bn5c_branch2c[0][0]              \n",
      "                                                                   activation_47[0][0]              \n",
      "____________________________________________________________________________________________________\n",
      "activation_50 (Activation)       (None, 2048, 12, 20)  0           merge_16[0][0]                   \n",
      "====================================================================================================\n",
      "Total params: 23534592\n",
      "____________________________________________________________________________________________________\n"
     ]
    }
   ],
   "source": [
    "resnet.summary()"
   ]
  },
  {
   "cell_type": "code",
   "execution_count": null,
   "metadata": {
    "collapsed": true
   },
   "outputs": [],
   "source": [
    "conv_trn_feat = resnet.predict_generator(trn_batches, trn_batches.nb_sample)"
   ]
  },
  {
   "cell_type": "code",
   "execution_count": null,
   "metadata": {
    "collapsed": true
   },
   "outputs": [],
   "source": [
    "conv_val_feat = resnet.predict_generator(val_batches, val_batches.nb_sample)"
   ]
  },
  {
   "cell_type": "code",
   "execution_count": null,
   "metadata": {
    "collapsed": true
   },
   "outputs": [],
   "source": [
    "conv_test_feat = resnet.predict_generator(test_batches, test_batches.nb_sample)"
   ]
  },
  {
   "cell_type": "code",
   "execution_count": 52,
   "metadata": {
    "collapsed": true
   },
   "outputs": [],
   "source": [
    "conv_test2_feat = resnet.predict_generator(test2_batches, test2_batches.nb_sample)"
   ]
  },
  {
   "cell_type": "code",
   "execution_count": null,
   "metadata": {
    "collapsed": true
   },
   "outputs": [],
   "source": [
    "save_array(path+'results/conv_trn_feat_resnet.dat', conv_trn_feat)"
   ]
  },
  {
   "cell_type": "code",
   "execution_count": null,
   "metadata": {
    "collapsed": true
   },
   "outputs": [],
   "source": [
    "save_array(path+'results/conv_val_feat_resnet.dat', conv_val_feat)"
   ]
  },
  {
   "cell_type": "code",
   "execution_count": null,
   "metadata": {
    "collapsed": true
   },
   "outputs": [],
   "source": [
    "save_array(path+'results/conv_test_feat_resnet.dat', conv_test_feat)"
   ]
  },
  {
   "cell_type": "code",
   "execution_count": 53,
   "metadata": {
    "collapsed": true
   },
   "outputs": [],
   "source": [
    "save_array(path+'results/conv_test2_feat_resnet.dat', conv_test2_feat)"
   ]
  },
  {
   "cell_type": "code",
   "execution_count": 39,
   "metadata": {
    "collapsed": false
   },
   "outputs": [],
   "source": [
    "conv_trn_feat = load_array(path+'results/conv_trn_feat_resnet.dat')"
   ]
  },
  {
   "cell_type": "code",
   "execution_count": 40,
   "metadata": {
    "collapsed": true
   },
   "outputs": [],
   "source": [
    "conv_val_feat = load_array(path+'results/conv_val_feat_resnet.dat')"
   ]
  },
  {
   "cell_type": "code",
   "execution_count": 41,
   "metadata": {
    "collapsed": false
   },
   "outputs": [],
   "source": [
    "conv_test_feat = load_array(path+'results/conv_test_feat_resnet.dat')"
   ]
  },
  {
   "cell_type": "code",
   "execution_count": 42,
   "metadata": {
    "collapsed": true
   },
   "outputs": [],
   "source": [
    "conv_test2_feat = load_array(path+'results/conv_test2_feat_resnet.dat')"
   ]
  },
  {
   "cell_type": "code",
   "execution_count": 43,
   "metadata": {
    "collapsed": false
   },
   "outputs": [
    {
     "data": {
      "text/plain": [
       "((3277, 2048, 12, 20), (500, 2048, 12, 20))"
      ]
     },
     "execution_count": 43,
     "metadata": {},
     "output_type": "execute_result"
    }
   ],
   "source": [
    "conv_trn_feat.shape, conv_val_feat.shape"
   ]
  },
  {
   "cell_type": "code",
   "execution_count": 44,
   "metadata": {
    "collapsed": false
   },
   "outputs": [
    {
     "data": {
      "text/plain": [
       "((1000, 2048, 12, 20), (12153, 2048, 12, 20))"
      ]
     },
     "execution_count": 44,
     "metadata": {},
     "output_type": "execute_result"
    }
   ],
   "source": [
    "conv_test_feat.shape, conv_test2_feat.shape"
   ]
  },
  {
   "cell_type": "markdown",
   "metadata": {},
   "source": [
    "### Train on fully-convolutional network (version 1)"
   ]
  },
  {
   "cell_type": "code",
   "execution_count": 45,
   "metadata": {
    "collapsed": false
   },
   "outputs": [
    {
     "data": {
      "text/plain": [
       "(2048, 12, 20)"
      ]
     },
     "execution_count": 45,
     "metadata": {},
     "output_type": "execute_result"
    }
   ],
   "source": [
    "resnet.layers[-1].output_shape[1:]"
   ]
  },
  {
   "cell_type": "code",
   "execution_count": 46,
   "metadata": {
    "collapsed": false
   },
   "outputs": [
    {
     "name": "stdout",
     "output_type": "stream",
     "text": [
      "th\n"
     ]
    }
   ],
   "source": [
    "model = Sequential([\n",
    "        BatchNormalization(axis = 1, input_shape = resnet.layers[-1].output_shape[1:]),\n",
    "        Convolution2D(512, 3, 3, activation = 'relu', border_mode = 'same'),\n",
    "        BatchNormalization(axis = 1),\n",
    "        MaxPooling2D(),\n",
    "        Convolution2D(256, 3, 3, activation = 'relu', border_mode = 'same'),\n",
    "        BatchNormalization(axis = 1),\n",
    "        MaxPooling2D(),\n",
    "        Convolution2D(128, 3, 3, activation = 'relu', border_mode = 'same'),\n",
    "        BatchNormalization(axis = 1),\n",
    "        MaxPooling2D((1, 2)),\n",
    "        Convolution2D(8, 3, 3, border_mode = 'same'),\n",
    "        GlobalAveragePooling2D(),\n",
    "        Activation('softmax')\n",
    "    ])"
   ]
  },
  {
   "cell_type": "code",
   "execution_count": 47,
   "metadata": {
    "collapsed": true
   },
   "outputs": [],
   "source": [
    "model.compile(optimizer = Adam(lr=1e-3), loss = 'categorical_crossentropy', metrics = ['accuracy'])"
   ]
  },
  {
   "cell_type": "code",
   "execution_count": 48,
   "metadata": {
    "collapsed": false
   },
   "outputs": [
    {
     "name": "stdout",
     "output_type": "stream",
     "text": [
      "____________________________________________________________________________________________________\n",
      "Layer (type)                     Output Shape          Param #     Connected to                     \n",
      "====================================================================================================\n",
      "batchnormalization_5 (BatchNormal(None, 2048, 12, 20)  4096        batchnormalization_input_2[0][0] \n",
      "____________________________________________________________________________________________________\n",
      "convolution2d_18 (Convolution2D) (None, 512, 12, 20)   9437696     batchnormalization_5[0][0]       \n",
      "____________________________________________________________________________________________________\n",
      "batchnormalization_6 (BatchNormal(None, 512, 12, 20)   1024        convolution2d_18[0][0]           \n",
      "____________________________________________________________________________________________________\n",
      "maxpooling2d_10 (MaxPooling2D)   (None, 512, 6, 10)    0           batchnormalization_6[0][0]       \n",
      "____________________________________________________________________________________________________\n",
      "convolution2d_19 (Convolution2D) (None, 256, 6, 10)    1179904     maxpooling2d_10[0][0]            \n",
      "____________________________________________________________________________________________________\n",
      "batchnormalization_7 (BatchNormal(None, 256, 6, 10)    512         convolution2d_19[0][0]           \n",
      "____________________________________________________________________________________________________\n",
      "maxpooling2d_11 (MaxPooling2D)   (None, 256, 3, 5)     0           batchnormalization_7[0][0]       \n",
      "____________________________________________________________________________________________________\n",
      "convolution2d_20 (Convolution2D) (None, 128, 3, 5)     295040      maxpooling2d_11[0][0]            \n",
      "____________________________________________________________________________________________________\n",
      "batchnormalization_8 (BatchNormal(None, 128, 3, 5)     256         convolution2d_20[0][0]           \n",
      "____________________________________________________________________________________________________\n",
      "maxpooling2d_12 (MaxPooling2D)   (None, 128, 3, 2)     0           batchnormalization_8[0][0]       \n",
      "____________________________________________________________________________________________________\n",
      "convolution2d_21 (Convolution2D) (None, 8, 3, 2)       9224        maxpooling2d_12[0][0]            \n",
      "____________________________________________________________________________________________________\n",
      "globalaveragepooling2d_2 (GlobalA(None, 8)             0           convolution2d_21[0][0]           \n",
      "____________________________________________________________________________________________________\n",
      "activation_51 (Activation)       (None, 8)             0           globalaveragepooling2d_2[0][0]   \n",
      "====================================================================================================\n",
      "Total params: 10927752\n",
      "____________________________________________________________________________________________________\n"
     ]
    }
   ],
   "source": [
    "model.summary()"
   ]
  },
  {
   "cell_type": "code",
   "execution_count": 49,
   "metadata": {
    "collapsed": true
   },
   "outputs": [],
   "source": [
    "batch_size = 64"
   ]
  },
  {
   "cell_type": "code",
   "execution_count": 24,
   "metadata": {
    "collapsed": false
   },
   "outputs": [
    {
     "name": "stdout",
     "output_type": "stream",
     "text": [
      "Train on 3277 samples, validate on 500 samples\n",
      "Epoch 1/2\n",
      "3277/3277 [==============================] - 39s - loss: 0.6184 - acc: 0.8096 - val_loss: 4.9963 - val_acc: 0.4560\n",
      "Epoch 2/2\n",
      "3277/3277 [==============================] - 39s - loss: 0.0898 - acc: 0.9780 - val_loss: 0.7236 - val_acc: 0.7740\n"
     ]
    },
    {
     "data": {
      "text/plain": [
       "<keras.callbacks.History at 0x7ff43d300a90>"
      ]
     },
     "execution_count": 24,
     "metadata": {},
     "output_type": "execute_result"
    }
   ],
   "source": [
    "model.fit(conv_trn_feat, trn_labels, batch_size = batch_size, nb_epoch = 2, \n",
    "          validation_data = (conv_val_feat, val_labels))"
   ]
  },
  {
   "cell_type": "code",
   "execution_count": 25,
   "metadata": {
    "collapsed": true
   },
   "outputs": [],
   "source": [
    "model.optimizer.lr = 1e-5"
   ]
  },
  {
   "cell_type": "code",
   "execution_count": 26,
   "metadata": {
    "collapsed": false
   },
   "outputs": [
    {
     "name": "stdout",
     "output_type": "stream",
     "text": [
      "Train on 3277 samples, validate on 500 samples\n",
      "Epoch 1/6\n",
      "3277/3277 [==============================] - 40s - loss: 0.0342 - acc: 0.9908 - val_loss: 0.1507 - val_acc: 0.9660\n",
      "Epoch 2/6\n",
      "3277/3277 [==============================] - 40s - loss: 0.0274 - acc: 0.9933 - val_loss: 0.1266 - val_acc: 0.9660\n",
      "Epoch 3/6\n",
      "3277/3277 [==============================] - 40s - loss: 0.0103 - acc: 0.9982 - val_loss: 0.1349 - val_acc: 0.9660\n",
      "Epoch 4/6\n",
      "3277/3277 [==============================] - 40s - loss: 0.0048 - acc: 0.9985 - val_loss: 0.1174 - val_acc: 0.9720\n",
      "Epoch 5/6\n",
      "3277/3277 [==============================] - 40s - loss: 0.0114 - acc: 0.9973 - val_loss: 0.1417 - val_acc: 0.9720\n",
      "Epoch 6/6\n",
      "3277/3277 [==============================] - 40s - loss: 0.0205 - acc: 0.9945 - val_loss: 0.1749 - val_acc: 0.9580\n"
     ]
    },
    {
     "data": {
      "text/plain": [
       "<keras.callbacks.History at 0x7ff6850c5510>"
      ]
     },
     "execution_count": 26,
     "metadata": {},
     "output_type": "execute_result"
    }
   ],
   "source": [
    "model.fit(conv_trn_feat, trn_labels, batch_size = batch_size, nb_epoch = 6, \n",
    "          validation_data = (conv_val_feat, val_labels))"
   ]
  },
  {
   "cell_type": "markdown",
   "metadata": {},
   "source": [
    "### Train on fully-convolutional network (version 2)"
   ]
  },
  {
   "cell_type": "code",
   "execution_count": 50,
   "metadata": {
    "collapsed": false
   },
   "outputs": [
    {
     "name": "stdout",
     "output_type": "stream",
     "text": [
      "th\n"
     ]
    }
   ],
   "source": [
    "model = Sequential([\n",
    "        BatchNormalization(axis = 1, input_shape = resnet.layers[-1].output_shape[1:]),\n",
    "        Convolution2D(256, 3, 3, activation = 'relu', border_mode = 'same'),\n",
    "        BatchNormalization(axis = 1),\n",
    "        MaxPooling2D(),\n",
    "        Convolution2D(256, 3, 3, activation = 'relu', border_mode = 'same'),\n",
    "        BatchNormalization(axis = 1),\n",
    "        MaxPooling2D(),\n",
    "        Convolution2D(256, 3, 3, activation = 'relu', border_mode = 'same'),\n",
    "        BatchNormalization(axis = 1),\n",
    "        MaxPooling2D((1, 2)),\n",
    "        Convolution2D(8, 3, 3, border_mode = 'same'),\n",
    "        GlobalAveragePooling2D(),\n",
    "        Activation('softmax')\n",
    "    ])"
   ]
  },
  {
   "cell_type": "code",
   "execution_count": 51,
   "metadata": {
    "collapsed": true
   },
   "outputs": [],
   "source": [
    "model.compile(optimizer = Adam(lr=1e-3), loss = 'categorical_crossentropy', metrics = ['accuracy'])"
   ]
  },
  {
   "cell_type": "code",
   "execution_count": 52,
   "metadata": {
    "collapsed": false
   },
   "outputs": [
    {
     "name": "stdout",
     "output_type": "stream",
     "text": [
      "____________________________________________________________________________________________________\n",
      "Layer (type)                     Output Shape          Param #     Connected to                     \n",
      "====================================================================================================\n",
      "batchnormalization_9 (BatchNormal(None, 2048, 12, 20)  4096        batchnormalization_input_3[0][0] \n",
      "____________________________________________________________________________________________________\n",
      "convolution2d_22 (Convolution2D) (None, 256, 12, 20)   4718848     batchnormalization_9[0][0]       \n",
      "____________________________________________________________________________________________________\n",
      "batchnormalization_10 (BatchNorma(None, 256, 12, 20)   512         convolution2d_22[0][0]           \n",
      "____________________________________________________________________________________________________\n",
      "maxpooling2d_13 (MaxPooling2D)   (None, 256, 6, 10)    0           batchnormalization_10[0][0]      \n",
      "____________________________________________________________________________________________________\n",
      "convolution2d_23 (Convolution2D) (None, 256, 6, 10)    590080      maxpooling2d_13[0][0]            \n",
      "____________________________________________________________________________________________________\n",
      "batchnormalization_11 (BatchNorma(None, 256, 6, 10)    512         convolution2d_23[0][0]           \n",
      "____________________________________________________________________________________________________\n",
      "maxpooling2d_14 (MaxPooling2D)   (None, 256, 3, 5)     0           batchnormalization_11[0][0]      \n",
      "____________________________________________________________________________________________________\n",
      "convolution2d_24 (Convolution2D) (None, 256, 3, 5)     590080      maxpooling2d_14[0][0]            \n",
      "____________________________________________________________________________________________________\n",
      "batchnormalization_12 (BatchNorma(None, 256, 3, 5)     512         convolution2d_24[0][0]           \n",
      "____________________________________________________________________________________________________\n",
      "maxpooling2d_15 (MaxPooling2D)   (None, 256, 3, 2)     0           batchnormalization_12[0][0]      \n",
      "____________________________________________________________________________________________________\n",
      "convolution2d_25 (Convolution2D) (None, 8, 3, 2)       18440       maxpooling2d_15[0][0]            \n",
      "____________________________________________________________________________________________________\n",
      "globalaveragepooling2d_3 (GlobalA(None, 8)             0           convolution2d_25[0][0]           \n",
      "____________________________________________________________________________________________________\n",
      "activation_52 (Activation)       (None, 8)             0           globalaveragepooling2d_3[0][0]   \n",
      "====================================================================================================\n",
      "Total params: 5923080\n",
      "____________________________________________________________________________________________________\n"
     ]
    }
   ],
   "source": [
    "model.summary()"
   ]
  },
  {
   "cell_type": "code",
   "execution_count": 53,
   "metadata": {
    "collapsed": true
   },
   "outputs": [],
   "source": [
    "batch_size = 64"
   ]
  },
  {
   "cell_type": "code",
   "execution_count": 68,
   "metadata": {
    "collapsed": false
   },
   "outputs": [
    {
     "name": "stdout",
     "output_type": "stream",
     "text": [
      "Train on 3277 samples, validate on 500 samples\n",
      "Epoch 1/2\n",
      "3277/3277 [==============================] - 25s - loss: 0.6222 - acc: 0.8029 - val_loss: 1.8518 - val_acc: 0.6360\n",
      "Epoch 2/2\n",
      "3277/3277 [==============================] - 25s - loss: 0.0974 - acc: 0.9744 - val_loss: 1.4139 - val_acc: 0.6600\n"
     ]
    },
    {
     "data": {
      "text/plain": [
       "<keras.callbacks.History at 0x7ff42a6fe550>"
      ]
     },
     "execution_count": 68,
     "metadata": {},
     "output_type": "execute_result"
    }
   ],
   "source": [
    "model.fit(conv_trn_feat, trn_labels, batch_size = batch_size, nb_epoch = 2, \n",
    "          validation_data = (conv_val_feat, val_labels))"
   ]
  },
  {
   "cell_type": "code",
   "execution_count": 69,
   "metadata": {
    "collapsed": true
   },
   "outputs": [],
   "source": [
    "model.optimizer.lr = 1e-5"
   ]
  },
  {
   "cell_type": "code",
   "execution_count": 70,
   "metadata": {
    "collapsed": false
   },
   "outputs": [
    {
     "name": "stdout",
     "output_type": "stream",
     "text": [
      "Train on 3277 samples, validate on 500 samples\n",
      "Epoch 1/6\n",
      "3277/3277 [==============================] - 25s - loss: 0.0227 - acc: 0.9951 - val_loss: 0.1454 - val_acc: 0.9640\n",
      "Epoch 2/6\n",
      "3277/3277 [==============================] - 25s - loss: 0.0105 - acc: 0.9973 - val_loss: 0.1105 - val_acc: 0.9720\n",
      "Epoch 3/6\n",
      "3277/3277 [==============================] - 25s - loss: 0.0046 - acc: 0.9994 - val_loss: 0.1082 - val_acc: 0.9720\n",
      "Epoch 4/6\n",
      "3277/3277 [==============================] - 25s - loss: 0.0047 - acc: 0.9991 - val_loss: 0.0933 - val_acc: 0.9760\n",
      "Epoch 5/6\n",
      "3277/3277 [==============================] - 25s - loss: 6.0614e-04 - acc: 1.0000 - val_loss: 0.0891 - val_acc: 0.9740\n",
      "Epoch 6/6\n",
      "3277/3277 [==============================] - 25s - loss: 4.1855e-04 - acc: 1.0000 - val_loss: 0.0901 - val_acc: 0.9740\n"
     ]
    },
    {
     "data": {
      "text/plain": [
       "<keras.callbacks.History at 0x7ff42a048950>"
      ]
     },
     "execution_count": 70,
     "metadata": {},
     "output_type": "execute_result"
    }
   ],
   "source": [
    "model.fit(conv_trn_feat, trn_labels, batch_size = batch_size, nb_epoch = 6, \n",
    "          validation_data = (conv_val_feat, val_labels))"
   ]
  },
  {
   "cell_type": "markdown",
   "metadata": {},
   "source": [
    "### Train on fully-convolutional network (with bounding-box)"
   ]
  },
  {
   "cell_type": "code",
   "execution_count": 54,
   "metadata": {
    "collapsed": true
   },
   "outputs": [],
   "source": [
    "anno_classes = ['alb', 'bet', 'dol', 'lag', 'other', 'shark', 'yft']"
   ]
  },
  {
   "cell_type": "code",
   "execution_count": 55,
   "metadata": {
    "collapsed": true
   },
   "outputs": [],
   "source": [
    "#Find bounding-box with the largest area for each picture\n",
    "bb_json = {}\n",
    "for c in anno_classes:\n",
    "    j = json.load(open('{}annos/{}_labels.json'.format(path, c), 'r'))\n",
    "    for l in j:\n",
    "        if 'annotations' in l.keys() and len(l['annotations']) > 0:\n",
    "            bb_json[l['filename'].split('/')[-1]] = sorted(\n",
    "                l['annotations'], key=lambda x: x['height']*x['width'])[-1]"
   ]
  },
  {
   "cell_type": "code",
   "execution_count": 56,
   "metadata": {
    "collapsed": false
   },
   "outputs": [],
   "source": [
    "empty_bbox = {'height': 0., 'width': 0., 'x': 0., 'y': 0.}"
   ]
  },
  {
   "cell_type": "code",
   "execution_count": 57,
   "metadata": {
    "collapsed": true
   },
   "outputs": [],
   "source": [
    "#Set bounding-box to [0, 0, 0, 0] to pictures with no bounding-box information\n",
    "for f in trn_raw_filenames:\n",
    "    if not f in bb_json.keys(): bb_json[f] = empty_bbox\n",
    "for f in val_raw_filenames:\n",
    "    if not f in bb_json.keys(): bb_json[f] = empty_bbox"
   ]
  },
  {
   "cell_type": "code",
   "execution_count": 58,
   "metadata": {
    "collapsed": false
   },
   "outputs": [],
   "source": [
    "trn_sizes = [PIL.Image.open(path+'train/'+f).size for f in trn_filenames]\n",
    "val_sizes = [PIL.Image.open(path+'valid/'+f).size for f in val_filenames]"
   ]
  },
  {
   "cell_type": "code",
   "execution_count": 59,
   "metadata": {
    "collapsed": true
   },
   "outputs": [],
   "source": [
    "#Resize bounding-box to fit the image size (240, 360)\n",
    "bb_params = ['x', 'y', 'width', 'height']\n",
    "def convert_bb(bb, size):\n",
    "    bb = [bb[p] for p in bb_params]\n",
    "    conv_x = (360. / size[0])\n",
    "    conv_y = (240. / size[1])\n",
    "    bb[0] = max(bb[0]*conv_x, 0)\n",
    "    bb[1] = max(bb[1]*conv_y, 0)\n",
    "    bb[2] = bb[2]*conv_x\n",
    "    bb[3] = bb[3]*conv_y\n",
    "    return bb"
   ]
  },
  {
   "cell_type": "code",
   "execution_count": 60,
   "metadata": {
    "collapsed": true
   },
   "outputs": [],
   "source": [
    "trn_bbox = np.stack([convert_bb(bb_json[f], s) for f, s in zip(trn_raw_filenames, trn_sizes)]).astype(np.float32)\n",
    "val_bbox = np.stack([convert_bb(bb_json[f], s) for f, s in zip(val_raw_filenames, val_sizes)]).astype(np.float32)"
   ]
  },
  {
   "cell_type": "code",
   "execution_count": 61,
   "metadata": {
    "collapsed": false
   },
   "outputs": [
    {
     "name": "stdout",
     "output_type": "stream",
     "text": [
      "th\n",
      "th\n"
     ]
    }
   ],
   "source": [
    "inp = Input(resnet.layers[-1].output_shape[1:])\n",
    "x = BatchNormalization(axis = 1)(inp)\n",
    "x = Convolution2D(512, 3, 3, activation = 'relu', border_mode = 'same')(x)\n",
    "x = BatchNormalization(axis = 1)(x)\n",
    "x = MaxPooling2D()(x)\n",
    "x = Convolution2D(256, 3, 3, activation = 'relu', border_mode = 'same')(x)\n",
    "x = BatchNormalization(axis = 1)(x)\n",
    "x = MaxPooling2D()(x)\n",
    "x = Convolution2D(128, 3, 3, activation = 'relu', border_mode = 'same')(x)\n",
    "x = BatchNormalization(axis = 1)(x)\n",
    "x = MaxPooling2D((1, 2))(x)\n",
    "x_bb = Convolution2D(4, 3, 3, border_mode = 'same')(x)\n",
    "x_bb = GlobalAveragePooling2D(name = 'bb')(x_bb)\n",
    "x_class = Convolution2D(8, 3, 3, border_mode = 'same')(x)\n",
    "x_class = GlobalAveragePooling2D()(x_class)\n",
    "x_class = Activation('softmax', name = 'class')(x_class)"
   ]
  },
  {
   "cell_type": "code",
   "execution_count": 62,
   "metadata": {
    "collapsed": false
   },
   "outputs": [],
   "source": [
    "model = Model([inp], [x_bb, x_class])"
   ]
  },
  {
   "cell_type": "code",
   "execution_count": 63,
   "metadata": {
    "collapsed": false
   },
   "outputs": [
    {
     "name": "stdout",
     "output_type": "stream",
     "text": [
      "____________________________________________________________________________________________________\n",
      "Layer (type)                     Output Shape          Param #     Connected to                     \n",
      "====================================================================================================\n",
      "input_2 (InputLayer)             (None, 2048, 12, 20)  0                                            \n",
      "____________________________________________________________________________________________________\n",
      "batchnormalization_13 (BatchNorma(None, 2048, 12, 20)  4096        input_2[0][0]                    \n",
      "____________________________________________________________________________________________________\n",
      "convolution2d_26 (Convolution2D) (None, 512, 12, 20)   9437696     batchnormalization_13[0][0]      \n",
      "____________________________________________________________________________________________________\n",
      "batchnormalization_14 (BatchNorma(None, 512, 12, 20)   1024        convolution2d_26[0][0]           \n",
      "____________________________________________________________________________________________________\n",
      "maxpooling2d_16 (MaxPooling2D)   (None, 512, 6, 10)    0           batchnormalization_14[0][0]      \n",
      "____________________________________________________________________________________________________\n",
      "convolution2d_27 (Convolution2D) (None, 256, 6, 10)    1179904     maxpooling2d_16[0][0]            \n",
      "____________________________________________________________________________________________________\n",
      "batchnormalization_15 (BatchNorma(None, 256, 6, 10)    512         convolution2d_27[0][0]           \n",
      "____________________________________________________________________________________________________\n",
      "maxpooling2d_17 (MaxPooling2D)   (None, 256, 3, 5)     0           batchnormalization_15[0][0]      \n",
      "____________________________________________________________________________________________________\n",
      "convolution2d_28 (Convolution2D) (None, 128, 3, 5)     295040      maxpooling2d_17[0][0]            \n",
      "____________________________________________________________________________________________________\n",
      "batchnormalization_16 (BatchNorma(None, 128, 3, 5)     256         convolution2d_28[0][0]           \n",
      "____________________________________________________________________________________________________\n",
      "maxpooling2d_18 (MaxPooling2D)   (None, 128, 3, 2)     0           batchnormalization_16[0][0]      \n",
      "____________________________________________________________________________________________________\n",
      "convolution2d_30 (Convolution2D) (None, 8, 3, 2)       9224        maxpooling2d_18[0][0]            \n",
      "____________________________________________________________________________________________________\n",
      "convolution2d_29 (Convolution2D) (None, 4, 3, 2)       4612        maxpooling2d_18[0][0]            \n",
      "____________________________________________________________________________________________________\n",
      "globalaveragepooling2d_4 (GlobalA(None, 8)             0           convolution2d_30[0][0]           \n",
      "____________________________________________________________________________________________________\n",
      "bb (GlobalAveragePooling2D)      (None, 4)             0           convolution2d_29[0][0]           \n",
      "____________________________________________________________________________________________________\n",
      "class (Activation)               (None, 8)             0           globalaveragepooling2d_4[0][0]   \n",
      "====================================================================================================\n",
      "Total params: 10932364\n",
      "____________________________________________________________________________________________________\n"
     ]
    }
   ],
   "source": [
    "model.summary()"
   ]
  },
  {
   "cell_type": "code",
   "execution_count": 64,
   "metadata": {
    "collapsed": true
   },
   "outputs": [],
   "source": [
    "model.compile(optimizer = Adam(lr=1e-3), loss = ['mse', 'categorical_crossentropy'], metrics = ['accuracy'],\n",
    "             loss_weights = [1e-3, 1.])"
   ]
  },
  {
   "cell_type": "code",
   "execution_count": 65,
   "metadata": {
    "collapsed": true
   },
   "outputs": [],
   "source": [
    "batch_size = 64"
   ]
  },
  {
   "cell_type": "code",
   "execution_count": 101,
   "metadata": {
    "collapsed": false
   },
   "outputs": [
    {
     "name": "stdout",
     "output_type": "stream",
     "text": [
      "Train on 3277 samples, validate on 500 samples\n",
      "Epoch 1/2\n",
      "3277/3277 [==============================] - 39s - loss: 8.2223 - bb_loss: 7510.2812 - class_loss: 0.7120 - bb_acc: 0.6588 - class_acc: 0.7800 - val_loss: 8.2052 - val_bb_loss: 6297.3249 - val_class_loss: 1.9078 - val_bb_acc: 0.6400 - val_class_acc: 0.6300\n",
      "Epoch 2/2\n",
      "3277/3277 [==============================] - 39s - loss: 3.6064 - bb_loss: 3426.8732 - class_loss: 0.1796 - bb_acc: 0.6125 - class_acc: 0.9576 - val_loss: 10.1003 - val_bb_loss: 9568.4498 - val_class_loss: 0.5319 - val_bb_acc: 0.6440 - val_class_acc: 0.8380\n"
     ]
    },
    {
     "data": {
      "text/plain": [
       "<keras.callbacks.History at 0x7f5042f76c90>"
      ]
     },
     "execution_count": 101,
     "metadata": {},
     "output_type": "execute_result"
    }
   ],
   "source": [
    "model.fit(conv_trn_feat, [trn_bbox, trn_labels], batch_size = batch_size, nb_epoch = 2, \n",
    "          validation_data = (conv_val_feat, [val_bbox, val_labels]))"
   ]
  },
  {
   "cell_type": "code",
   "execution_count": 102,
   "metadata": {
    "collapsed": true
   },
   "outputs": [],
   "source": [
    "model.optimizer.lr = 1e-5"
   ]
  },
  {
   "cell_type": "code",
   "execution_count": 103,
   "metadata": {
    "collapsed": false
   },
   "outputs": [
    {
     "name": "stdout",
     "output_type": "stream",
     "text": [
      "Train on 3277 samples, validate on 500 samples\n",
      "Epoch 1/8\n",
      "3277/3277 [==============================] - 39s - loss: 1.6239 - bb_loss: 1557.0451 - class_loss: 0.0669 - bb_acc: 0.5685 - class_acc: 0.9863 - val_loss: 4.2632 - val_bb_loss: 4103.4724 - val_class_loss: 0.1597 - val_bb_acc: 0.6340 - val_class_acc: 0.9640\n",
      "Epoch 2/8\n",
      "3277/3277 [==============================] - 39s - loss: 0.9616 - bb_loss: 930.4514 - class_loss: 0.0311 - bb_acc: 0.5917 - class_acc: 0.9960 - val_loss: 1.0669 - val_bb_loss: 893.1700 - val_class_loss: 0.1738 - val_bb_acc: 0.6580 - val_class_acc: 0.9600\n",
      "Epoch 3/8\n",
      "3277/3277 [==============================] - 39s - loss: 0.5728 - bb_loss: 555.5393 - class_loss: 0.0172 - bb_acc: 0.7473 - class_acc: 0.9963 - val_loss: 0.6453 - val_bb_loss: 543.9238 - val_class_loss: 0.1014 - val_bb_acc: 0.7960 - val_class_acc: 0.9660\n",
      "Epoch 4/8\n",
      "3277/3277 [==============================] - 39s - loss: 0.3726 - bb_loss: 362.3860 - class_loss: 0.0102 - bb_acc: 0.8013 - class_acc: 0.9994 - val_loss: 0.5085 - val_bb_loss: 425.0096 - val_class_loss: 0.0835 - val_bb_acc: 0.7920 - val_class_acc: 0.9780\n",
      "Epoch 5/8\n",
      "3277/3277 [==============================] - 39s - loss: 0.2903 - bb_loss: 279.3991 - class_loss: 0.0109 - bb_acc: 0.8215 - class_acc: 0.9988 - val_loss: 0.4674 - val_bb_loss: 371.3052 - val_class_loss: 0.0961 - val_bb_acc: 0.8000 - val_class_acc: 0.9760\n",
      "Epoch 6/8\n",
      "3277/3277 [==============================] - 39s - loss: 0.2132 - bb_loss: 204.8738 - class_loss: 0.0084 - bb_acc: 0.8309 - class_acc: 0.9982 - val_loss: 0.4264 - val_bb_loss: 333.7862 - val_class_loss: 0.0926 - val_bb_acc: 0.8560 - val_class_acc: 0.9740\n",
      "Epoch 7/8\n",
      "3277/3277 [==============================] - 39s - loss: 0.1788 - bb_loss: 156.2771 - class_loss: 0.0225 - bb_acc: 0.8468 - class_acc: 0.9966 - val_loss: 0.5335 - val_bb_loss: 379.9113 - val_class_loss: 0.1536 - val_bb_acc: 0.8860 - val_class_acc: 0.9680\n",
      "Epoch 8/8\n",
      "3277/3277 [==============================] - 39s - loss: 0.1518 - bb_loss: 143.9279 - class_loss: 0.0079 - bb_acc: 0.8612 - class_acc: 0.9991 - val_loss: 0.4485 - val_bb_loss: 334.4586 - val_class_loss: 0.1140 - val_bb_acc: 0.8800 - val_class_acc: 0.9760\n"
     ]
    },
    {
     "data": {
      "text/plain": [
       "<keras.callbacks.History at 0x7f5042f749d0>"
      ]
     },
     "execution_count": 103,
     "metadata": {},
     "output_type": "execute_result"
    }
   ],
   "source": [
    "model.fit(conv_trn_feat, [trn_bbox, trn_labels], batch_size = batch_size, nb_epoch = 8, \n",
    "          validation_data = (conv_val_feat, [val_bbox, val_labels]))"
   ]
  },
  {
   "cell_type": "markdown",
   "metadata": {},
   "source": [
    "### Conduct model ensemble based on entire training set (version 1)"
   ]
  },
  {
   "cell_type": "code",
   "execution_count": 66,
   "metadata": {
    "collapsed": true
   },
   "outputs": [],
   "source": [
    "conv_ens_feat = np.concatenate((conv_trn_feat, conv_val_feat), axis = 0)"
   ]
  },
  {
   "cell_type": "code",
   "execution_count": 67,
   "metadata": {
    "collapsed": false
   },
   "outputs": [],
   "source": [
    "ens_labels = np.concatenate((trn_labels, val_labels), axis = 0)"
   ]
  },
  {
   "cell_type": "code",
   "execution_count": 68,
   "metadata": {
    "collapsed": false
   },
   "outputs": [
    {
     "data": {
      "text/plain": [
       "((3777, 2048, 12, 20), (3777, 8))"
      ]
     },
     "execution_count": 68,
     "metadata": {},
     "output_type": "execute_result"
    }
   ],
   "source": [
    "conv_ens_feat.shape, ens_labels.shape"
   ]
  },
  {
   "cell_type": "code",
   "execution_count": 69,
   "metadata": {
    "collapsed": true
   },
   "outputs": [],
   "source": [
    "def fully_conv(i):\n",
    "    model = Sequential([\n",
    "        BatchNormalization(axis = 1, input_shape = resnet.layers[-1].output_shape[1:]),\n",
    "        Convolution2D(512, 3, 3, activation = 'relu', border_mode = 'same'),\n",
    "        BatchNormalization(axis = 1),\n",
    "        MaxPooling2D(),\n",
    "        Convolution2D(256, 3, 3, activation = 'relu', border_mode = 'same'),\n",
    "        BatchNormalization(axis = 1),\n",
    "        MaxPooling2D(),\n",
    "        Convolution2D(128, 3, 3, activation = 'relu', border_mode = 'same'),\n",
    "        BatchNormalization(axis = 1),\n",
    "        MaxPooling2D((1, 2)),\n",
    "        Convolution2D(8, 3, 3, border_mode = 'same'),\n",
    "        GlobalAveragePooling2D(),\n",
    "        Activation('softmax')\n",
    "    ])\n",
    "    model.compile(optimizer = Adam(lr=1e-3), loss = 'categorical_crossentropy', metrics = ['accuracy'])\n",
    "    model.fit(conv_ens_feat, ens_labels, batch_size = batch_size, nb_epoch = 2)\n",
    "    model.optimizer.lr = 1e-5\n",
    "    model.fit(conv_ens_feat, ens_labels, batch_size = batch_size, nb_epoch = 6)\n",
    "    model.save_weights(path+'models/resnet_v1_'+str(i)+'.h5')"
   ]
  },
  {
   "cell_type": "code",
   "execution_count": null,
   "metadata": {
    "collapsed": false
   },
   "outputs": [
    {
     "name": "stdout",
     "output_type": "stream",
     "text": [
      "Training model 0\n",
      "th\n",
      "Epoch 1/2\n",
      "2304/3777 [=================>............] - ETA: 10s - loss: 0.7970 - acc: 0.7470"
     ]
    }
   ],
   "source": [
    "for i in range(100):\n",
    "    print('Training model {}'.format(i))\n",
    "    fully_conv(i)"
   ]
  },
  {
   "cell_type": "code",
   "execution_count": 81,
   "metadata": {
    "collapsed": false
   },
   "outputs": [
    {
     "name": "stdout",
     "output_type": "stream",
     "text": [
      "Finish predicting 10 samples\n",
      "Finish predicting 20 samples\n",
      "Finish predicting 30 samples\n",
      "Finish predicting 40 samples\n",
      "Finish predicting 50 samples\n",
      "Finish predicting 60 samples\n",
      "Finish predicting 70 samples\n",
      "Finish predicting 80 samples\n",
      "Finish predicting 90 samples\n",
      "Finish predicting 100 samples\n"
     ]
    }
   ],
   "source": [
    "preds_ens = []\n",
    "for i in range(100):\n",
    "    model.load_weights(path+'models/resnet_v1_'+str(i)+'.h5')\n",
    "    preds_ens.append(model.predict(conv_test_feat, batch_size = batch_size))\n",
    "    if i % 10 == 9:\n",
    "        print('Finish predicting {} samples'.format(i+1))"
   ]
  },
  {
   "cell_type": "code",
   "execution_count": 76,
   "metadata": {
    "collapsed": false
   },
   "outputs": [
    {
     "name": "stdout",
     "output_type": "stream",
     "text": [
      "Finish predicting 10 samples\n",
      "Finish predicting 20 samples\n",
      "Finish predicting 30 samples\n",
      "Finish predicting 40 samples\n",
      "Finish predicting 50 samples\n",
      "Finish predicting 60 samples\n",
      "Finish predicting 70 samples\n",
      "Finish predicting 80 samples\n",
      "Finish predicting 90 samples\n",
      "Finish predicting 100 samples\n"
     ]
    }
   ],
   "source": [
    "preds2_ens = []\n",
    "for i in range(100):\n",
    "    model.load_weights(path+'models/resnet_v1_'+str(i)+'.h5')\n",
    "    preds2_ens.append(model.predict(conv_test2_feat, batch_size = batch_size))\n",
    "    if i % 10 == 9:\n",
    "        print('Finish predicting {} samples'.format(i+1))"
   ]
  },
  {
   "cell_type": "code",
   "execution_count": 67,
   "metadata": {
    "collapsed": false
   },
   "outputs": [
    {
     "data": {
      "text/plain": [
       "(100, 1000, 8)"
      ]
     },
     "execution_count": 67,
     "metadata": {},
     "output_type": "execute_result"
    }
   ],
   "source": [
    "preds_ens_resnet_v1 = np.stack(preds_ens)\n",
    "preds_ens_resnet_v1.shape"
   ]
  },
  {
   "cell_type": "code",
   "execution_count": 68,
   "metadata": {
    "collapsed": true
   },
   "outputs": [],
   "source": [
    "save_array(path+'results/preds_ens_resnet_v1.dat', preds_ens_resnet_v1)"
   ]
  },
  {
   "cell_type": "code",
   "execution_count": 62,
   "metadata": {
    "collapsed": false
   },
   "outputs": [
    {
     "data": {
      "text/plain": [
       "(100, 12153, 8)"
      ]
     },
     "execution_count": 62,
     "metadata": {},
     "output_type": "execute_result"
    }
   ],
   "source": [
    "preds2_ens_resnet_v1 = np.stack(preds2_ens)\n",
    "preds2_ens_resnet_v1.shape"
   ]
  },
  {
   "cell_type": "code",
   "execution_count": 63,
   "metadata": {
    "collapsed": true
   },
   "outputs": [],
   "source": [
    "save_array(path+'results/preds2_ens_resnet_v1.dat', preds2_ens_resnet_v1)"
   ]
  },
  {
   "cell_type": "markdown",
   "metadata": {},
   "source": [
    "### Conduct model ensemble based on entire training set (version 2)"
   ]
  },
  {
   "cell_type": "code",
   "execution_count": 70,
   "metadata": {
    "collapsed": true
   },
   "outputs": [],
   "source": [
    "def fully_conv(i):\n",
    "    model = Sequential([\n",
    "        BatchNormalization(axis = 1, input_shape = resnet.layers[-1].output_shape[1:]),\n",
    "        Convolution2D(256, 3, 3, activation = 'relu', border_mode = 'same'),\n",
    "        BatchNormalization(axis = 1),\n",
    "        MaxPooling2D(),\n",
    "        Convolution2D(256, 3, 3, activation = 'relu', border_mode = 'same'),\n",
    "        BatchNormalization(axis = 1),\n",
    "        MaxPooling2D(),\n",
    "        Convolution2D(256, 3, 3, activation = 'relu', border_mode = 'same'),\n",
    "        BatchNormalization(axis = 1),\n",
    "        MaxPooling2D((1, 2)),\n",
    "        Convolution2D(8, 3, 3, border_mode = 'same'),\n",
    "        GlobalAveragePooling2D(),\n",
    "        Activation('softmax')\n",
    "    ])\n",
    "    model.compile(optimizer = Adam(lr=1e-3), loss = 'categorical_crossentropy', metrics = ['accuracy'])\n",
    "    model.fit(conv_ens_feat, ens_labels, batch_size = batch_size, nb_epoch = 2)\n",
    "    model.optimizer.lr = 1e-5\n",
    "    model.fit(conv_ens_feat, ens_labels, batch_size = batch_size, nb_epoch = 6)\n",
    "    model.save_weights(path+'models/resnet_v2_'+str(i)+'.h5')"
   ]
  },
  {
   "cell_type": "code",
   "execution_count": null,
   "metadata": {
    "collapsed": true
   },
   "outputs": [],
   "source": [
    "for i in range(100):\n",
    "    print('Training model {}'.format(i))\n",
    "    fully_conv(i)"
   ]
  },
  {
   "cell_type": "code",
   "execution_count": null,
   "metadata": {
    "collapsed": true
   },
   "outputs": [],
   "source": [
    "preds_ens = []\n",
    "for i in range(100):\n",
    "    model.load_weights(path+'models/resnet_v2_'+str(i)+'.h5')\n",
    "    preds_ens.append(model.predict(conv_test_feat, batch_size = batch_size))\n",
    "    if i % 10 == 9:\n",
    "        print('Finish predicting {} samples'.format(i+1))"
   ]
  },
  {
   "cell_type": "code",
   "execution_count": null,
   "metadata": {
    "collapsed": true
   },
   "outputs": [],
   "source": [
    "preds2_ens = []\n",
    "for i in range(100):\n",
    "    model.load_weights(path+'models/resnet_v2_'+str(i)+'.h5')\n",
    "    preds2_ens.append(model.predict(conv_test2_feat, batch_size = batch_size))\n",
    "    if i % 10 == 9:\n",
    "        print('Finish predicting {} samples'.format(i+1))"
   ]
  },
  {
   "cell_type": "code",
   "execution_count": 82,
   "metadata": {
    "collapsed": false
   },
   "outputs": [
    {
     "data": {
      "text/plain": [
       "(100, 1000, 8)"
      ]
     },
     "execution_count": 82,
     "metadata": {},
     "output_type": "execute_result"
    }
   ],
   "source": [
    "preds_ens_resnet_v2 = np.stack(preds_ens)\n",
    "preds_ens_resnet_v2.shape"
   ]
  },
  {
   "cell_type": "code",
   "execution_count": 83,
   "metadata": {
    "collapsed": true
   },
   "outputs": [],
   "source": [
    "save_array(path+'results/preds_ens_resnet_v2.dat', preds_ens_resnet_v2)"
   ]
  },
  {
   "cell_type": "code",
   "execution_count": 77,
   "metadata": {
    "collapsed": false
   },
   "outputs": [
    {
     "data": {
      "text/plain": [
       "(100, 12153, 8)"
      ]
     },
     "execution_count": 77,
     "metadata": {},
     "output_type": "execute_result"
    }
   ],
   "source": [
    "preds2_ens_resnet_v2 = np.stack(preds2_ens)\n",
    "preds2_ens_resnet_v2.shape"
   ]
  },
  {
   "cell_type": "code",
   "execution_count": 78,
   "metadata": {
    "collapsed": true
   },
   "outputs": [],
   "source": [
    "save_array(path+'results/preds2_ens_resnet_v2.dat', preds2_ens_resnet_v2)"
   ]
  },
  {
   "cell_type": "markdown",
   "metadata": {},
   "source": [
    "### Conduct model ensemble based on entire training set with bounding-box"
   ]
  },
  {
   "cell_type": "code",
   "execution_count": 71,
   "metadata": {
    "collapsed": true
   },
   "outputs": [],
   "source": [
    "conv_ens_feat = np.concatenate((conv_trn_feat, conv_val_feat), axis = 0)"
   ]
  },
  {
   "cell_type": "code",
   "execution_count": 72,
   "metadata": {
    "collapsed": true
   },
   "outputs": [],
   "source": [
    "ens_labels = np.concatenate((trn_labels, val_labels), axis = 0)"
   ]
  },
  {
   "cell_type": "code",
   "execution_count": 73,
   "metadata": {
    "collapsed": true
   },
   "outputs": [],
   "source": [
    "ens_bbox = np.concatenate((trn_bbox, val_bbox), axis = 0)"
   ]
  },
  {
   "cell_type": "code",
   "execution_count": 74,
   "metadata": {
    "collapsed": false
   },
   "outputs": [
    {
     "data": {
      "text/plain": [
       "((3777, 2048, 12, 20), (3777, 8), (3777, 4))"
      ]
     },
     "execution_count": 74,
     "metadata": {},
     "output_type": "execute_result"
    }
   ],
   "source": [
    "conv_ens_feat.shape, ens_labels.shape, ens_bbox.shape"
   ]
  },
  {
   "cell_type": "code",
   "execution_count": 75,
   "metadata": {
    "collapsed": true
   },
   "outputs": [],
   "source": [
    "def fully_conv(i):\n",
    "    inp = Input(resnet.layers[-1].output_shape[1:])\n",
    "    x = BatchNormalization(axis = 1)(inp)\n",
    "    x = Convolution2D(512, 3, 3, activation = 'relu', border_mode = 'same')(x)\n",
    "    x = BatchNormalization(axis = 1)(x)\n",
    "    x = MaxPooling2D()(x)\n",
    "    x = Convolution2D(256, 3, 3, activation = 'relu', border_mode = 'same')(x)\n",
    "    x = BatchNormalization(axis = 1)(x)\n",
    "    x = MaxPooling2D()(x)\n",
    "    x = Convolution2D(128, 3, 3, activation = 'relu', border_mode = 'same')(x)\n",
    "    x = BatchNormalization(axis = 1)(x)\n",
    "    x = MaxPooling2D((1, 2))(x)\n",
    "    x_bb = Convolution2D(4, 3, 3, border_mode = 'same')(x)\n",
    "    x_bb = GlobalAveragePooling2D(name = 'bb')(x_bb)\n",
    "    x_class = Convolution2D(8, 3, 3, border_mode = 'same')(x)\n",
    "    x_class = GlobalAveragePooling2D()(x_class)\n",
    "    x_class = Activation('softmax', name = 'class')(x_class)\n",
    "    model = Model([inp], [x_bb, x_class])\n",
    "    \n",
    "    model.compile(optimizer = Adam(lr=1e-3), loss = ['mse', 'categorical_crossentropy'], metrics = ['accuracy'],\n",
    "             loss_weights = [1e-3, 1.])\n",
    "    model.fit(conv_ens_feat, [ens_bbox, ens_labels], batch_size = batch_size, nb_epoch = 2)\n",
    "    model.optimizer.lr = 1e-5\n",
    "    model.fit(conv_ens_feat, [ens_bbox, ens_labels], batch_size = batch_size, nb_epoch = 8)\n",
    "    model.save_weights(path+'models/resnet_bb_'+str(i)+'.h5')"
   ]
  },
  {
   "cell_type": "code",
   "execution_count": null,
   "metadata": {
    "collapsed": false
   },
   "outputs": [
    {
     "name": "stdout",
     "output_type": "stream",
     "text": [
      "Training model 100\n",
      "th\n",
      "th\n",
      "Epoch 1/2\n",
      "3777/3777 [==============================] - 42s - loss: 7.6784 - bb_loss: 7053.0195 - class_loss: 0.6254 - bb_acc: 0.7098 - class_acc: 0.8226    \n",
      "Epoch 2/2\n",
      "3777/3777 [==============================] - 42s - loss: 2.9536 - bb_loss: 2811.7071 - class_loss: 0.1419 - bb_acc: 0.6174 - class_acc: 0.9714    \n",
      "Epoch 1/8\n",
      "3777/3777 [==============================] - 42s - loss: 1.6175 - bb_loss: 1445.2963 - class_loss: 0.1722 - bb_acc: 0.5759 - class_acc: 0.9515    \n",
      "Epoch 2/8\n",
      "3777/3777 [==============================] - 42s - loss: 0.8848 - bb_loss: 847.6158 - class_loss: 0.0372 - bb_acc: 0.5830 - class_acc: 0.9931    \n",
      "Epoch 3/8\n",
      "3777/3777 [==============================] - 42s - loss: 0.7021 - bb_loss: 633.7780 - class_loss: 0.0684 - bb_acc: 0.7072 - class_acc: 0.9796    \n",
      "Epoch 4/8\n",
      "3777/3777 [==============================] - 42s - loss: 0.4029 - bb_loss: 391.3285 - class_loss: 0.0115 - bb_acc: 0.7842 - class_acc: 0.9987    \n",
      "Epoch 5/8\n",
      "3777/3777 [==============================] - 42s - loss: 0.3324 - bb_loss: 306.3086 - class_loss: 0.0261 - bb_acc: 0.7993 - class_acc: 0.9963    \n",
      "Epoch 6/8\n",
      "3777/3777 [==============================] - 42s - loss: 0.2153 - bb_loss: 208.3140 - class_loss: 0.0070 - bb_acc: 0.8213 - class_acc: 0.9987    \n",
      "Epoch 7/8\n",
      "3777/3777 [==============================] - 42s - loss: 0.1690 - bb_loss: 161.1849 - class_loss: 0.0078 - bb_acc: 0.8319 - class_acc: 0.9979    \n",
      "Epoch 8/8\n",
      "3777/3777 [==============================] - 42s - loss: 0.1739 - bb_loss: 158.7597 - class_loss: 0.0152 - bb_acc: 0.8319 - class_acc: 0.9979    \n",
      "Training model 101\n",
      "th\n",
      "th\n",
      "Epoch 1/2\n",
      "3777/3777 [==============================] - 42s - loss: 7.5525 - bb_loss: 6953.1782 - class_loss: 0.5994 - bb_acc: 0.6675 - class_acc: 0.8205    \n",
      "Epoch 2/2\n",
      "3777/3777 [==============================] - 42s - loss: 3.0173 - bb_loss: 2826.7239 - class_loss: 0.1906 - bb_acc: 0.6060 - class_acc: 0.9531    \n",
      "Epoch 1/8\n",
      "3777/3777 [==============================] - 42s - loss: 1.3858 - bb_loss: 1336.1072 - class_loss: 0.0497 - bb_acc: 0.5687 - class_acc: 0.9915    \n",
      "Epoch 2/8\n",
      "3777/3777 [==============================] - 42s - loss: 0.8313 - bb_loss: 811.4456 - class_loss: 0.0198 - bb_acc: 0.6272 - class_acc: 0.9981    \n",
      "Epoch 3/8\n",
      "3777/3777 [==============================] - 42s - loss: 0.5205 - bb_loss: 506.6482 - class_loss: 0.0138 - bb_acc: 0.7641 - class_acc: 0.9992    \n",
      "Epoch 4/8\n",
      "3777/3777 [==============================] - 42s - loss: 0.3256 - bb_loss: 316.4340 - class_loss: 0.0092 - bb_acc: 0.8041 - class_acc: 0.9995    \n",
      "Epoch 5/8\n",
      "3777/3777 [==============================] - 42s - loss: 0.2400 - bb_loss: 229.1393 - class_loss: 0.0109 - bb_acc: 0.8247 - class_acc: 0.9979    \n",
      "Epoch 6/8\n",
      "3777/3777 [==============================] - 42s - loss: 0.6821 - bb_loss: 430.7072 - class_loss: 0.2514 - bb_acc: 0.7988 - class_acc: 0.9253    \n",
      "Epoch 7/8\n",
      "3777/3777 [==============================] - 42s - loss: 0.4661 - bb_loss: 374.1065 - class_loss: 0.0920 - bb_acc: 0.7980 - class_acc: 0.9714    \n",
      "Epoch 8/8\n",
      "3777/3777 [==============================] - 42s - loss: 0.6720 - bb_loss: 518.8502 - class_loss: 0.1531 - bb_acc: 0.7924 - class_acc: 0.9545    \n",
      "Training model 102\n",
      "th\n",
      "th\n",
      "Epoch 1/2\n",
      "3777/3777 [==============================] - 42s - loss: 7.5395 - bb_loss: 6929.6214 - class_loss: 0.6098 - bb_acc: 0.7061 - class_acc: 0.8200    \n",
      "Epoch 2/2\n",
      "3777/3777 [==============================] - 42s - loss: 2.8760 - bb_loss: 2725.6079 - class_loss: 0.1504 - bb_acc: 0.5819 - class_acc: 0.9640    \n",
      "Epoch 1/8\n",
      "3777/3777 [==============================] - 42s - loss: 1.3669 - bb_loss: 1310.4028 - class_loss: 0.0565 - bb_acc: 0.5719 - class_acc: 0.9873    \n",
      "Epoch 2/8\n",
      "3777/3777 [==============================] - 42s - loss: 1.0066 - bb_loss: 892.1304 - class_loss: 0.1145 - bb_acc: 0.6148 - class_acc: 0.9645    \n",
      "Epoch 3/8\n",
      "3777/3777 [==============================] - 42s - loss: 0.5657 - bb_loss: 541.6105 - class_loss: 0.0241 - bb_acc: 0.7572 - class_acc: 0.9968    \n",
      "Epoch 4/8\n",
      "3777/3777 [==============================] - 42s - loss: 0.3488 - bb_loss: 340.7169 - class_loss: 0.0081 - bb_acc: 0.7922 - class_acc: 0.9995    \n",
      "Epoch 5/8\n",
      "3777/3777 [==============================] - 42s - loss: 0.2778 - bb_loss: 271.2773 - class_loss: 0.0065 - bb_acc: 0.8136 - class_acc: 0.9989    \n",
      "Epoch 6/8\n",
      "3777/3777 [==============================] - 42s - loss: 0.3222 - bb_loss: 265.3303 - class_loss: 0.0568 - bb_acc: 0.8216 - class_acc: 0.9817    \n",
      "Epoch 7/8\n",
      "3777/3777 [==============================] - 42s - loss: 0.5008 - bb_loss: 356.3019 - class_loss: 0.1445 - bb_acc: 0.7964 - class_acc: 0.9560    \n",
      "Epoch 8/8\n",
      "3777/3777 [==============================] - 42s - loss: 0.4078 - bb_loss: 334.7070 - class_loss: 0.0730 - bb_acc: 0.8080 - class_acc: 0.9756    \n",
      "Training model 103\n",
      "th\n",
      "th\n",
      "Epoch 1/2\n",
      "3777/3777 [==============================] - 42s - loss: 7.6503 - bb_loss: 6985.6895 - class_loss: 0.6646 - bb_acc: 0.6781 - class_acc: 0.7985    \n",
      "Epoch 2/2\n",
      "3777/3777 [==============================] - 42s - loss: 3.0228 - bb_loss: 2822.0218 - class_loss: 0.2008 - bb_acc: 0.5984 - class_acc: 0.9457    \n",
      "Epoch 1/8\n",
      "3777/3777 [==============================] - 42s - loss: 1.6230 - bb_loss: 1493.7338 - class_loss: 0.1293 - bb_acc: 0.5904 - class_acc: 0.9666    \n",
      "Epoch 2/8\n",
      "3777/3777 [==============================] - 42s - loss: 1.1992 - bb_loss: 1087.8246 - class_loss: 0.1114 - bb_acc: 0.5939 - class_acc: 0.9714    \n",
      "Epoch 3/8\n",
      "3777/3777 [==============================] - 42s - loss: 0.6977 - bb_loss: 675.1228 - class_loss: 0.0226 - bb_acc: 0.6990 - class_acc: 0.9966    \n",
      "Epoch 4/8\n",
      "3777/3777 [==============================] - 42s - loss: 0.5205 - bb_loss: 506.7822 - class_loss: 0.0137 - bb_acc: 0.7670 - class_acc: 0.9992    \n",
      "Epoch 5/8\n",
      "3777/3777 [==============================] - 42s - loss: 0.3477 - bb_loss: 337.6395 - class_loss: 0.0100 - bb_acc: 0.7975 - class_acc: 0.9992    \n",
      "Epoch 6/8\n",
      "3777/3777 [==============================] - 42s - loss: 0.4766 - bb_loss: 377.8957 - class_loss: 0.0987 - bb_acc: 0.7887 - class_acc: 0.9672    \n",
      "Epoch 7/8\n",
      "3777/3777 [==============================] - 42s - loss: 0.4712 - bb_loss: 357.7002 - class_loss: 0.1135 - bb_acc: 0.7927 - class_acc: 0.9674    \n",
      "Epoch 8/8\n",
      "3777/3777 [==============================] - 42s - loss: 0.2451 - bb_loss: 237.2592 - class_loss: 0.0079 - bb_acc: 0.8065 - class_acc: 0.9987    \n",
      "Training model 104\n",
      "th\n",
      "th\n",
      "Epoch 1/2\n",
      "3777/3777 [==============================] - 42s - loss: 7.7380 - bb_loss: 7144.1169 - class_loss: 0.5939 - bb_acc: 0.6468 - class_acc: 0.8292    \n",
      "Epoch 2/2\n",
      "3777/3777 [==============================] - 42s - loss: 3.1254 - bb_loss: 2964.2280 - class_loss: 0.1611 - bb_acc: 0.6672 - class_acc: 0.9648    \n",
      "Epoch 1/8\n",
      "3777/3777 [==============================] - 42s - loss: 1.5723 - bb_loss: 1474.7625 - class_loss: 0.0976 - bb_acc: 0.5849 - class_acc: 0.9788    \n",
      "Epoch 2/8\n",
      "3777/3777 [==============================] - 42s - loss: 1.0512 - bb_loss: 950.3138 - class_loss: 0.1009 - bb_acc: 0.6240 - class_acc: 0.9722    \n",
      "Epoch 3/8\n",
      "3777/3777 [==============================] - 42s - loss: 0.8076 - bb_loss: 735.5612 - class_loss: 0.0720 - bb_acc: 0.7347 - class_acc: 0.9812    \n",
      "Epoch 4/8\n",
      "3777/3777 [==============================] - 42s - loss: 0.6128 - bb_loss: 540.1629 - class_loss: 0.0726 - bb_acc: 0.7784 - class_acc: 0.9772    \n",
      "Epoch 5/8\n",
      "3777/3777 [==============================] - 42s - loss: 0.4115 - bb_loss: 372.3397 - class_loss: 0.0392 - bb_acc: 0.7919 - class_acc: 0.9868    \n",
      "Epoch 6/8\n",
      "3777/3777 [==============================] - 42s - loss: 0.4820 - bb_loss: 381.0978 - class_loss: 0.1009 - bb_acc: 0.8080 - class_acc: 0.9725    \n",
      "Epoch 7/8\n",
      "3777/3777 [==============================] - 42s - loss: 0.3347 - bb_loss: 301.6691 - class_loss: 0.0330 - bb_acc: 0.8133 - class_acc: 0.9926    \n",
      "Epoch 8/8\n",
      "3777/3777 [==============================] - 42s - loss: 0.2671 - bb_loss: 253.6476 - class_loss: 0.0134 - bb_acc: 0.8263 - class_acc: 0.9971    \n",
      "Training model 105\n",
      "th\n",
      "th\n",
      "Epoch 1/2\n",
      "3777/3777 [==============================] - 42s - loss: 7.6574 - bb_loss: 7070.1506 - class_loss: 0.5873 - bb_acc: 0.6389 - class_acc: 0.8210    \n",
      "Epoch 2/2\n",
      "3777/3777 [==============================] - 42s - loss: 3.0946 - bb_loss: 2912.7801 - class_loss: 0.1819 - bb_acc: 0.6190 - class_acc: 0.9595    \n",
      "Epoch 1/8\n",
      "3777/3777 [==============================] - 42s - loss: 1.5331 - bb_loss: 1451.4023 - class_loss: 0.0817 - bb_acc: 0.5669 - class_acc: 0.9815    \n",
      "Epoch 2/8\n",
      "3777/3777 [==============================] - 42s - loss: 1.1197 - bb_loss: 1003.9036 - class_loss: 0.1158 - bb_acc: 0.5880 - class_acc: 0.9690    \n",
      "Epoch 3/8\n",
      "3777/3777 [==============================] - 42s - loss: 0.6125 - bb_loss: 598.8490 - class_loss: 0.0136 - bb_acc: 0.7334 - class_acc: 0.9981    \n",
      "Epoch 4/8\n",
      "3777/3777 [==============================] - 42s - loss: 0.3886 - bb_loss: 378.4997 - class_loss: 0.0101 - bb_acc: 0.7866 - class_acc: 0.9992    \n",
      "Epoch 5/8\n",
      "3777/3777 [==============================] - 42s - loss: 0.5668 - bb_loss: 451.4948 - class_loss: 0.1153 - bb_acc: 0.7919 - class_acc: 0.9674    \n",
      "Epoch 6/8\n",
      "3777/3777 [==============================] - 42s - loss: 0.3464 - bb_loss: 323.7151 - class_loss: 0.0227 - bb_acc: 0.8059 - class_acc: 0.9947    \n",
      "Epoch 7/8\n",
      "3777/3777 [==============================] - 42s - loss: 0.4531 - bb_loss: 341.7973 - class_loss: 0.1113 - bb_acc: 0.8012 - class_acc: 0.9643    \n",
      "Epoch 8/8\n",
      "3777/3777 [==============================] - 42s - loss: 0.3333 - bb_loss: 264.6930 - class_loss: 0.0687 - bb_acc: 0.8088 - class_acc: 0.9770    \n",
      "Training model 106\n",
      "th\n",
      "th\n",
      "Epoch 1/2\n",
      "3777/3777 [==============================] - 42s - loss: 7.5958 - bb_loss: 6988.8348 - class_loss: 0.6069 - bb_acc: 0.7016 - class_acc: 0.8178    \n",
      "Epoch 2/2\n",
      "3777/3777 [==============================] - 42s - loss: 2.9966 - bb_loss: 2855.5063 - class_loss: 0.1411 - bb_acc: 0.6161 - class_acc: 0.9682    \n",
      "Epoch 1/8\n",
      "3777/3777 [==============================] - 42s - loss: 1.7029 - bb_loss: 1545.0631 - class_loss: 0.1578 - bb_acc: 0.5859 - class_acc: 0.9545    \n",
      "Epoch 2/8\n",
      "3777/3777 [==============================] - 42s - loss: 1.0983 - bb_loss: 989.4228 - class_loss: 0.1089 - bb_acc: 0.6005 - class_acc: 0.9656    \n",
      "Epoch 3/8\n",
      "3777/3777 [==============================] - 42s - loss: 0.6418 - bb_loss: 619.3203 - class_loss: 0.0225 - bb_acc: 0.7450 - class_acc: 0.9947    \n",
      "Epoch 4/8\n",
      "3777/3777 [==============================] - 42s - loss: 0.6190 - bb_loss: 519.4115 - class_loss: 0.0996 - bb_acc: 0.7726 - class_acc: 0.9682    \n",
      "Epoch 5/8\n",
      "3777/3777 [==============================] - 42s - loss: 0.3577 - bb_loss: 341.1246 - class_loss: 0.0166 - bb_acc: 0.7906 - class_acc: 0.9947    \n",
      "Epoch 6/8\n",
      "3777/3777 [==============================] - 42s - loss: 0.4976 - bb_loss: 387.4799 - class_loss: 0.1101 - bb_acc: 0.7990 - class_acc: 0.9698    \n",
      "Epoch 7/8\n",
      "3777/3777 [==============================] - 42s - loss: 0.5807 - bb_loss: 484.7062 - class_loss: 0.0960 - bb_acc: 0.7964 - class_acc: 0.9690    \n",
      "Epoch 8/8\n",
      "3777/3777 [==============================] - 42s - loss: 0.3180 - bb_loss: 301.5399 - class_loss: 0.0164 - bb_acc: 0.8073 - class_acc: 0.9974    \n",
      "Training model 107\n",
      "th\n",
      "th\n",
      "Epoch 1/2\n",
      "3777/3777 [==============================] - 42s - loss: 7.6943 - bb_loss: 7027.4330 - class_loss: 0.6669 - bb_acc: 0.6606 - class_acc: 0.8094    \n",
      "Epoch 2/2\n",
      "3777/3777 [==============================] - 42s - loss: 3.0189 - bb_loss: 2849.1616 - class_loss: 0.1698 - bb_acc: 0.5804 - class_acc: 0.9611    \n",
      "Epoch 1/8\n",
      "3777/3777 [==============================] - 42s - loss: 1.3803 - bb_loss: 1324.2314 - class_loss: 0.0561 - bb_acc: 0.5663 - class_acc: 0.9860    \n",
      "Epoch 2/8\n",
      "3777/3777 [==============================] - 42s - loss: 0.9898 - bb_loss: 912.5462 - class_loss: 0.0773 - bb_acc: 0.6060 - class_acc: 0.9796    \n",
      "Epoch 3/8\n",
      "3777/3777 [==============================] - 42s - loss: 0.6009 - bb_loss: 569.6401 - class_loss: 0.0313 - bb_acc: 0.7599 - class_acc: 0.9926    \n",
      "Epoch 4/8\n",
      "3777/3777 [==============================] - 42s - loss: 0.3817 - bb_loss: 369.8601 - class_loss: 0.0119 - bb_acc: 0.7903 - class_acc: 0.9989    \n",
      "Epoch 5/8\n",
      "3777/3777 [==============================] - 42s - loss: 0.2622 - bb_loss: 254.6171 - class_loss: 0.0076 - bb_acc: 0.8231 - class_acc: 0.9995    \n",
      "Epoch 6/8\n",
      "3777/3777 [==============================] - 42s - loss: 0.6159 - bb_loss: 464.4678 - class_loss: 0.1514 - bb_acc: 0.8065 - class_acc: 0.9537    \n",
      "Epoch 7/8\n",
      "3777/3777 [==============================] - 42s - loss: 0.4961 - bb_loss: 379.0505 - class_loss: 0.1170 - bb_acc: 0.8078 - class_acc: 0.9627    \n",
      "Epoch 8/8\n",
      "3777/3777 [==============================] - 42s - loss: 0.3651 - bb_loss: 298.2616 - class_loss: 0.0669 - bb_acc: 0.8155 - class_acc: 0.9809    \n",
      "Training model 108\n",
      "th\n",
      "th\n",
      "Epoch 1/2\n",
      "3777/3777 [==============================] - 42s - loss: 7.7639 - bb_loss: 7153.6915 - class_loss: 0.6102 - bb_acc: 0.6786 - class_acc: 0.8197    \n",
      "Epoch 2/2\n",
      "3777/3777 [==============================] - 42s - loss: 3.0850 - bb_loss: 2928.3974 - class_loss: 0.1566 - bb_acc: 0.6129 - class_acc: 0.9645    \n",
      "Epoch 1/8\n",
      "3777/3777 [==============================] - 42s - loss: 1.3861 - bb_loss: 1336.3847 - class_loss: 0.0498 - bb_acc: 0.5700 - class_acc: 0.9918    \n",
      "Epoch 2/8\n",
      "3777/3777 [==============================] - 42s - loss: 1.1144 - bb_loss: 974.8220 - class_loss: 0.1396 - bb_acc: 0.6142 - class_acc: 0.9534    \n",
      "Epoch 3/8\n",
      "3777/3777 [==============================] - 42s - loss: 0.6914 - bb_loss: 632.2616 - class_loss: 0.0591 - bb_acc: 0.7352 - class_acc: 0.9838    \n",
      "Epoch 4/8\n",
      "3777/3777 [==============================] - 42s - loss: 0.7137 - bb_loss: 616.3476 - class_loss: 0.0974 - bb_acc: 0.7792 - class_acc: 0.9735    \n",
      "Epoch 5/8\n",
      "3777/3777 [==============================] - 42s - loss: 7.6567 - bb_loss: 7057.8629 - class_loss: 0.5988 - bb_acc: 0.6894 - class_acc: 0.8163    \n",
      "Epoch 2/2\n",
      "3777/3777 [==============================] - 42s - loss: 0.7837 - bb_loss: 711.6434 - class_loss: 0.0721 - bb_acc: 0.7474 - class_acc: 0.9831    \n",
      "Epoch 4/8\n",
      "3777/3777 [==============================] - 42s - loss: 0.6132 - bb_loss: 521.0577 - class_loss: 0.0921 - bb_acc: 0.7792 - class_acc: 0.9711    \n",
      "Epoch 5/8\n",
      "3777/3777 [==============================] - 42s - loss: 0.3832 - bb_loss: 358.4600 - class_loss: 0.0247 - bb_acc: 0.8051 - class_acc: 0.9952    \n",
      "Epoch 6/8\n",
      "3777/3777 [==============================] - 42s - loss: 0.2829 - bb_loss: 274.4617 - class_loss: 0.0084 - bb_acc: 0.8091 - class_acc: 0.9979    \n",
      "Epoch 7/8\n",
      "3777/3777 [==============================] - 42s - loss: 0.2268 - bb_loss: 221.3839 - class_loss: 0.0055 - bb_acc: 0.8258 - class_acc: 0.9997    \n",
      "Epoch 8/8\n",
      "3777/3777 [==============================] - 42s - loss: 0.3838 - bb_loss: 312.0436 - class_loss: 0.0717 - bb_acc: 0.8128 - class_acc: 0.9772    \n",
      "Training model 192\n",
      "th\n",
      "th\n",
      "Epoch 1/2\n",
      "3777/3777 [==============================] - 42s - loss: 7.4781 - bb_loss: 6904.8330 - class_loss: 0.5733 - bb_acc: 0.6479 - class_acc: 0.8242    \n",
      "Epoch 2/2\n",
      "3777/3777 [==============================] - 42s - loss: 2.8822 - bb_loss: 2763.2598 - class_loss: 0.1190 - bb_acc: 0.6431 - class_acc: 0.9754    \n",
      "Epoch 1/8\n",
      "3777/3777 [==============================] - 42s - loss: 1.3429 - bb_loss: 1292.8075 - class_loss: 0.0501 - bb_acc: 0.5692 - class_acc: 0.9926    \n",
      "Epoch 2/8\n",
      "3777/3777 [==============================] - 42s - loss: 0.8195 - bb_loss: 786.8574 - class_loss: 0.0327 - bb_acc: 0.6542 - class_acc: 0.9944    \n",
      "Epoch 3/8\n",
      "3777/3777 [==============================] - 42s - loss: 0.9033 - bb_loss: 681.0102 - class_loss: 0.2223 - bb_acc: 0.7432 - class_acc: 0.9412    \n",
      "Epoch 4/8\n",
      "3777/3777 [==============================] - 42s - loss: 0.5651 - bb_loss: 469.5847 - class_loss: 0.0955 - bb_acc: 0.7930 - class_acc: 0.9711    \n",
      "Epoch 5/8\n",
      "3777/3777 [==============================] - 42s - loss: 0.4285 - bb_loss: 365.8010 - class_loss: 0.0627 - bb_acc: 0.7990 - class_acc: 0.9778    \n",
      "Epoch 6/8\n",
      "3777/3777 [==============================] - 42s - loss: 0.2593 - bb_loss: 251.0397 - class_loss: 0.0082 - bb_acc: 0.8139 - class_acc: 0.9981    \n",
      "Epoch 7/8\n",
      "3777/3777 [==============================] - 42s - loss: 0.3856 - bb_loss: 325.6032 - class_loss: 0.0600 - bb_acc: 0.8099 - class_acc: 0.9833    \n",
      "Epoch 8/8\n",
      "3777/3777 [==============================] - 42s - loss: 0.3022 - bb_loss: 276.7875 - class_loss: 0.0254 - bb_acc: 0.8078 - class_acc: 0.9921    \n",
      "Training model 193\n",
      "th\n",
      "th\n",
      "Epoch 1/2\n",
      "3777/3777 [==============================] - 42s - loss: 7.7202 - bb_loss: 7088.4896 - class_loss: 0.6317 - bb_acc: 0.6540 - class_acc: 0.8096    \n",
      "Epoch 2/2\n",
      "3777/3777 [==============================] - 42s - loss: 3.1633 - bb_loss: 2954.0811 - class_loss: 0.2092 - bb_acc: 0.5780 - class_acc: 0.9394    \n",
      "Epoch 1/8\n",
      "3777/3777 [==============================] - 42s - loss: 1.5557 - bb_loss: 1448.9247 - class_loss: 0.1067 - bb_acc: 0.5740 - class_acc: 0.9754    \n",
      "Epoch 2/8\n",
      "3777/3777 [==============================] - 42s - loss: 1.0675 - bb_loss: 994.7729 - class_loss: 0.0727 - bb_acc: 0.5811 - class_acc: 0.9815    \n",
      "Epoch 3/8\n",
      "3777/3777 [==============================] - 42s - loss: 0.7287 - bb_loss: 678.4237 - class_loss: 0.0503 - bb_acc: 0.7021 - class_acc: 0.9870    \n",
      "Epoch 4/8\n",
      "3777/3777 [==============================] - 42s - loss: 0.6232 - bb_loss: 544.9033 - class_loss: 0.0783 - bb_acc: 0.7625 - class_acc: 0.9778    \n",
      "Epoch 5/8\n",
      "3777/3777 [==============================] - 42s - loss: 0.3570 - bb_loss: 347.4568 - class_loss: 0.0095 - bb_acc: 0.7948 - class_acc: 0.9989    \n",
      "Epoch 6/8\n",
      "3777/3777 [==============================] - 42s - loss: 0.3065 - bb_loss: 297.2947 - class_loss: 0.0092 - bb_acc: 0.8078 - class_acc: 0.9992    \n",
      "Epoch 7/8\n",
      "3777/3777 [==============================] - 42s - loss: 0.3682 - bb_loss: 308.9155 - class_loss: 0.0593 - bb_acc: 0.8065 - class_acc: 0.9862    \n",
      "Epoch 8/8\n",
      "3777/3777 [==============================] - 42s - loss: 0.4240 - bb_loss: 356.1001 - class_loss: 0.0679 - bb_acc: 0.8176 - class_acc: 0.9838    \n",
      "Training model 194\n",
      "th\n",
      "th\n",
      "Epoch 1/2\n",
      "3777/3777 [==============================] - 42s - loss: 7.6823 - bb_loss: 7099.1892 - class_loss: 0.5831 - bb_acc: 0.6725 - class_acc: 0.8298    \n",
      "Epoch 2/2\n",
      "3777/3777 [==============================] - 42s - loss: 3.1198 - bb_loss: 2933.4670 - class_loss: 0.1864 - bb_acc: 0.6659 - class_acc: 0.9598    \n",
      "Epoch 1/8\n",
      "3777/3777 [==============================] - 42s - loss: 1.3955 - bb_loss: 1349.7344 - class_loss: 0.0458 - bb_acc: 0.5822 - class_acc: 0.9905    \n",
      "Epoch 2/8\n",
      "3777/3777 [==============================] - 42s - loss: 0.8556 - bb_loss: 831.7345 - class_loss: 0.0239 - bb_acc: 0.6346 - class_acc: 0.9963    \n",
      "Epoch 3/8\n",
      "3777/3777 [==============================] - 42s - loss: 0.5299 - bb_loss: 511.7305 - class_loss: 0.0182 - bb_acc: 0.7755 - class_acc: 0.9971    \n",
      "Epoch 4/8\n",
      "3777/3777 [==============================] - 42s - loss: 0.3141 - bb_loss: 303.4718 - class_loss: 0.0107 - bb_acc: 0.8104 - class_acc: 0.9984    \n",
      "Epoch 5/8\n",
      "3777/3777 [==============================] - 42s - loss: 0.6964 - bb_loss: 501.6573 - class_loss: 0.1948 - bb_acc: 0.8065 - class_acc: 0.9452    \n",
      "Epoch 6/8\n",
      "3777/3777 [==============================] - 42s - loss: 0.3238 - bb_loss: 292.3789 - class_loss: 0.0314 - bb_acc: 0.8118 - class_acc: 0.9910    \n",
      "Epoch 7/8\n",
      "3777/3777 [==============================] - 42s - loss: 0.2087 - bb_loss: 197.7777 - class_loss: 0.0109 - bb_acc: 0.8231 - class_acc: 0.9971    \n",
      "Epoch 8/8\n",
      "3777/3777 [==============================] - 42s - loss: 0.7138 - bb_loss: 555.0814 - class_loss: 0.1587 - bb_acc: 0.7967 - class_acc: 0.9508    \n",
      "Training model 195\n",
      "th\n",
      "th\n",
      "Epoch 1/2\n",
      "3777/3777 [==============================] - 42s - loss: 7.5704 - bb_loss: 7006.2263 - class_loss: 0.5642 - bb_acc: 0.7225 - class_acc: 0.8406    \n",
      "Epoch 2/2\n",
      "3777/3777 [==============================] - 42s - loss: 3.0508 - bb_loss: 2885.3539 - class_loss: 0.1655 - bb_acc: 0.6044 - class_acc: 0.9613    \n",
      "Epoch 1/8\n",
      "3777/3777 [==============================] - 42s - loss: 1.3898 - bb_loss: 1343.6995 - class_loss: 0.0461 - bb_acc: 0.5721 - class_acc: 0.9913    \n",
      "Epoch 2/8\n",
      "3777/3777 [==============================] - 42s - loss: 0.8062 - bb_loss: 785.1908 - class_loss: 0.0210 - bb_acc: 0.6235 - class_acc: 0.9974    \n",
      "Epoch 3/8\n",
      "3777/3777 [==============================] - 42s - loss: 0.4890 - bb_loss: 476.8500 - class_loss: 0.0121 - bb_acc: 0.7795 - class_acc: 0.9992    \n",
      "Epoch 4/8\n",
      "3777/3777 [==============================] - 42s - loss: 0.3594 - bb_loss: 340.0339 - class_loss: 0.0194 - bb_acc: 0.8080 - class_acc: 0.9971    \n",
      "Epoch 5/8\n",
      "3777/3777 [==============================] - 42s - loss: 0.6961 - bb_loss: 517.6956 - class_loss: 0.1784 - bb_acc: 0.8022 - class_acc: 0.9447    \n",
      "Epoch 6/8\n",
      "3777/3777 [==============================] - 42s - loss: 0.3347 - bb_loss: 301.5704 - class_loss: 0.0331 - bb_acc: 0.8245 - class_acc: 0.9921    \n",
      "Epoch 7/8\n",
      "3777/3777 [==============================] - 42s - loss: 0.2478 - bb_loss: 239.6789 - class_loss: 0.0081 - bb_acc: 0.8351 - class_acc: 0.9987    \n",
      "Epoch 8/8\n",
      "3777/3777 [==============================] - 42s - loss: 0.4606 - bb_loss: 339.7116 - class_loss: 0.1209 - bb_acc: 0.8099 - class_acc: 0.9664    \n",
      "Training model 196\n",
      "th\n",
      "th\n",
      "Epoch 1/2\n",
      "3777/3777 [==============================] - 42s - loss: 7.7114 - bb_loss: 7053.9672 - class_loss: 0.6575 - bb_acc: 0.6810 - class_acc: 0.7961    \n",
      "Epoch 2/2\n",
      "3777/3777 [==============================] - 42s - loss: 3.0131 - bb_loss: 2861.8681 - class_loss: 0.1512 - bb_acc: 0.6500 - class_acc: 0.9656    \n",
      "Epoch 1/8\n",
      "3777/3777 [==============================] - 42s - loss: 1.5457 - bb_loss: 1417.9581 - class_loss: 0.1278 - bb_acc: 0.5798 - class_acc: 0.9637    \n",
      "Epoch 2/8\n",
      "3777/3777 [==============================] - 42s - loss: 1.0263 - bb_loss: 930.5227 - class_loss: 0.0958 - bb_acc: 0.6195 - class_acc: 0.9696    \n",
      "Epoch 3/8\n",
      "3777/3777 [==============================] - 42s - loss: 0.7574 - bb_loss: 630.8490 - class_loss: 0.1265 - bb_acc: 0.7538 - class_acc: 0.9823    \n",
      "Epoch 4/8\n",
      "3777/3777 [==============================] - 42s - loss: 0.5366 - bb_loss: 483.9253 - class_loss: 0.0526 - bb_acc: 0.7776 - class_acc: 0.9846    \n",
      "Epoch 5/8\n",
      "3777/3777 [==============================] - 42s - loss: 0.3283 - bb_loss: 314.3036 - class_loss: 0.0140 - bb_acc: 0.7972 - class_acc: 0.9974    \n",
      "Epoch 6/8\n",
      "3777/3777 [==============================] - 42s - loss: 0.2878 - bb_loss: 277.4551 - class_loss: 0.0103 - bb_acc: 0.8200 - class_acc: 0.9981    \n",
      "Epoch 7/8\n",
      "3777/3777 [==============================] - 42s - loss: 0.4612 - bb_loss: 326.0981 - class_loss: 0.1351 - bb_acc: 0.8083 - class_acc: 0.9621    \n",
      "Epoch 8/8\n",
      "3777/3777 [==============================] - 42s - loss: 0.2456 - bb_loss: 236.1808 - class_loss: 0.0094 - bb_acc: 0.8234 - class_acc: 0.9981    \n",
      "Training model 197\n",
      "th\n",
      "th\n",
      "Epoch 1/2\n",
      "3777/3777 [==============================] - 42s - loss: 7.8172 - bb_loss: 7146.4298 - class_loss: 0.6707 - bb_acc: 0.6492 - class_acc: 0.7953    \n",
      "Epoch 2/2\n",
      "3777/3777 [==============================] - 42s - loss: 3.1052 - bb_loss: 2935.5546 - class_loss: 0.1697 - bb_acc: 0.6529 - class_acc: 0.9637    \n",
      "Epoch 1/8\n",
      "3777/3777 [==============================] - 42s - loss: 1.6219 - bb_loss: 1490.6078 - class_loss: 0.1313 - bb_acc: 0.5669 - class_acc: 0.9653    \n",
      "Epoch 2/8\n",
      "3777/3777 [==============================] - 42s - loss: 0.8887 - bb_loss: 855.9641 - class_loss: 0.0327 - bb_acc: 0.6082 - class_acc: 0.9931    \n",
      "Epoch 3/8\n",
      "3777/3777 [==============================] - 42s - loss: 0.6783 - bb_loss: 613.8423 - class_loss: 0.0645 - bb_acc: 0.7268 - class_acc: 0.9796    \n",
      "Epoch 4/8\n",
      "3777/3777 [==============================] - 42s - loss: 0.3960 - bb_loss: 379.6669 - class_loss: 0.0163 - bb_acc: 0.7988 - class_acc: 0.9968    \n",
      "Epoch 5/8\n",
      "3777/3777 [==============================] - 42s - loss: 0.3816 - bb_loss: 333.5938 - class_loss: 0.0480 - bb_acc: 0.8075 - class_acc: 0.9846    \n",
      "Epoch 6/8\n",
      "3777/3777 [==============================] - 42s - loss: 0.4601 - bb_loss: 394.5245 - class_loss: 0.0656 - bb_acc: 0.8144 - class_acc: 0.9786    \n",
      "Epoch 7/8\n",
      "3777/3777 [==============================] - 42s - loss: 0.2925 - bb_loss: 275.1869 - class_loss: 0.0173 - bb_acc: 0.8192 - class_acc: 0.9958    \n",
      "Epoch 8/8\n",
      "3777/3777 [==============================] - 42s - loss: 0.3808 - bb_loss: 291.1231 - class_loss: 0.0897 - bb_acc: 0.8247 - class_acc: 0.9741    \n",
      "Training model 198\n",
      "th\n",
      "th\n",
      "Epoch 1/2\n",
      "3777/3777 [==============================] - 42s - loss: 7.9130 - bb_loss: 7284.6004 - class_loss: 0.6284 - bb_acc: 0.6839 - class_acc: 0.8120    \n",
      "Epoch 2/2\n",
      "3777/3777 [==============================] - 42s - loss: 3.1830 - bb_loss: 3011.3059 - class_loss: 0.1717 - bb_acc: 0.6227 - class_acc: 0.9603    \n",
      "Epoch 1/8\n",
      "3777/3777 [==============================] - 42s - loss: 1.4422 - bb_loss: 1381.9421 - class_loss: 0.0602 - bb_acc: 0.5708 - class_acc: 0.9884    \n",
      "Epoch 2/8\n",
      "3777/3777 [==============================] - 42s - loss: 1.0555 - bb_loss: 944.2805 - class_loss: 0.1112 - bb_acc: 0.5944 - class_acc: 0.9658    \n",
      "Epoch 3/8\n",
      "3777/3777 [==============================] - 42s - loss: 0.6099 - bb_loss: 586.7178 - class_loss: 0.0232 - bb_acc: 0.7490 - class_acc: 0.9958    \n",
      "Epoch 4/8\n",
      "3777/3777 [==============================] - 42s - loss: 0.3655 - bb_loss: 347.9269 - class_loss: 0.0176 - bb_acc: 0.7895 - class_acc: 0.9976    \n",
      "Epoch 5/8\n",
      "3777/3777 [==============================] - 42s - loss: 0.4306 - bb_loss: 347.6219 - class_loss: 0.0830 - bb_acc: 0.7945 - class_acc: 0.9722    \n",
      "Epoch 6/8\n",
      "3777/3777 [==============================] - 42s - loss: 0.2457 - bb_loss: 237.4402 - class_loss: 0.0083 - bb_acc: 0.8155 - class_acc: 0.9981    \n",
      "Epoch 7/8\n",
      "3777/3777 [==============================] - 42s - loss: 0.2075 - bb_loss: 201.8674 - class_loss: 0.0056 - bb_acc: 0.8200 - class_acc: 0.9995    \n",
      "Epoch 8/8\n",
      "3777/3777 [==============================] - 42s - loss: 0.5010 - bb_loss: 400.9527 - class_loss: 0.1000 - bb_acc: 0.8099 - class_acc: 0.9711    \n",
      "Training model 199\n",
      "th\n",
      "th\n",
      "Epoch 1/2\n",
      "3777/3777 [==============================] - 42s - loss: 7.5563 - bb_loss: 6946.5437 - class_loss: 0.6097 - bb_acc: 0.6428 - class_acc: 0.8163    \n",
      "Epoch 2/2\n",
      "3777/3777 [==============================] - 42s - loss: 3.0211 - bb_loss: 2835.2551 - class_loss: 0.1858 - bb_acc: 0.6055 - class_acc: 0.9531    \n",
      "Epoch 1/8\n",
      "3777/3777 [==============================] - 42s - loss: 1.3790 - bb_loss: 1334.7246 - class_loss: 0.0443 - bb_acc: 0.5666 - class_acc: 0.9921    \n",
      "Epoch 2/8\n",
      "3777/3777 [==============================] - 42s - loss: 1.0142 - bb_loss: 908.1636 - class_loss: 0.1060 - bb_acc: 0.6209 - class_acc: 0.9688    \n",
      "Epoch 3/8\n",
      "3777/3777 [==============================] - 42s - loss: 0.6480 - bb_loss: 585.3943 - class_loss: 0.0626 - bb_acc: 0.7532 - class_acc: 0.9815    \n",
      "Epoch 4/8\n",
      "3777/3777 [==============================] - 42s - loss: 0.4612 - bb_loss: 404.3473 - class_loss: 0.0569 - bb_acc: 0.7829 - class_acc: 0.9844    \n",
      "Epoch 5/8\n",
      "3777/3777 [==============================] - 42s - loss: 0.4852 - bb_loss: 393.0133 - class_loss: 0.0922 - bb_acc: 0.7993 - class_acc: 0.9722    \n",
      "Epoch 6/8\n",
      "3777/3777 [==============================] - 42s - loss: 0.5534 - bb_loss: 474.9048 - class_loss: 0.0785 - bb_acc: 0.8141 - class_acc: 0.9754    \n",
      "Epoch 7/8\n",
      "3777/3777 [==============================] - 42s - loss: 0.3217 - bb_loss: 291.4751 - class_loss: 0.0303 - bb_acc: 0.8231 - class_acc: 0.9905    \n",
      "Epoch 8/8\n",
      "3777/3777 [==============================] - 42s - loss: 0.2951 - bb_loss: 258.0665 - class_loss: 0.0370 - bb_acc: 0.8194 - class_acc: 0.9905    \n"
     ]
    }
   ],
   "source": [
    "for i in range(200):\n",
    "    print('Training model {}'.format(i))\n",
    "    fully_conv(i)"
   ]
  },
  {
   "cell_type": "code",
   "execution_count": 24,
   "metadata": {
    "collapsed": false
   },
   "outputs": [
    {
     "name": "stdout",
     "output_type": "stream",
     "text": [
      "Finish predicting 110 samples\n",
      "Finish predicting 120 samples\n",
      "Finish predicting 130 samples\n",
      "Finish predicting 140 samples\n",
      "Finish predicting 150 samples\n",
      "Finish predicting 160 samples\n",
      "Finish predicting 170 samples\n",
      "Finish predicting 180 samples\n",
      "Finish predicting 190 samples\n",
      "Finish predicting 200 samples\n"
     ]
    }
   ],
   "source": [
    "preds_ens = []\n",
    "for i in range(200):\n",
    "    model.load_weights(path+'models/resnet_bb_'+str(i)+'.h5')\n",
    "    preds_ens.append(model.predict(conv_test_feat, batch_size = batch_size*4)[1])\n",
    "    if i % 10 == 9:\n",
    "        print('Finish predicting {} samples'.format(i+1))"
   ]
  },
  {
   "cell_type": "code",
   "execution_count": 29,
   "metadata": {
    "collapsed": false
   },
   "outputs": [
    {
     "name": "stdout",
     "output_type": "stream",
     "text": [
      "Finish predicting 110 samples\n",
      "Finish predicting 120 samples\n",
      "Finish predicting 130 samples\n",
      "Finish predicting 140 samples\n",
      "Finish predicting 150 samples\n",
      "Finish predicting 160 samples\n",
      "Finish predicting 170 samples\n",
      "Finish predicting 180 samples\n",
      "Finish predicting 190 samples\n",
      "Finish predicting 200 samples\n"
     ]
    }
   ],
   "source": [
    "preds2_ens = []\n",
    "for i in range(100, 200):\n",
    "    model.load_weights(path+'models/resnet_bb_'+str(i)+'.h5')\n",
    "    preds2_ens.append(model.predict(conv_test2_feat, batch_size = batch_size*4)[1])\n",
    "    if i % 10 == 9:\n",
    "        print('Finish predicting {} samples'.format(i+1))"
   ]
  },
  {
   "cell_type": "code",
   "execution_count": null,
   "metadata": {
    "collapsed": true
   },
   "outputs": [],
   "source": [
    "preds_ens_resnet_bb = np.stack(preds_ens)\n",
    "preds_ens_resnet_bb.shape"
   ]
  },
  {
   "cell_type": "code",
   "execution_count": null,
   "metadata": {
    "collapsed": true
   },
   "outputs": [],
   "source": [
    "save_array(path+'results/preds_ens_resnet_bb.dat', preds_ens_resnet_bb)"
   ]
  },
  {
   "cell_type": "code",
   "execution_count": 30,
   "metadata": {
    "collapsed": false
   },
   "outputs": [
    {
     "data": {
      "text/plain": [
       "(100, 12153, 8)"
      ]
     },
     "execution_count": 30,
     "metadata": {},
     "output_type": "execute_result"
    }
   ],
   "source": [
    "preds2_ens_resnet_bb = np.stack(preds2_ens)\n",
    "preds2_ens_resnet_bb.shape"
   ]
  },
  {
   "cell_type": "code",
   "execution_count": 31,
   "metadata": {
    "collapsed": true
   },
   "outputs": [],
   "source": [
    "save_array(path+'results/preds2_ens_resnet_bb.dat', preds2_ens_resnet_bb)"
   ]
  },
  {
   "cell_type": "markdown",
   "metadata": {},
   "source": [
    "## InceptionV3 model"
   ]
  },
  {
   "cell_type": "markdown",
   "metadata": {},
   "source": [
    "### Calculate convolutional features based on pre-trained model"
   ]
  },
  {
   "cell_type": "code",
   "execution_count": 76,
   "metadata": {
    "collapsed": true
   },
   "outputs": [],
   "source": [
    "# The InceptionV3 Imagenet model\n",
    "class InceptionV3():\n",
    "\n",
    "    def __init__(self, size=(224,224), include_top=True):\n",
    "        path = 'https://github.com/fchollet/deep-learning-models/releases/download/v0.2/'\n",
    "        self.FILE_PATH = path + 'inception_v3_weights_th_dim_ordering_th_kernels.h5'\n",
    "        self.FILE_PATH_NO_TOP = path + 'inception_v3_weights_th_dim_ordering_th_kernels_notop.h5'\n",
    "        self.create(size, include_top)\n",
    "\n",
    "    def inception_preprocess(self, x):\n",
    "        x /= 255.\n",
    "        x -= 0.5\n",
    "        x *= 2.\n",
    "        return x\n",
    "\n",
    "    def create(self, size, include_top):\n",
    "        input_shape = (3,)+size\n",
    "        img_input = Input(shape=input_shape)\n",
    "        channel_axis = 1\n",
    "\n",
    "        x = Lambda(self.inception_preprocess)(img_input)\n",
    "        x = conv2d_bn(img_input, 32, 3, 3, subsample=(2, 2), border_mode='valid')\n",
    "        x = conv2d_bn(x, 32, 3, 3, border_mode='valid')\n",
    "        x = conv2d_bn(x, 64, 3, 3)\n",
    "        x = MaxPooling2D((3, 3), strides=(2, 2))(x)\n",
    "\n",
    "        x = conv2d_bn(x, 80, 1, 1, border_mode='valid')\n",
    "        x = conv2d_bn(x, 192, 3, 3, border_mode='valid')\n",
    "        x = MaxPooling2D((3, 3), strides=(2, 2))(x)\n",
    "\n",
    "        # mixed 0, 1, 2: 35 x 35 x 256\n",
    "        for i in range(3):\n",
    "            branch1x1 = conv2d_bn(x, 64, 1, 1)\n",
    "\n",
    "            branch5x5 = conv2d_bn(x, 48, 1, 1)\n",
    "            branch5x5 = conv2d_bn(branch5x5, 64, 5, 5)\n",
    "\n",
    "            branch3x3dbl = conv2d_bn(x, 64, 1, 1)\n",
    "            branch3x3dbl = conv2d_bn(branch3x3dbl, 96, 3, 3)\n",
    "            branch3x3dbl = conv2d_bn(branch3x3dbl, 96, 3, 3)\n",
    "\n",
    "            branch_pool = AveragePooling2D(\n",
    "                (3, 3), strides=(1, 1), border_mode='same')(x)\n",
    "            branch_pool = conv2d_bn(branch_pool, 32, 1, 1)\n",
    "            x = merge([branch1x1, branch5x5, branch3x3dbl, branch_pool],\n",
    "                      mode='concat', concat_axis=channel_axis,\n",
    "                      name='mixed' + str(i))\n",
    "\n",
    "        # mixed 3: 17 x 17 x 768\n",
    "        branch3x3 = conv2d_bn(x, 384, 3, 3, subsample=(2, 2), border_mode='valid')\n",
    "\n",
    "        branch3x3dbl = conv2d_bn(x, 64, 1, 1)\n",
    "        branch3x3dbl = conv2d_bn(branch3x3dbl, 96, 3, 3)\n",
    "        branch3x3dbl = conv2d_bn(branch3x3dbl, 96, 3, 3,\n",
    "                                 subsample=(2, 2), border_mode='valid')\n",
    "\n",
    "        branch_pool = MaxPooling2D((3, 3), strides=(2, 2))(x)\n",
    "        x = merge([branch3x3, branch3x3dbl, branch_pool],\n",
    "                  mode='concat', concat_axis=channel_axis,\n",
    "                  name='mixed3')\n",
    "\n",
    "        # mixed 4: 17 x 17 x 768\n",
    "        branch1x1 = conv2d_bn(x, 192, 1, 1)\n",
    "\n",
    "        branch7x7 = conv2d_bn(x, 128, 1, 1)\n",
    "        branch7x7 = conv2d_bn(branch7x7, 128, 1, 7)\n",
    "        branch7x7 = conv2d_bn(branch7x7, 192, 7, 1)\n",
    "\n",
    "        branch7x7dbl = conv2d_bn(x, 128, 1, 1)\n",
    "        branch7x7dbl = conv2d_bn(branch7x7dbl, 128, 7, 1)\n",
    "        branch7x7dbl = conv2d_bn(branch7x7dbl, 128, 1, 7)\n",
    "        branch7x7dbl = conv2d_bn(branch7x7dbl, 128, 7, 1)\n",
    "        branch7x7dbl = conv2d_bn(branch7x7dbl, 192, 1, 7)\n",
    "\n",
    "        branch_pool = AveragePooling2D((3, 3), strides=(1, 1), border_mode='same')(x)\n",
    "        branch_pool = conv2d_bn(branch_pool, 192, 1, 1)\n",
    "        x = merge([branch1x1, branch7x7, branch7x7dbl, branch_pool],\n",
    "                  mode='concat', concat_axis=channel_axis,\n",
    "                  name='mixed4')\n",
    "\n",
    "        # mixed 5, 6: 17 x 17 x 768\n",
    "        for i in range(2):\n",
    "            branch1x1 = conv2d_bn(x, 192, 1, 1)\n",
    "\n",
    "            branch7x7 = conv2d_bn(x, 160, 1, 1)\n",
    "            branch7x7 = conv2d_bn(branch7x7, 160, 1, 7)\n",
    "            branch7x7 = conv2d_bn(branch7x7, 192, 7, 1)\n",
    "\n",
    "            branch7x7dbl = conv2d_bn(x, 160, 1, 1)\n",
    "            branch7x7dbl = conv2d_bn(branch7x7dbl, 160, 7, 1)\n",
    "            branch7x7dbl = conv2d_bn(branch7x7dbl, 160, 1, 7)\n",
    "            branch7x7dbl = conv2d_bn(branch7x7dbl, 160, 7, 1)\n",
    "            branch7x7dbl = conv2d_bn(branch7x7dbl, 192, 1, 7)\n",
    "\n",
    "            branch_pool = AveragePooling2D(\n",
    "                (3, 3), strides=(1, 1), border_mode='same')(x)\n",
    "            branch_pool = conv2d_bn(branch_pool, 192, 1, 1)\n",
    "            x = merge([branch1x1, branch7x7, branch7x7dbl, branch_pool],\n",
    "                      mode='concat', concat_axis=channel_axis,\n",
    "                      name='mixed' + str(5 + i))\n",
    "\n",
    "        # mixed 7: 17 x 17 x 768\n",
    "        branch1x1 = conv2d_bn(x, 192, 1, 1)\n",
    "\n",
    "        branch7x7 = conv2d_bn(x, 192, 1, 1)\n",
    "        branch7x7 = conv2d_bn(branch7x7, 192, 1, 7)\n",
    "        branch7x7 = conv2d_bn(branch7x7, 192, 7, 1)\n",
    "\n",
    "        branch7x7dbl = conv2d_bn(x, 160, 1, 1)\n",
    "        branch7x7dbl = conv2d_bn(branch7x7dbl, 192, 7, 1)\n",
    "        branch7x7dbl = conv2d_bn(branch7x7dbl, 192, 1, 7)\n",
    "        branch7x7dbl = conv2d_bn(branch7x7dbl, 192, 7, 1)\n",
    "        branch7x7dbl = conv2d_bn(branch7x7dbl, 192, 1, 7)\n",
    "\n",
    "        branch_pool = AveragePooling2D((3, 3), strides=(1, 1), border_mode='same')(x)\n",
    "        branch_pool = conv2d_bn(branch_pool, 192, 1, 1)\n",
    "        x = merge([branch1x1, branch7x7, branch7x7dbl, branch_pool],\n",
    "                  mode='concat', concat_axis=channel_axis,\n",
    "                  name='mixed7')\n",
    "\n",
    "        # mixed 8: 8 x 8 x 1280\n",
    "        branch3x3 = conv2d_bn(x, 192, 1, 1)\n",
    "        branch3x3 = conv2d_bn(branch3x3, 320, 3, 3,\n",
    "                              subsample=(2, 2), border_mode='valid')\n",
    "\n",
    "        branch7x7x3 = conv2d_bn(x, 192, 1, 1)\n",
    "        branch7x7x3 = conv2d_bn(branch7x7x3, 192, 1, 7)\n",
    "        branch7x7x3 = conv2d_bn(branch7x7x3, 192, 7, 1)\n",
    "        branch7x7x3 = conv2d_bn(branch7x7x3, 192, 3, 3,\n",
    "                                subsample=(2, 2), border_mode='valid')\n",
    "\n",
    "        branch_pool = AveragePooling2D((3, 3), strides=(2, 2))(x)\n",
    "        x = merge([branch3x3, branch7x7x3, branch_pool],\n",
    "                  mode='concat', concat_axis=channel_axis,\n",
    "                  name='mixed8')\n",
    "\n",
    "        # mixed 9: 8 x 8 x 2048\n",
    "        for i in range(2):\n",
    "            branch1x1 = conv2d_bn(x, 320, 1, 1)\n",
    "\n",
    "            branch3x3 = conv2d_bn(x, 384, 1, 1)\n",
    "            branch3x3_1 = conv2d_bn(branch3x3, 384, 1, 3)\n",
    "            branch3x3_2 = conv2d_bn(branch3x3, 384, 3, 1)\n",
    "            branch3x3 = merge([branch3x3_1, branch3x3_2],\n",
    "                              mode='concat', concat_axis=channel_axis,\n",
    "                              name='mixed9_' + str(i))\n",
    "\n",
    "            branch3x3dbl = conv2d_bn(x, 448, 1, 1)\n",
    "            branch3x3dbl = conv2d_bn(branch3x3dbl, 384, 3, 3)\n",
    "            branch3x3dbl_1 = conv2d_bn(branch3x3dbl, 384, 1, 3)\n",
    "            branch3x3dbl_2 = conv2d_bn(branch3x3dbl, 384, 3, 1)\n",
    "            branch3x3dbl = merge([branch3x3dbl_1, branch3x3dbl_2],\n",
    "                                 mode='concat', concat_axis=channel_axis)\n",
    "\n",
    "            branch_pool = AveragePooling2D(\n",
    "                (3, 3), strides=(1, 1), border_mode='same')(x)\n",
    "            branch_pool = conv2d_bn(branch_pool, 192, 1, 1)\n",
    "            x = merge([branch1x1, branch3x3, branch3x3dbl, branch_pool],\n",
    "                      mode='concat', concat_axis=channel_axis,\n",
    "                      name='mixed' + str(9 + i))\n",
    "\n",
    "        if include_top:\n",
    "            x = AveragePooling2D((8, 8), strides=(8, 8), name='avg_pool')(x)\n",
    "            x = Flatten(name='flatten')(x)\n",
    "            x = Dense(1000, activation='softmax', name='predictions')(x)\n",
    "            weights_path = get_file('inception_v3_weights_th_dim_ordering_th_kernels.h5',\n",
    "                                    self.FILE_PATH,\n",
    "                                    cache_subdir='models',\n",
    "                                    md5_hash='b3baf3070cc4bf476d43a2ea61b0ca5f')\n",
    "        else:\n",
    "            weights_path = get_file('inception_v3_weights_th_dim_ordering_th_kernels_notop.h5',\n",
    "                                    self.FILE_PATH_NO_TOP,\n",
    "                                    cache_subdir='models',\n",
    "                                    md5_hash='79aaa90ab4372b4593ba3df64e142f05')\n",
    "\n",
    "        self.img_input = img_input\n",
    "        self.model = Model(self.img_input, x)\n",
    "        convert_all_kernels_in_model(self.model)\n",
    "        self.model.load_weights(weights_path)"
   ]
  },
  {
   "cell_type": "code",
   "execution_count": 77,
   "metadata": {
    "collapsed": false
   },
   "outputs": [],
   "source": [
    "inception = InceptionV3(size = (360, 640), include_top = False).model"
   ]
  },
  {
   "cell_type": "code",
   "execution_count": 78,
   "metadata": {
    "collapsed": true
   },
   "outputs": [],
   "source": [
    "inception.compile(optimizer = Adam(), loss = 'categorical_crossentropy', metrics = ['accuracy'])"
   ]
  },
  {
   "cell_type": "code",
   "execution_count": 79,
   "metadata": {
    "collapsed": false
   },
   "outputs": [
    {
     "name": "stdout",
     "output_type": "stream",
     "text": [
      "____________________________________________________________________________________________________\n",
      "Layer (type)                     Output Shape          Param #     Connected to                     \n",
      "====================================================================================================\n",
      "input_3 (InputLayer)             (None, 3, 360, 640)   0                                            \n",
      "____________________________________________________________________________________________________\n",
      "convolution2d_31 (Convolution2D) (None, 32, 179, 319)  896         input_3[0][0]                    \n",
      "____________________________________________________________________________________________________\n",
      "batchnormalization_17 (BatchNorma(None, 32, 179, 319)  64          convolution2d_31[0][0]           \n",
      "____________________________________________________________________________________________________\n",
      "convolution2d_32 (Convolution2D) (None, 32, 177, 317)  9248        batchnormalization_17[0][0]      \n",
      "____________________________________________________________________________________________________\n",
      "batchnormalization_18 (BatchNorma(None, 32, 177, 317)  64          convolution2d_32[0][0]           \n",
      "____________________________________________________________________________________________________\n",
      "convolution2d_33 (Convolution2D) (None, 64, 177, 317)  18496       batchnormalization_18[0][0]      \n",
      "____________________________________________________________________________________________________\n",
      "batchnormalization_19 (BatchNorma(None, 64, 177, 317)  128         convolution2d_33[0][0]           \n",
      "____________________________________________________________________________________________________\n",
      "maxpooling2d_19 (MaxPooling2D)   (None, 64, 88, 158)   0           batchnormalization_19[0][0]      \n",
      "____________________________________________________________________________________________________\n",
      "convolution2d_34 (Convolution2D) (None, 80, 88, 158)   5200        maxpooling2d_19[0][0]            \n",
      "____________________________________________________________________________________________________\n",
      "batchnormalization_20 (BatchNorma(None, 80, 88, 158)   160         convolution2d_34[0][0]           \n",
      "____________________________________________________________________________________________________\n",
      "convolution2d_35 (Convolution2D) (None, 192, 86, 156)  138432      batchnormalization_20[0][0]      \n",
      "____________________________________________________________________________________________________\n",
      "batchnormalization_21 (BatchNorma(None, 192, 86, 156)  384         convolution2d_35[0][0]           \n",
      "____________________________________________________________________________________________________\n",
      "maxpooling2d_20 (MaxPooling2D)   (None, 192, 42, 77)   0           batchnormalization_21[0][0]      \n",
      "____________________________________________________________________________________________________\n",
      "convolution2d_39 (Convolution2D) (None, 64, 42, 77)    12352       maxpooling2d_20[0][0]            \n",
      "____________________________________________________________________________________________________\n",
      "batchnormalization_25 (BatchNorma(None, 64, 42, 77)    128         convolution2d_39[0][0]           \n",
      "____________________________________________________________________________________________________\n",
      "convolution2d_37 (Convolution2D) (None, 48, 42, 77)    9264        maxpooling2d_20[0][0]            \n",
      "____________________________________________________________________________________________________\n",
      "convolution2d_40 (Convolution2D) (None, 96, 42, 77)    55392       batchnormalization_25[0][0]      \n",
      "____________________________________________________________________________________________________\n",
      "batchnormalization_23 (BatchNorma(None, 48, 42, 77)    96          convolution2d_37[0][0]           \n",
      "____________________________________________________________________________________________________\n",
      "batchnormalization_26 (BatchNorma(None, 96, 42, 77)    192         convolution2d_40[0][0]           \n",
      "____________________________________________________________________________________________________\n",
      "averagepooling2d_1 (AveragePoolin(None, 192, 42, 77)   0           maxpooling2d_20[0][0]            \n",
      "____________________________________________________________________________________________________\n",
      "convolution2d_36 (Convolution2D) (None, 64, 42, 77)    12352       maxpooling2d_20[0][0]            \n",
      "____________________________________________________________________________________________________\n",
      "convolution2d_38 (Convolution2D) (None, 64, 42, 77)    76864       batchnormalization_23[0][0]      \n",
      "____________________________________________________________________________________________________\n",
      "convolution2d_41 (Convolution2D) (None, 96, 42, 77)    83040       batchnormalization_26[0][0]      \n",
      "____________________________________________________________________________________________________\n",
      "convolution2d_42 (Convolution2D) (None, 32, 42, 77)    6176        averagepooling2d_1[0][0]         \n",
      "____________________________________________________________________________________________________\n",
      "batchnormalization_22 (BatchNorma(None, 64, 42, 77)    128         convolution2d_36[0][0]           \n",
      "____________________________________________________________________________________________________\n",
      "batchnormalization_24 (BatchNorma(None, 64, 42, 77)    128         convolution2d_38[0][0]           \n",
      "____________________________________________________________________________________________________\n",
      "batchnormalization_27 (BatchNorma(None, 96, 42, 77)    192         convolution2d_41[0][0]           \n",
      "____________________________________________________________________________________________________\n",
      "batchnormalization_28 (BatchNorma(None, 32, 42, 77)    64          convolution2d_42[0][0]           \n",
      "____________________________________________________________________________________________________\n",
      "mixed0 (Merge)                   (None, 256, 42, 77)   0           batchnormalization_22[0][0]      \n",
      "                                                                   batchnormalization_24[0][0]      \n",
      "                                                                   batchnormalization_27[0][0]      \n",
      "                                                                   batchnormalization_28[0][0]      \n",
      "____________________________________________________________________________________________________\n",
      "convolution2d_46 (Convolution2D) (None, 64, 42, 77)    16448       mixed0[0][0]                     \n",
      "____________________________________________________________________________________________________\n",
      "batchnormalization_32 (BatchNorma(None, 64, 42, 77)    128         convolution2d_46[0][0]           \n",
      "____________________________________________________________________________________________________\n",
      "convolution2d_44 (Convolution2D) (None, 48, 42, 77)    12336       mixed0[0][0]                     \n",
      "____________________________________________________________________________________________________\n",
      "convolution2d_47 (Convolution2D) (None, 96, 42, 77)    55392       batchnormalization_32[0][0]      \n",
      "____________________________________________________________________________________________________\n",
      "batchnormalization_30 (BatchNorma(None, 48, 42, 77)    96          convolution2d_44[0][0]           \n",
      "____________________________________________________________________________________________________\n",
      "batchnormalization_33 (BatchNorma(None, 96, 42, 77)    192         convolution2d_47[0][0]           \n",
      "____________________________________________________________________________________________________\n",
      "averagepooling2d_2 (AveragePoolin(None, 256, 42, 77)   0           mixed0[0][0]                     \n",
      "____________________________________________________________________________________________________\n",
      "convolution2d_43 (Convolution2D) (None, 64, 42, 77)    16448       mixed0[0][0]                     \n",
      "____________________________________________________________________________________________________\n",
      "convolution2d_45 (Convolution2D) (None, 64, 42, 77)    76864       batchnormalization_30[0][0]      \n",
      "____________________________________________________________________________________________________\n",
      "convolution2d_48 (Convolution2D) (None, 96, 42, 77)    83040       batchnormalization_33[0][0]      \n",
      "____________________________________________________________________________________________________\n",
      "convolution2d_49 (Convolution2D) (None, 32, 42, 77)    8224        averagepooling2d_2[0][0]         \n",
      "____________________________________________________________________________________________________\n",
      "batchnormalization_29 (BatchNorma(None, 64, 42, 77)    128         convolution2d_43[0][0]           \n",
      "____________________________________________________________________________________________________\n",
      "batchnormalization_31 (BatchNorma(None, 64, 42, 77)    128         convolution2d_45[0][0]           \n",
      "____________________________________________________________________________________________________\n",
      "batchnormalization_34 (BatchNorma(None, 96, 42, 77)    192         convolution2d_48[0][0]           \n",
      "____________________________________________________________________________________________________\n",
      "batchnormalization_35 (BatchNorma(None, 32, 42, 77)    64          convolution2d_49[0][0]           \n",
      "____________________________________________________________________________________________________\n",
      "mixed1 (Merge)                   (None, 256, 42, 77)   0           batchnormalization_29[0][0]      \n",
      "                                                                   batchnormalization_31[0][0]      \n",
      "                                                                   batchnormalization_34[0][0]      \n",
      "                                                                   batchnormalization_35[0][0]      \n",
      "____________________________________________________________________________________________________\n",
      "convolution2d_53 (Convolution2D) (None, 64, 42, 77)    16448       mixed1[0][0]                     \n",
      "____________________________________________________________________________________________________\n",
      "batchnormalization_39 (BatchNorma(None, 64, 42, 77)    128         convolution2d_53[0][0]           \n",
      "____________________________________________________________________________________________________\n",
      "convolution2d_51 (Convolution2D) (None, 48, 42, 77)    12336       mixed1[0][0]                     \n",
      "____________________________________________________________________________________________________\n",
      "convolution2d_54 (Convolution2D) (None, 96, 42, 77)    55392       batchnormalization_39[0][0]      \n",
      "____________________________________________________________________________________________________\n",
      "batchnormalization_37 (BatchNorma(None, 48, 42, 77)    96          convolution2d_51[0][0]           \n",
      "____________________________________________________________________________________________________\n",
      "batchnormalization_40 (BatchNorma(None, 96, 42, 77)    192         convolution2d_54[0][0]           \n",
      "____________________________________________________________________________________________________\n",
      "averagepooling2d_3 (AveragePoolin(None, 256, 42, 77)   0           mixed1[0][0]                     \n",
      "____________________________________________________________________________________________________\n",
      "convolution2d_50 (Convolution2D) (None, 64, 42, 77)    16448       mixed1[0][0]                     \n",
      "____________________________________________________________________________________________________\n",
      "convolution2d_52 (Convolution2D) (None, 64, 42, 77)    76864       batchnormalization_37[0][0]      \n",
      "____________________________________________________________________________________________________\n",
      "convolution2d_55 (Convolution2D) (None, 96, 42, 77)    83040       batchnormalization_40[0][0]      \n",
      "____________________________________________________________________________________________________\n",
      "convolution2d_56 (Convolution2D) (None, 32, 42, 77)    8224        averagepooling2d_3[0][0]         \n",
      "____________________________________________________________________________________________________\n",
      "batchnormalization_36 (BatchNorma(None, 64, 42, 77)    128         convolution2d_50[0][0]           \n",
      "____________________________________________________________________________________________________\n",
      "batchnormalization_38 (BatchNorma(None, 64, 42, 77)    128         convolution2d_52[0][0]           \n",
      "____________________________________________________________________________________________________\n",
      "batchnormalization_41 (BatchNorma(None, 96, 42, 77)    192         convolution2d_55[0][0]           \n",
      "____________________________________________________________________________________________________\n",
      "batchnormalization_42 (BatchNorma(None, 32, 42, 77)    64          convolution2d_56[0][0]           \n",
      "____________________________________________________________________________________________________\n",
      "mixed2 (Merge)                   (None, 256, 42, 77)   0           batchnormalization_36[0][0]      \n",
      "                                                                   batchnormalization_38[0][0]      \n",
      "                                                                   batchnormalization_41[0][0]      \n",
      "                                                                   batchnormalization_42[0][0]      \n",
      "____________________________________________________________________________________________________\n",
      "convolution2d_58 (Convolution2D) (None, 64, 42, 77)    16448       mixed2[0][0]                     \n",
      "____________________________________________________________________________________________________\n",
      "batchnormalization_44 (BatchNorma(None, 64, 42, 77)    128         convolution2d_58[0][0]           \n",
      "____________________________________________________________________________________________________\n",
      "convolution2d_59 (Convolution2D) (None, 96, 42, 77)    55392       batchnormalization_44[0][0]      \n",
      "____________________________________________________________________________________________________\n",
      "batchnormalization_45 (BatchNorma(None, 96, 42, 77)    192         convolution2d_59[0][0]           \n",
      "____________________________________________________________________________________________________\n",
      "convolution2d_57 (Convolution2D) (None, 384, 20, 38)   885120      mixed2[0][0]                     \n",
      "____________________________________________________________________________________________________\n",
      "convolution2d_60 (Convolution2D) (None, 96, 20, 38)    83040       batchnormalization_45[0][0]      \n",
      "____________________________________________________________________________________________________\n",
      "batchnormalization_43 (BatchNorma(None, 384, 20, 38)   768         convolution2d_57[0][0]           \n",
      "____________________________________________________________________________________________________\n",
      "batchnormalization_46 (BatchNorma(None, 96, 20, 38)    192         convolution2d_60[0][0]           \n",
      "____________________________________________________________________________________________________\n",
      "maxpooling2d_21 (MaxPooling2D)   (None, 256, 20, 38)   0           mixed2[0][0]                     \n",
      "____________________________________________________________________________________________________\n",
      "mixed3 (Merge)                   (None, 736, 20, 38)   0           batchnormalization_43[0][0]      \n",
      "                                                                   batchnormalization_46[0][0]      \n",
      "                                                                   maxpooling2d_21[0][0]            \n",
      "____________________________________________________________________________________________________\n",
      "convolution2d_65 (Convolution2D) (None, 128, 20, 38)   94336       mixed3[0][0]                     \n",
      "____________________________________________________________________________________________________\n",
      "batchnormalization_51 (BatchNorma(None, 128, 20, 38)   256         convolution2d_65[0][0]           \n",
      "____________________________________________________________________________________________________\n",
      "convolution2d_66 (Convolution2D) (None, 128, 20, 38)   114816      batchnormalization_51[0][0]      \n",
      "____________________________________________________________________________________________________\n",
      "batchnormalization_52 (BatchNorma(None, 128, 20, 38)   256         convolution2d_66[0][0]           \n",
      "____________________________________________________________________________________________________\n",
      "convolution2d_62 (Convolution2D) (None, 128, 20, 38)   94336       mixed3[0][0]                     \n",
      "____________________________________________________________________________________________________\n",
      "convolution2d_67 (Convolution2D) (None, 128, 20, 38)   114816      batchnormalization_52[0][0]      \n",
      "____________________________________________________________________________________________________\n",
      "batchnormalization_48 (BatchNorma(None, 128, 20, 38)   256         convolution2d_62[0][0]           \n",
      "____________________________________________________________________________________________________\n",
      "batchnormalization_53 (BatchNorma(None, 128, 20, 38)   256         convolution2d_67[0][0]           \n",
      "____________________________________________________________________________________________________\n",
      "convolution2d_63 (Convolution2D) (None, 128, 20, 38)   114816      batchnormalization_48[0][0]      \n",
      "____________________________________________________________________________________________________\n",
      "convolution2d_68 (Convolution2D) (None, 128, 20, 38)   114816      batchnormalization_53[0][0]      \n",
      "____________________________________________________________________________________________________\n",
      "batchnormalization_49 (BatchNorma(None, 128, 20, 38)   256         convolution2d_63[0][0]           \n",
      "____________________________________________________________________________________________________\n",
      "batchnormalization_54 (BatchNorma(None, 128, 20, 38)   256         convolution2d_68[0][0]           \n",
      "____________________________________________________________________________________________________\n",
      "averagepooling2d_4 (AveragePoolin(None, 736, 20, 38)   0           mixed3[0][0]                     \n",
      "____________________________________________________________________________________________________\n",
      "convolution2d_61 (Convolution2D) (None, 192, 20, 38)   141504      mixed3[0][0]                     \n",
      "____________________________________________________________________________________________________\n",
      "convolution2d_64 (Convolution2D) (None, 192, 20, 38)   172224      batchnormalization_49[0][0]      \n",
      "____________________________________________________________________________________________________\n",
      "convolution2d_69 (Convolution2D) (None, 192, 20, 38)   172224      batchnormalization_54[0][0]      \n",
      "____________________________________________________________________________________________________\n",
      "convolution2d_70 (Convolution2D) (None, 192, 20, 38)   141504      averagepooling2d_4[0][0]         \n",
      "____________________________________________________________________________________________________\n",
      "batchnormalization_47 (BatchNorma(None, 192, 20, 38)   384         convolution2d_61[0][0]           \n",
      "____________________________________________________________________________________________________\n",
      "batchnormalization_50 (BatchNorma(None, 192, 20, 38)   384         convolution2d_64[0][0]           \n",
      "____________________________________________________________________________________________________\n",
      "batchnormalization_55 (BatchNorma(None, 192, 20, 38)   384         convolution2d_69[0][0]           \n",
      "____________________________________________________________________________________________________\n",
      "batchnormalization_56 (BatchNorma(None, 192, 20, 38)   384         convolution2d_70[0][0]           \n",
      "____________________________________________________________________________________________________\n",
      "mixed4 (Merge)                   (None, 768, 20, 38)   0           batchnormalization_47[0][0]      \n",
      "                                                                   batchnormalization_50[0][0]      \n",
      "                                                                   batchnormalization_55[0][0]      \n",
      "                                                                   batchnormalization_56[0][0]      \n",
      "____________________________________________________________________________________________________\n",
      "convolution2d_75 (Convolution2D) (None, 160, 20, 38)   123040      mixed4[0][0]                     \n",
      "____________________________________________________________________________________________________\n",
      "batchnormalization_61 (BatchNorma(None, 160, 20, 38)   320         convolution2d_75[0][0]           \n",
      "____________________________________________________________________________________________________\n",
      "convolution2d_76 (Convolution2D) (None, 160, 20, 38)   179360      batchnormalization_61[0][0]      \n",
      "____________________________________________________________________________________________________\n",
      "batchnormalization_62 (BatchNorma(None, 160, 20, 38)   320         convolution2d_76[0][0]           \n",
      "____________________________________________________________________________________________________\n",
      "convolution2d_72 (Convolution2D) (None, 160, 20, 38)   123040      mixed4[0][0]                     \n",
      "____________________________________________________________________________________________________\n",
      "convolution2d_77 (Convolution2D) (None, 160, 20, 38)   179360      batchnormalization_62[0][0]      \n",
      "____________________________________________________________________________________________________\n",
      "batchnormalization_58 (BatchNorma(None, 160, 20, 38)   320         convolution2d_72[0][0]           \n",
      "____________________________________________________________________________________________________\n",
      "batchnormalization_63 (BatchNorma(None, 160, 20, 38)   320         convolution2d_77[0][0]           \n",
      "____________________________________________________________________________________________________\n",
      "convolution2d_73 (Convolution2D) (None, 160, 20, 38)   179360      batchnormalization_58[0][0]      \n",
      "____________________________________________________________________________________________________\n",
      "convolution2d_78 (Convolution2D) (None, 160, 20, 38)   179360      batchnormalization_63[0][0]      \n",
      "____________________________________________________________________________________________________\n",
      "batchnormalization_59 (BatchNorma(None, 160, 20, 38)   320         convolution2d_73[0][0]           \n",
      "____________________________________________________________________________________________________\n",
      "batchnormalization_64 (BatchNorma(None, 160, 20, 38)   320         convolution2d_78[0][0]           \n",
      "____________________________________________________________________________________________________\n",
      "averagepooling2d_5 (AveragePoolin(None, 768, 20, 38)   0           mixed4[0][0]                     \n",
      "____________________________________________________________________________________________________\n",
      "convolution2d_71 (Convolution2D) (None, 192, 20, 38)   147648      mixed4[0][0]                     \n",
      "____________________________________________________________________________________________________\n",
      "convolution2d_74 (Convolution2D) (None, 192, 20, 38)   215232      batchnormalization_59[0][0]      \n",
      "____________________________________________________________________________________________________\n",
      "convolution2d_79 (Convolution2D) (None, 192, 20, 38)   215232      batchnormalization_64[0][0]      \n",
      "____________________________________________________________________________________________________\n",
      "convolution2d_80 (Convolution2D) (None, 192, 20, 38)   147648      averagepooling2d_5[0][0]         \n",
      "____________________________________________________________________________________________________\n",
      "batchnormalization_57 (BatchNorma(None, 192, 20, 38)   384         convolution2d_71[0][0]           \n",
      "____________________________________________________________________________________________________\n",
      "batchnormalization_60 (BatchNorma(None, 192, 20, 38)   384         convolution2d_74[0][0]           \n",
      "____________________________________________________________________________________________________\n",
      "batchnormalization_65 (BatchNorma(None, 192, 20, 38)   384         convolution2d_79[0][0]           \n",
      "____________________________________________________________________________________________________\n",
      "batchnormalization_66 (BatchNorma(None, 192, 20, 38)   384         convolution2d_80[0][0]           \n",
      "____________________________________________________________________________________________________\n",
      "mixed5 (Merge)                   (None, 768, 20, 38)   0           batchnormalization_57[0][0]      \n",
      "                                                                   batchnormalization_60[0][0]      \n",
      "                                                                   batchnormalization_65[0][0]      \n",
      "                                                                   batchnormalization_66[0][0]      \n",
      "____________________________________________________________________________________________________\n",
      "convolution2d_85 (Convolution2D) (None, 160, 20, 38)   123040      mixed5[0][0]                     \n",
      "____________________________________________________________________________________________________\n",
      "batchnormalization_71 (BatchNorma(None, 160, 20, 38)   320         convolution2d_85[0][0]           \n",
      "____________________________________________________________________________________________________\n",
      "convolution2d_86 (Convolution2D) (None, 160, 20, 38)   179360      batchnormalization_71[0][0]      \n",
      "____________________________________________________________________________________________________\n",
      "batchnormalization_72 (BatchNorma(None, 160, 20, 38)   320         convolution2d_86[0][0]           \n",
      "____________________________________________________________________________________________________\n",
      "convolution2d_82 (Convolution2D) (None, 160, 20, 38)   123040      mixed5[0][0]                     \n",
      "____________________________________________________________________________________________________\n",
      "convolution2d_87 (Convolution2D) (None, 160, 20, 38)   179360      batchnormalization_72[0][0]      \n",
      "____________________________________________________________________________________________________\n",
      "batchnormalization_68 (BatchNorma(None, 160, 20, 38)   320         convolution2d_82[0][0]           \n",
      "____________________________________________________________________________________________________\n",
      "batchnormalization_73 (BatchNorma(None, 160, 20, 38)   320         convolution2d_87[0][0]           \n",
      "____________________________________________________________________________________________________\n",
      "convolution2d_83 (Convolution2D) (None, 160, 20, 38)   179360      batchnormalization_68[0][0]      \n",
      "____________________________________________________________________________________________________\n",
      "convolution2d_88 (Convolution2D) (None, 160, 20, 38)   179360      batchnormalization_73[0][0]      \n",
      "____________________________________________________________________________________________________\n",
      "batchnormalization_69 (BatchNorma(None, 160, 20, 38)   320         convolution2d_83[0][0]           \n",
      "____________________________________________________________________________________________________\n",
      "batchnormalization_74 (BatchNorma(None, 160, 20, 38)   320         convolution2d_88[0][0]           \n",
      "____________________________________________________________________________________________________\n",
      "averagepooling2d_6 (AveragePoolin(None, 768, 20, 38)   0           mixed5[0][0]                     \n",
      "____________________________________________________________________________________________________\n",
      "convolution2d_81 (Convolution2D) (None, 192, 20, 38)   147648      mixed5[0][0]                     \n",
      "____________________________________________________________________________________________________\n",
      "convolution2d_84 (Convolution2D) (None, 192, 20, 38)   215232      batchnormalization_69[0][0]      \n",
      "____________________________________________________________________________________________________\n",
      "convolution2d_89 (Convolution2D) (None, 192, 20, 38)   215232      batchnormalization_74[0][0]      \n",
      "____________________________________________________________________________________________________\n",
      "convolution2d_90 (Convolution2D) (None, 192, 20, 38)   147648      averagepooling2d_6[0][0]         \n",
      "____________________________________________________________________________________________________\n",
      "batchnormalization_67 (BatchNorma(None, 192, 20, 38)   384         convolution2d_81[0][0]           \n",
      "____________________________________________________________________________________________________\n",
      "batchnormalization_70 (BatchNorma(None, 192, 20, 38)   384         convolution2d_84[0][0]           \n",
      "____________________________________________________________________________________________________\n",
      "batchnormalization_75 (BatchNorma(None, 192, 20, 38)   384         convolution2d_89[0][0]           \n",
      "____________________________________________________________________________________________________\n",
      "batchnormalization_76 (BatchNorma(None, 192, 20, 38)   384         convolution2d_90[0][0]           \n",
      "____________________________________________________________________________________________________\n",
      "mixed6 (Merge)                   (None, 768, 20, 38)   0           batchnormalization_67[0][0]      \n",
      "                                                                   batchnormalization_70[0][0]      \n",
      "                                                                   batchnormalization_75[0][0]      \n",
      "                                                                   batchnormalization_76[0][0]      \n",
      "____________________________________________________________________________________________________\n",
      "convolution2d_95 (Convolution2D) (None, 160, 20, 38)   123040      mixed6[0][0]                     \n",
      "____________________________________________________________________________________________________\n",
      "batchnormalization_81 (BatchNorma(None, 160, 20, 38)   320         convolution2d_95[0][0]           \n",
      "____________________________________________________________________________________________________\n",
      "convolution2d_96 (Convolution2D) (None, 192, 20, 38)   215232      batchnormalization_81[0][0]      \n",
      "____________________________________________________________________________________________________\n",
      "batchnormalization_82 (BatchNorma(None, 192, 20, 38)   384         convolution2d_96[0][0]           \n",
      "____________________________________________________________________________________________________\n",
      "convolution2d_92 (Convolution2D) (None, 192, 20, 38)   147648      mixed6[0][0]                     \n",
      "____________________________________________________________________________________________________\n",
      "convolution2d_97 (Convolution2D) (None, 192, 20, 38)   258240      batchnormalization_82[0][0]      \n",
      "____________________________________________________________________________________________________\n",
      "batchnormalization_78 (BatchNorma(None, 192, 20, 38)   384         convolution2d_92[0][0]           \n",
      "____________________________________________________________________________________________________\n",
      "batchnormalization_83 (BatchNorma(None, 192, 20, 38)   384         convolution2d_97[0][0]           \n",
      "____________________________________________________________________________________________________\n",
      "convolution2d_93 (Convolution2D) (None, 192, 20, 38)   258240      batchnormalization_78[0][0]      \n",
      "____________________________________________________________________________________________________\n",
      "convolution2d_98 (Convolution2D) (None, 192, 20, 38)   258240      batchnormalization_83[0][0]      \n",
      "____________________________________________________________________________________________________\n",
      "batchnormalization_79 (BatchNorma(None, 192, 20, 38)   384         convolution2d_93[0][0]           \n",
      "____________________________________________________________________________________________________\n",
      "batchnormalization_84 (BatchNorma(None, 192, 20, 38)   384         convolution2d_98[0][0]           \n",
      "____________________________________________________________________________________________________\n",
      "averagepooling2d_7 (AveragePoolin(None, 768, 20, 38)   0           mixed6[0][0]                     \n",
      "____________________________________________________________________________________________________\n",
      "convolution2d_91 (Convolution2D) (None, 192, 20, 38)   147648      mixed6[0][0]                     \n",
      "____________________________________________________________________________________________________\n",
      "convolution2d_94 (Convolution2D) (None, 192, 20, 38)   258240      batchnormalization_79[0][0]      \n",
      "____________________________________________________________________________________________________\n",
      "convolution2d_99 (Convolution2D) (None, 192, 20, 38)   258240      batchnormalization_84[0][0]      \n",
      "____________________________________________________________________________________________________\n",
      "convolution2d_100 (Convolution2D)(None, 192, 20, 38)   147648      averagepooling2d_7[0][0]         \n",
      "____________________________________________________________________________________________________\n",
      "batchnormalization_77 (BatchNorma(None, 192, 20, 38)   384         convolution2d_91[0][0]           \n",
      "____________________________________________________________________________________________________\n",
      "batchnormalization_80 (BatchNorma(None, 192, 20, 38)   384         convolution2d_94[0][0]           \n",
      "____________________________________________________________________________________________________\n",
      "batchnormalization_85 (BatchNorma(None, 192, 20, 38)   384         convolution2d_99[0][0]           \n",
      "____________________________________________________________________________________________________\n",
      "batchnormalization_86 (BatchNorma(None, 192, 20, 38)   384         convolution2d_100[0][0]          \n",
      "____________________________________________________________________________________________________\n",
      "mixed7 (Merge)                   (None, 768, 20, 38)   0           batchnormalization_77[0][0]      \n",
      "                                                                   batchnormalization_80[0][0]      \n",
      "                                                                   batchnormalization_85[0][0]      \n",
      "                                                                   batchnormalization_86[0][0]      \n",
      "____________________________________________________________________________________________________\n",
      "convolution2d_103 (Convolution2D)(None, 192, 20, 38)   147648      mixed7[0][0]                     \n",
      "____________________________________________________________________________________________________\n",
      "batchnormalization_89 (BatchNorma(None, 192, 20, 38)   384         convolution2d_103[0][0]          \n",
      "____________________________________________________________________________________________________\n",
      "convolution2d_104 (Convolution2D)(None, 192, 20, 38)   258240      batchnormalization_89[0][0]      \n",
      "____________________________________________________________________________________________________\n",
      "batchnormalization_90 (BatchNorma(None, 192, 20, 38)   384         convolution2d_104[0][0]          \n",
      "____________________________________________________________________________________________________\n",
      "convolution2d_101 (Convolution2D)(None, 192, 20, 38)   147648      mixed7[0][0]                     \n",
      "____________________________________________________________________________________________________\n",
      "convolution2d_105 (Convolution2D)(None, 192, 20, 38)   258240      batchnormalization_90[0][0]      \n",
      "____________________________________________________________________________________________________\n",
      "batchnormalization_87 (BatchNorma(None, 192, 20, 38)   384         convolution2d_101[0][0]          \n",
      "____________________________________________________________________________________________________\n",
      "batchnormalization_91 (BatchNorma(None, 192, 20, 38)   384         convolution2d_105[0][0]          \n",
      "____________________________________________________________________________________________________\n",
      "convolution2d_102 (Convolution2D)(None, 320, 9, 18)    553280      batchnormalization_87[0][0]      \n",
      "____________________________________________________________________________________________________\n",
      "convolution2d_106 (Convolution2D)(None, 192, 9, 18)    331968      batchnormalization_91[0][0]      \n",
      "____________________________________________________________________________________________________\n",
      "batchnormalization_88 (BatchNorma(None, 320, 9, 18)    640         convolution2d_102[0][0]          \n",
      "____________________________________________________________________________________________________\n",
      "batchnormalization_92 (BatchNorma(None, 192, 9, 18)    384         convolution2d_106[0][0]          \n",
      "____________________________________________________________________________________________________\n",
      "averagepooling2d_8 (AveragePoolin(None, 768, 9, 18)    0           mixed7[0][0]                     \n",
      "____________________________________________________________________________________________________\n",
      "mixed8 (Merge)                   (None, 1280, 9, 18)   0           batchnormalization_88[0][0]      \n",
      "                                                                   batchnormalization_92[0][0]      \n",
      "                                                                   averagepooling2d_8[0][0]         \n",
      "____________________________________________________________________________________________________\n",
      "convolution2d_111 (Convolution2D)(None, 448, 9, 18)    573888      mixed8[0][0]                     \n",
      "____________________________________________________________________________________________________\n",
      "batchnormalization_97 (BatchNorma(None, 448, 9, 18)    896         convolution2d_111[0][0]          \n",
      "____________________________________________________________________________________________________\n",
      "convolution2d_108 (Convolution2D)(None, 384, 9, 18)    491904      mixed8[0][0]                     \n",
      "____________________________________________________________________________________________________\n",
      "convolution2d_112 (Convolution2D)(None, 384, 9, 18)    1548672     batchnormalization_97[0][0]      \n",
      "____________________________________________________________________________________________________\n",
      "batchnormalization_94 (BatchNorma(None, 384, 9, 18)    768         convolution2d_108[0][0]          \n",
      "____________________________________________________________________________________________________\n",
      "batchnormalization_98 (BatchNorma(None, 384, 9, 18)    768         convolution2d_112[0][0]          \n",
      "____________________________________________________________________________________________________\n",
      "convolution2d_109 (Convolution2D)(None, 384, 9, 18)    442752      batchnormalization_94[0][0]      \n",
      "____________________________________________________________________________________________________\n",
      "convolution2d_110 (Convolution2D)(None, 384, 9, 18)    442752      batchnormalization_94[0][0]      \n",
      "____________________________________________________________________________________________________\n",
      "convolution2d_113 (Convolution2D)(None, 384, 9, 18)    442752      batchnormalization_98[0][0]      \n",
      "____________________________________________________________________________________________________\n",
      "convolution2d_114 (Convolution2D)(None, 384, 9, 18)    442752      batchnormalization_98[0][0]      \n",
      "____________________________________________________________________________________________________\n",
      "averagepooling2d_9 (AveragePoolin(None, 1280, 9, 18)   0           mixed8[0][0]                     \n",
      "____________________________________________________________________________________________________\n",
      "convolution2d_107 (Convolution2D)(None, 320, 9, 18)    409920      mixed8[0][0]                     \n",
      "____________________________________________________________________________________________________\n",
      "batchnormalization_95 (BatchNorma(None, 384, 9, 18)    768         convolution2d_109[0][0]          \n",
      "____________________________________________________________________________________________________\n",
      "batchnormalization_96 (BatchNorma(None, 384, 9, 18)    768         convolution2d_110[0][0]          \n",
      "____________________________________________________________________________________________________\n",
      "batchnormalization_99 (BatchNorma(None, 384, 9, 18)    768         convolution2d_113[0][0]          \n",
      "____________________________________________________________________________________________________\n",
      "batchnormalization_100 (BatchNorm(None, 384, 9, 18)    768         convolution2d_114[0][0]          \n",
      "____________________________________________________________________________________________________\n",
      "convolution2d_115 (Convolution2D)(None, 192, 9, 18)    245952      averagepooling2d_9[0][0]         \n",
      "____________________________________________________________________________________________________\n",
      "batchnormalization_93 (BatchNorma(None, 320, 9, 18)    640         convolution2d_107[0][0]          \n",
      "____________________________________________________________________________________________________\n",
      "mixed9_0 (Merge)                 (None, 768, 9, 18)    0           batchnormalization_95[0][0]      \n",
      "                                                                   batchnormalization_96[0][0]      \n",
      "____________________________________________________________________________________________________\n",
      "merge_17 (Merge)                 (None, 768, 9, 18)    0           batchnormalization_99[0][0]      \n",
      "                                                                   batchnormalization_100[0][0]     \n",
      "____________________________________________________________________________________________________\n",
      "batchnormalization_101 (BatchNorm(None, 192, 9, 18)    384         convolution2d_115[0][0]          \n",
      "____________________________________________________________________________________________________\n",
      "mixed9 (Merge)                   (None, 2048, 9, 18)   0           batchnormalization_93[0][0]      \n",
      "                                                                   mixed9_0[0][0]                   \n",
      "                                                                   merge_17[0][0]                   \n",
      "                                                                   batchnormalization_101[0][0]     \n",
      "____________________________________________________________________________________________________\n",
      "convolution2d_120 (Convolution2D)(None, 448, 9, 18)    917952      mixed9[0][0]                     \n",
      "____________________________________________________________________________________________________\n",
      "batchnormalization_106 (BatchNorm(None, 448, 9, 18)    896         convolution2d_120[0][0]          \n",
      "____________________________________________________________________________________________________\n",
      "convolution2d_117 (Convolution2D)(None, 384, 9, 18)    786816      mixed9[0][0]                     \n",
      "____________________________________________________________________________________________________\n",
      "convolution2d_121 (Convolution2D)(None, 384, 9, 18)    1548672     batchnormalization_106[0][0]     \n",
      "____________________________________________________________________________________________________\n",
      "batchnormalization_103 (BatchNorm(None, 384, 9, 18)    768         convolution2d_117[0][0]          \n",
      "____________________________________________________________________________________________________\n",
      "batchnormalization_107 (BatchNorm(None, 384, 9, 18)    768         convolution2d_121[0][0]          \n",
      "____________________________________________________________________________________________________\n",
      "convolution2d_118 (Convolution2D)(None, 384, 9, 18)    442752      batchnormalization_103[0][0]     \n",
      "____________________________________________________________________________________________________\n",
      "convolution2d_119 (Convolution2D)(None, 384, 9, 18)    442752      batchnormalization_103[0][0]     \n",
      "____________________________________________________________________________________________________\n",
      "convolution2d_122 (Convolution2D)(None, 384, 9, 18)    442752      batchnormalization_107[0][0]     \n",
      "____________________________________________________________________________________________________\n",
      "convolution2d_123 (Convolution2D)(None, 384, 9, 18)    442752      batchnormalization_107[0][0]     \n",
      "____________________________________________________________________________________________________\n",
      "averagepooling2d_10 (AveragePooli(None, 2048, 9, 18)   0           mixed9[0][0]                     \n",
      "____________________________________________________________________________________________________\n",
      "convolution2d_116 (Convolution2D)(None, 320, 9, 18)    655680      mixed9[0][0]                     \n",
      "____________________________________________________________________________________________________\n",
      "batchnormalization_104 (BatchNorm(None, 384, 9, 18)    768         convolution2d_118[0][0]          \n",
      "____________________________________________________________________________________________________\n",
      "batchnormalization_105 (BatchNorm(None, 384, 9, 18)    768         convolution2d_119[0][0]          \n",
      "____________________________________________________________________________________________________\n",
      "batchnormalization_108 (BatchNorm(None, 384, 9, 18)    768         convolution2d_122[0][0]          \n",
      "____________________________________________________________________________________________________\n",
      "batchnormalization_109 (BatchNorm(None, 384, 9, 18)    768         convolution2d_123[0][0]          \n",
      "____________________________________________________________________________________________________\n",
      "convolution2d_124 (Convolution2D)(None, 192, 9, 18)    393408      averagepooling2d_10[0][0]        \n",
      "____________________________________________________________________________________________________\n",
      "batchnormalization_102 (BatchNorm(None, 320, 9, 18)    640         convolution2d_116[0][0]          \n",
      "____________________________________________________________________________________________________\n",
      "mixed9_1 (Merge)                 (None, 768, 9, 18)    0           batchnormalization_104[0][0]     \n",
      "                                                                   batchnormalization_105[0][0]     \n",
      "____________________________________________________________________________________________________\n",
      "merge_18 (Merge)                 (None, 768, 9, 18)    0           batchnormalization_108[0][0]     \n",
      "                                                                   batchnormalization_109[0][0]     \n",
      "____________________________________________________________________________________________________\n",
      "batchnormalization_110 (BatchNorm(None, 192, 9, 18)    384         convolution2d_124[0][0]          \n",
      "____________________________________________________________________________________________________\n",
      "mixed10 (Merge)                  (None, 2048, 9, 18)   0           batchnormalization_102[0][0]     \n",
      "                                                                   mixed9_1[0][0]                   \n",
      "                                                                   merge_18[0][0]                   \n",
      "                                                                   batchnormalization_110[0][0]     \n",
      "====================================================================================================\n",
      "Total params: 21577728\n",
      "____________________________________________________________________________________________________\n"
     ]
    }
   ],
   "source": [
    "inception.summary()"
   ]
  },
  {
   "cell_type": "code",
   "execution_count": 41,
   "metadata": {
    "collapsed": true
   },
   "outputs": [],
   "source": [
    "conv_trn_feat = inception.predict_generator(trn_batches, trn_batches.nb_sample)"
   ]
  },
  {
   "cell_type": "code",
   "execution_count": 39,
   "metadata": {
    "collapsed": false
   },
   "outputs": [],
   "source": [
    "conv_val_feat = inception.predict_generator(val_batches, val_batches.nb_sample)"
   ]
  },
  {
   "cell_type": "code",
   "execution_count": 42,
   "metadata": {
    "collapsed": true
   },
   "outputs": [],
   "source": [
    "conv_test_feat = inception.predict_generator(test_batches, test_batches.nb_sample)"
   ]
  },
  {
   "cell_type": "code",
   "execution_count": 46,
   "metadata": {
    "collapsed": false
   },
   "outputs": [],
   "source": [
    "save_array(path+'results/conv_trn_feat_inception.dat', conv_trn_feat)"
   ]
  },
  {
   "cell_type": "code",
   "execution_count": 47,
   "metadata": {
    "collapsed": true
   },
   "outputs": [],
   "source": [
    "save_array(path+'results/conv_val_feat_inception.dat', conv_val_feat)"
   ]
  },
  {
   "cell_type": "code",
   "execution_count": 48,
   "metadata": {
    "collapsed": true
   },
   "outputs": [],
   "source": [
    "save_array(path+'results/conv_test_feat_inception.dat', conv_test_feat)"
   ]
  },
  {
   "cell_type": "code",
   "execution_count": 135,
   "metadata": {
    "collapsed": true
   },
   "outputs": [],
   "source": [
    "conv_trn_feat = load_array(path+'results/conv_trn_feat_inception.dat')"
   ]
  },
  {
   "cell_type": "code",
   "execution_count": 136,
   "metadata": {
    "collapsed": true
   },
   "outputs": [],
   "source": [
    "conv_val_feat = load_array(path+'results/conv_val_feat_inception.dat')"
   ]
  },
  {
   "cell_type": "code",
   "execution_count": 137,
   "metadata": {
    "collapsed": true
   },
   "outputs": [],
   "source": [
    "conv_test_feat = load_array(path+'results/conv_test_feat_inception.dat')"
   ]
  },
  {
   "cell_type": "code",
   "execution_count": 138,
   "metadata": {
    "collapsed": false
   },
   "outputs": [
    {
     "data": {
      "text/plain": [
       "((3277, 2048, 9, 18), (500, 2048, 9, 18), (1000, 2048, 9, 18))"
      ]
     },
     "execution_count": 138,
     "metadata": {},
     "output_type": "execute_result"
    }
   ],
   "source": [
    "conv_trn_feat.shape, conv_val_feat.shape, conv_test_feat.shape"
   ]
  },
  {
   "cell_type": "markdown",
   "metadata": {},
   "source": [
    "### Train on fully-convolutional network"
   ]
  },
  {
   "cell_type": "code",
   "execution_count": 139,
   "metadata": {
    "collapsed": false
   },
   "outputs": [
    {
     "data": {
      "text/plain": [
       "(2048, 9, 18)"
      ]
     },
     "execution_count": 139,
     "metadata": {},
     "output_type": "execute_result"
    }
   ],
   "source": [
    "inception.layers[-1].output_shape[1:]"
   ]
  },
  {
   "cell_type": "code",
   "execution_count": 82,
   "metadata": {
    "collapsed": false
   },
   "outputs": [
    {
     "name": "stdout",
     "output_type": "stream",
     "text": [
      "th\n"
     ]
    }
   ],
   "source": [
    "model = Sequential([\n",
    "        BatchNormalization(axis = 1, input_shape = inception.layers[-1].output_shape[1:]),\n",
    "        Convolution2D(512, 3, 3, activation = 'relu', border_mode = 'same'),\n",
    "        BatchNormalization(axis = 1),\n",
    "        MaxPooling2D(),\n",
    "        Convolution2D(256, 3, 3, activation = 'relu', border_mode = 'same'),\n",
    "        BatchNormalization(axis = 1),\n",
    "        MaxPooling2D(),\n",
    "        Convolution2D(128, 3, 3, activation = 'relu', border_mode = 'same'),\n",
    "        BatchNormalization(axis = 1),\n",
    "        MaxPooling2D((1, 2)),\n",
    "        Convolution2D(8, 3, 3, border_mode = 'same'),\n",
    "        GlobalAveragePooling2D(),\n",
    "        Activation('softmax')\n",
    "    ])"
   ]
  },
  {
   "cell_type": "code",
   "execution_count": 83,
   "metadata": {
    "collapsed": true
   },
   "outputs": [],
   "source": [
    "model.compile(optimizer = Adam(lr=1e-3), loss = 'categorical_crossentropy', metrics = ['accuracy'])"
   ]
  },
  {
   "cell_type": "code",
   "execution_count": 84,
   "metadata": {
    "collapsed": false
   },
   "outputs": [
    {
     "name": "stdout",
     "output_type": "stream",
     "text": [
      "____________________________________________________________________________________________________\n",
      "Layer (type)                     Output Shape          Param #     Connected to                     \n",
      "====================================================================================================\n",
      "batchnormalization_310 (BatchNorm(None, 2048, 9, 18)   4096        batchnormalization_input_5[0][0] \n",
      "____________________________________________________________________________________________________\n",
      "convolution2d_310 (Convolution2D)(None, 512, 9, 18)    9437696     batchnormalization_310[0][0]     \n",
      "____________________________________________________________________________________________________\n",
      "batchnormalization_311 (BatchNorm(None, 512, 9, 18)    1024        convolution2d_310[0][0]          \n",
      "____________________________________________________________________________________________________\n",
      "maxpooling2d_23 (MaxPooling2D)   (None, 512, 4, 9)     0           batchnormalization_311[0][0]     \n",
      "____________________________________________________________________________________________________\n",
      "convolution2d_311 (Convolution2D)(None, 256, 4, 9)     1179904     maxpooling2d_23[0][0]            \n",
      "____________________________________________________________________________________________________\n",
      "batchnormalization_312 (BatchNorm(None, 256, 4, 9)     512         convolution2d_311[0][0]          \n",
      "____________________________________________________________________________________________________\n",
      "maxpooling2d_24 (MaxPooling2D)   (None, 256, 2, 4)     0           batchnormalization_312[0][0]     \n",
      "____________________________________________________________________________________________________\n",
      "convolution2d_312 (Convolution2D)(None, 128, 2, 4)     295040      maxpooling2d_24[0][0]            \n",
      "____________________________________________________________________________________________________\n",
      "batchnormalization_313 (BatchNorm(None, 128, 2, 4)     256         convolution2d_312[0][0]          \n",
      "____________________________________________________________________________________________________\n",
      "maxpooling2d_25 (MaxPooling2D)   (None, 128, 2, 2)     0           batchnormalization_313[0][0]     \n",
      "____________________________________________________________________________________________________\n",
      "convolution2d_313 (Convolution2D)(None, 8, 2, 2)       9224        maxpooling2d_25[0][0]            \n",
      "____________________________________________________________________________________________________\n",
      "globalaveragepooling2d_5 (GlobalA(None, 8)             0           convolution2d_313[0][0]          \n",
      "____________________________________________________________________________________________________\n",
      "activation_5 (Activation)        (None, 8)             0           globalaveragepooling2d_5[0][0]   \n",
      "====================================================================================================\n",
      "Total params: 10927752\n",
      "____________________________________________________________________________________________________\n"
     ]
    }
   ],
   "source": [
    "model.summary()"
   ]
  },
  {
   "cell_type": "code",
   "execution_count": 85,
   "metadata": {
    "collapsed": true
   },
   "outputs": [],
   "source": [
    "batch_size = 64"
   ]
  },
  {
   "cell_type": "code",
   "execution_count": 86,
   "metadata": {
    "collapsed": false
   },
   "outputs": [
    {
     "name": "stdout",
     "output_type": "stream",
     "text": [
      "Train on 3277 samples, validate on 500 samples\n",
      "Epoch 1/2\n",
      "3277/3277 [==============================] - 30s - loss: 0.8272 - acc: 0.7244 - val_loss: 2.2544 - val_acc: 0.6140\n",
      "Epoch 2/2\n",
      "3277/3277 [==============================] - 30s - loss: 0.2213 - acc: 0.9417 - val_loss: 0.7197 - val_acc: 0.7840\n"
     ]
    },
    {
     "data": {
      "text/plain": [
       "<keras.callbacks.History at 0x7fd01ffe6810>"
      ]
     },
     "execution_count": 86,
     "metadata": {},
     "output_type": "execute_result"
    }
   ],
   "source": [
    "model.fit(conv_trn_feat, trn_labels, batch_size = batch_size, nb_epoch = 2, \n",
    "          validation_data = (conv_val_feat, val_labels))"
   ]
  },
  {
   "cell_type": "code",
   "execution_count": 87,
   "metadata": {
    "collapsed": true
   },
   "outputs": [],
   "source": [
    "model.optimizer.lr = 1e-5"
   ]
  },
  {
   "cell_type": "code",
   "execution_count": 88,
   "metadata": {
    "collapsed": false
   },
   "outputs": [
    {
     "name": "stdout",
     "output_type": "stream",
     "text": [
      "Train on 3277 samples, validate on 500 samples\n",
      "Epoch 1/6\n",
      "3277/3277 [==============================] - 30s - loss: 0.1003 - acc: 0.9738 - val_loss: 0.4999 - val_acc: 0.8400\n",
      "Epoch 2/6\n",
      "3277/3277 [==============================] - 30s - loss: 0.0542 - acc: 0.9878 - val_loss: 0.2453 - val_acc: 0.9300\n",
      "Epoch 3/6\n",
      "3277/3277 [==============================] - 30s - loss: 0.0184 - acc: 0.9963 - val_loss: 0.1549 - val_acc: 0.9640\n",
      "Epoch 4/6\n",
      "3277/3277 [==============================] - 30s - loss: 0.0101 - acc: 0.9982 - val_loss: 0.1481 - val_acc: 0.9640\n",
      "Epoch 5/6\n",
      "3277/3277 [==============================] - 30s - loss: 0.0074 - acc: 0.9988 - val_loss: 0.1351 - val_acc: 0.9720\n",
      "Epoch 6/6\n",
      "3277/3277 [==============================] - 30s - loss: 0.0124 - acc: 0.9973 - val_loss: 0.1412 - val_acc: 0.9740\n"
     ]
    },
    {
     "data": {
      "text/plain": [
       "<keras.callbacks.History at 0x7fd0227aadd0>"
      ]
     },
     "execution_count": 88,
     "metadata": {},
     "output_type": "execute_result"
    }
   ],
   "source": [
    "model.fit(conv_trn_feat, trn_labels, batch_size = batch_size, nb_epoch = 6, \n",
    "          validation_data = (conv_val_feat, val_labels))"
   ]
  },
  {
   "cell_type": "markdown",
   "metadata": {},
   "source": [
    "### Train on fully-convolutional network with bounding-box"
   ]
  },
  {
   "cell_type": "code",
   "execution_count": 147,
   "metadata": {
    "collapsed": false
   },
   "outputs": [
    {
     "name": "stdout",
     "output_type": "stream",
     "text": [
      "th\n",
      "th\n"
     ]
    }
   ],
   "source": [
    "inp = Input(inception.layers[-1].output_shape[1:])\n",
    "x = BatchNormalization(axis = 1)(inp)\n",
    "x = Convolution2D(512, 3, 3, activation = 'relu', border_mode = 'same')(x)\n",
    "x = BatchNormalization(axis = 1)(x)\n",
    "x = MaxPooling2D()(x)\n",
    "x = Convolution2D(256, 3, 3, activation = 'relu', border_mode = 'same')(x)\n",
    "x = BatchNormalization(axis = 1)(x)\n",
    "x = MaxPooling2D()(x)\n",
    "x = Convolution2D(128, 3, 3, activation = 'relu', border_mode = 'same')(x)\n",
    "x = BatchNormalization(axis = 1)(x)\n",
    "x = MaxPooling2D((1, 2))(x)\n",
    "x_bb = Convolution2D(4, 3, 3, border_mode = 'same')(x)\n",
    "x_bb = GlobalAveragePooling2D(name = 'bb')(x_bb)\n",
    "x_class = Convolution2D(8, 3, 3, border_mode = 'same')(x)\n",
    "x_class = GlobalAveragePooling2D()(x_class)\n",
    "x_class = Activation('softmax', name = 'class')(x_class)"
   ]
  },
  {
   "cell_type": "code",
   "execution_count": 148,
   "metadata": {
    "collapsed": true
   },
   "outputs": [],
   "source": [
    "model = Model([inp], [x_bb, x_class])"
   ]
  },
  {
   "cell_type": "code",
   "execution_count": 149,
   "metadata": {
    "collapsed": false
   },
   "outputs": [
    {
     "name": "stdout",
     "output_type": "stream",
     "text": [
      "____________________________________________________________________________________________________\n",
      "Layer (type)                     Output Shape          Param #     Connected to                     \n",
      "====================================================================================================\n",
      "input_5 (InputLayer)             (None, 2048, 9, 18)   0                                            \n",
      "____________________________________________________________________________________________________\n",
      "batchnormalization_103 (BatchNorm(None, 2048, 9, 18)   4096        input_5[0][0]                    \n",
      "____________________________________________________________________________________________________\n",
      "convolution2d_105 (Convolution2D)(None, 512, 9, 18)    9437696     batchnormalization_103[0][0]     \n",
      "____________________________________________________________________________________________________\n",
      "batchnormalization_104 (BatchNorm(None, 512, 9, 18)    1024        convolution2d_105[0][0]          \n",
      "____________________________________________________________________________________________________\n",
      "maxpooling2d_11 (MaxPooling2D)   (None, 512, 4, 9)     0           batchnormalization_104[0][0]     \n",
      "____________________________________________________________________________________________________\n",
      "convolution2d_106 (Convolution2D)(None, 256, 4, 9)     1179904     maxpooling2d_11[0][0]            \n",
      "____________________________________________________________________________________________________\n",
      "batchnormalization_105 (BatchNorm(None, 256, 4, 9)     512         convolution2d_106[0][0]          \n",
      "____________________________________________________________________________________________________\n",
      "maxpooling2d_12 (MaxPooling2D)   (None, 256, 2, 4)     0           batchnormalization_105[0][0]     \n",
      "____________________________________________________________________________________________________\n",
      "convolution2d_107 (Convolution2D)(None, 128, 2, 4)     295040      maxpooling2d_12[0][0]            \n",
      "____________________________________________________________________________________________________\n",
      "batchnormalization_106 (BatchNorm(None, 128, 2, 4)     256         convolution2d_107[0][0]          \n",
      "____________________________________________________________________________________________________\n",
      "maxpooling2d_13 (MaxPooling2D)   (None, 128, 2, 2)     0           batchnormalization_106[0][0]     \n",
      "____________________________________________________________________________________________________\n",
      "convolution2d_109 (Convolution2D)(None, 8, 2, 2)       9224        maxpooling2d_13[0][0]            \n",
      "____________________________________________________________________________________________________\n",
      "convolution2d_108 (Convolution2D)(None, 4, 2, 2)       4612        maxpooling2d_13[0][0]            \n",
      "____________________________________________________________________________________________________\n",
      "globalaveragepooling2d_3 (GlobalA(None, 8)             0           convolution2d_109[0][0]          \n",
      "____________________________________________________________________________________________________\n",
      "bb (GlobalAveragePooling2D)      (None, 4)             0           convolution2d_108[0][0]          \n",
      "____________________________________________________________________________________________________\n",
      "class (Activation)               (None, 8)             0           globalaveragepooling2d_3[0][0]   \n",
      "====================================================================================================\n",
      "Total params: 10932364\n",
      "____________________________________________________________________________________________________\n"
     ]
    }
   ],
   "source": [
    "model.summary()"
   ]
  },
  {
   "cell_type": "code",
   "execution_count": 150,
   "metadata": {
    "collapsed": true
   },
   "outputs": [],
   "source": [
    "model.compile(optimizer = Adam(lr=1e-3), loss = ['mse', 'categorical_crossentropy'], metrics = ['accuracy'],\n",
    "             loss_weights = [1e-3, 1.])"
   ]
  },
  {
   "cell_type": "code",
   "execution_count": 151,
   "metadata": {
    "collapsed": false
   },
   "outputs": [
    {
     "name": "stdout",
     "output_type": "stream",
     "text": [
      "Train on 3277 samples, validate on 500 samples\n",
      "Epoch 1/3\n",
      "3277/3277 [==============================] - 31s - loss: 8.7452 - bb_loss: 7841.7386 - class_loss: 0.9034 - bb_acc: 0.6817 - class_acc: 0.7095 - val_loss: 7.4273 - val_bb_loss: 5655.3034 - val_class_loss: 1.7720 - val_bb_acc: 0.7220 - val_class_acc: 0.5620\n",
      "Epoch 2/3\n",
      "3277/3277 [==============================] - 31s - loss: 5.0075 - bb_loss: 4716.4867 - class_loss: 0.2910 - bb_acc: 0.7196 - class_acc: 0.9277 - val_loss: 5.6032 - val_bb_loss: 5054.8844 - val_class_loss: 0.5484 - val_bb_acc: 0.6560 - val_class_acc: 0.8680\n",
      "Epoch 3/3\n",
      "3277/3277 [==============================] - 31s - loss: 2.6264 - bb_loss: 2539.6282 - class_loss: 0.0868 - bb_acc: 0.5957 - class_acc: 0.9887 - val_loss: 4.9335 - val_bb_loss: 4544.5550 - val_class_loss: 0.3890 - val_bb_acc: 0.6560 - val_class_acc: 0.9000\n"
     ]
    },
    {
     "data": {
      "text/plain": [
       "<keras.callbacks.History at 0x7f1607cf1b50>"
      ]
     },
     "execution_count": 151,
     "metadata": {},
     "output_type": "execute_result"
    }
   ],
   "source": [
    "model.fit(conv_trn_feat, [trn_bbox, trn_labels], batch_size = batch_size, nb_epoch = 3, \n",
    "          validation_data = (conv_val_feat, [val_bbox, val_labels]))"
   ]
  },
  {
   "cell_type": "code",
   "execution_count": 152,
   "metadata": {
    "collapsed": true
   },
   "outputs": [],
   "source": [
    "model.optimizer.lr = 1e-5"
   ]
  },
  {
   "cell_type": "code",
   "execution_count": 154,
   "metadata": {
    "collapsed": false
   },
   "outputs": [
    {
     "name": "stdout",
     "output_type": "stream",
     "text": [
      "Train on 3277 samples, validate on 500 samples\n",
      "Epoch 1/8\n",
      "3277/3277 [==============================] - 31s - loss: 0.2328 - bb_loss: 217.8117 - class_loss: 0.0150 - bb_acc: 0.8227 - class_acc: 0.9963 - val_loss: 2.0345 - val_bb_loss: 1674.9770 - val_class_loss: 0.3595 - val_bb_acc: 0.8620 - val_class_acc: 0.9380\n",
      "Epoch 2/8\n",
      "3277/3277 [==============================] - 31s - loss: 0.1710 - bb_loss: 165.1694 - class_loss: 0.0058 - bb_acc: 0.8294 - class_acc: 0.9985 - val_loss: 0.7985 - val_bb_loss: 548.2933 - val_class_loss: 0.2502 - val_bb_acc: 0.8560 - val_class_acc: 0.9480\n",
      "Epoch 3/8\n",
      "3277/3277 [==============================] - 31s - loss: 0.1349 - bb_loss: 132.0174 - class_loss: 0.0029 - bb_acc: 0.8435 - class_acc: 0.9997 - val_loss: 0.9510 - val_bb_loss: 715.6379 - val_class_loss: 0.2353 - val_bb_acc: 0.8800 - val_class_acc: 0.9640\n",
      "Epoch 4/8\n",
      "3277/3277 [==============================] - 31s - loss: 0.1069 - bb_loss: 105.2789 - class_loss: 0.0017 - bb_acc: 0.8511 - class_acc: 0.9997 - val_loss: 0.7753 - val_bb_loss: 550.8467 - val_class_loss: 0.2244 - val_bb_acc: 0.8820 - val_class_acc: 0.9620\n",
      "Epoch 5/8\n",
      "3277/3277 [==============================] - 31s - loss: 0.0955 - bb_loss: 94.4786 - class_loss: 0.0010 - bb_acc: 0.8572 - class_acc: 1.0000 - val_loss: 0.6019 - val_bb_loss: 394.7688 - val_class_loss: 0.2071 - val_bb_acc: 0.8760 - val_class_acc: 0.9620\n",
      "Epoch 6/8\n",
      "3277/3277 [==============================] - 31s - loss: 0.0854 - bb_loss: 84.6278 - class_loss: 7.9382e-04 - bb_acc: 0.8724 - class_acc: 1.0000 - val_loss: 0.6266 - val_bb_loss: 414.3871 - val_class_loss: 0.2122 - val_bb_acc: 0.8840 - val_class_acc: 0.9600\n",
      "Epoch 7/8\n",
      "3277/3277 [==============================] - 31s - loss: 0.0788 - bb_loss: 77.9719 - class_loss: 8.2758e-04 - bb_acc: 0.8721 - class_acc: 1.0000 - val_loss: 0.5531 - val_bb_loss: 349.1197 - val_class_loss: 0.2040 - val_bb_acc: 0.8460 - val_class_acc: 0.9680\n",
      "Epoch 8/8\n",
      "3277/3277 [==============================] - 31s - loss: 0.0638 - bb_loss: 63.2504 - class_loss: 5.7645e-04 - bb_acc: 0.8715 - class_acc: 1.0000 - val_loss: 0.5485 - val_bb_loss: 344.1780 - val_class_loss: 0.2044 - val_bb_acc: 0.8880 - val_class_acc: 0.9660\n"
     ]
    },
    {
     "data": {
      "text/plain": [
       "<keras.callbacks.History at 0x7f1607c9f890>"
      ]
     },
     "execution_count": 154,
     "metadata": {},
     "output_type": "execute_result"
    }
   ],
   "source": [
    "model.fit(conv_trn_feat, [trn_bbox, trn_labels], batch_size = batch_size, nb_epoch = 8, \n",
    "          validation_data = (conv_val_feat, [val_bbox, val_labels]))"
   ]
  },
  {
   "cell_type": "markdown",
   "metadata": {},
   "source": [
    "### Conduct model ensemble based on entire training set"
   ]
  },
  {
   "cell_type": "code",
   "execution_count": 62,
   "metadata": {
    "collapsed": true
   },
   "outputs": [],
   "source": [
    "conv_ens_feat = np.concatenate((conv_trn_feat, conv_val_feat), axis = 0)"
   ]
  },
  {
   "cell_type": "code",
   "execution_count": 63,
   "metadata": {
    "collapsed": true
   },
   "outputs": [],
   "source": [
    "ens_labels = np.concatenate((trn_labels, val_labels), axis = 0)"
   ]
  },
  {
   "cell_type": "code",
   "execution_count": 89,
   "metadata": {
    "collapsed": false
   },
   "outputs": [
    {
     "data": {
      "text/plain": [
       "((3777, 2048, 9, 18), (3777, 8))"
      ]
     },
     "execution_count": 89,
     "metadata": {},
     "output_type": "execute_result"
    }
   ],
   "source": [
    "conv_ens_feat.shape, ens_labels.shape"
   ]
  },
  {
   "cell_type": "code",
   "execution_count": 92,
   "metadata": {
    "collapsed": true
   },
   "outputs": [],
   "source": [
    "def fully_conv(i):\n",
    "    model = Sequential([\n",
    "        BatchNormalization(axis = 1, input_shape = inception.layers[-1].output_shape[1:]),\n",
    "        Convolution2D(512, 3, 3, activation = 'relu', border_mode = 'same'),\n",
    "        BatchNormalization(axis = 1),\n",
    "        MaxPooling2D(),\n",
    "        Convolution2D(256, 3, 3, activation = 'relu', border_mode = 'same'),\n",
    "        BatchNormalization(axis = 1),\n",
    "        MaxPooling2D(),\n",
    "        Convolution2D(128, 3, 3, activation = 'relu', border_mode = 'same'),\n",
    "        BatchNormalization(axis = 1),\n",
    "        MaxPooling2D((1, 2)),\n",
    "        Convolution2D(8, 3, 3, border_mode = 'same'),\n",
    "        GlobalAveragePooling2D(),\n",
    "        Activation('softmax')\n",
    "    ])\n",
    "    model.compile(optimizer = Adam(lr=1e-3), loss = 'categorical_crossentropy', metrics = ['accuracy'])\n",
    "    model.fit(conv_ens_feat, ens_labels, batch_size = batch_size, nb_epoch = 2)\n",
    "    model.optimizer.lr = 1e-5\n",
    "    model.fit(conv_ens_feat, ens_labels, batch_size = batch_size, nb_epoch = 5)\n",
    "    model.save_weights(path+'models/inception_'+str(i)+'.h5')"
   ]
  },
  {
   "cell_type": "code",
   "execution_count": 93,
   "metadata": {
    "collapsed": false
   },
   "outputs": [
    {
     "name": "stdout",
     "output_type": "stream",
     "text": [
      "Training model 0\n",
      "th\n",
      "Epoch 1/2\n",
      "3777/3777 [==============================] - 33s - loss: 0.8302 - acc: 0.7212    \n",
      "Epoch 2/2\n",
      "3777/3777 [==============================] - 33s - loss: 0.2427 - acc: 0.9367    \n",
      "Epoch 1/5\n",
      "3777/3777 [==============================] - 33s - loss: 0.1641 - acc: 0.9521    \n",
      "Epoch 2/5\n",
      "3777/3777 [==============================] - 33s - loss: 0.0546 - acc: 0.9862    \n",
      "Epoch 3/5\n",
      "3777/3777 [==============================] - 33s - loss: 0.0278 - acc: 0.9955    \n",
      "Epoch 4/5\n",
      "3777/3777 [==============================] - 33s - loss: 0.1988 - acc: 0.9449    \n",
      "Epoch 5/5\n",
      "3777/3777 [==============================] - 33s - loss: 0.0637 - acc: 0.9833    \n",
      "Training model 1\n",
      "th\n",
      "Epoch 1/2\n",
      "3777/3777 [==============================] - 33s - loss: 0.8014 - acc: 0.7458    \n",
      "Epoch 2/2\n",
      "3777/3777 [==============================] - 33s - loss: 0.2120 - acc: 0.9391    \n",
      "Epoch 1/5\n",
      "3777/3777 [==============================] - 33s - loss: 0.0995 - acc: 0.9748    \n",
      "Epoch 2/5\n",
      "3777/3777 [==============================] - 33s - loss: 0.1683 - acc: 0.9508    \n",
      "Epoch 3/5\n",
      "3777/3777 [==============================] - 33s - loss: 0.0934 - acc: 0.9741    \n",
      "Epoch 4/5\n",
      "3777/3777 [==============================] - 33s - loss: 0.0239 - acc: 0.9955    \n",
      "Epoch 5/5\n",
      "3777/3777 [==============================] - 33s - loss: 0.0454 - acc: 0.9897    \n",
      "Training model 2\n",
      "th\n",
      "Epoch 1/2\n",
      "3777/3777 [==============================] - 33s - loss: 0.8038 - acc: 0.7387    \n",
      "Epoch 2/2\n",
      "3777/3777 [==============================] - 33s - loss: 0.1797 - acc: 0.9473    \n",
      "Epoch 1/5\n",
      "3777/3777 [==============================] - 33s - loss: 0.1740 - acc: 0.9489    \n",
      "Epoch 2/5\n",
      "3777/3777 [==============================] - 33s - loss: 0.1070 - acc: 0.9719    \n",
      "Epoch 3/5\n",
      "3777/3777 [==============================] - 33s - loss: 0.0238 - acc: 0.9958    \n",
      "Epoch 4/5\n",
      "3777/3777 [==============================] - 33s - loss: 0.0119 - acc: 0.9971    \n",
      "Epoch 5/5\n",
      "3777/3777 [==============================] - 33s - loss: 0.0101 - acc: 0.9979    \n",
      "Training model 3\n",
      "th\n",
      "Epoch 1/2\n",
      "3777/3777 [==============================] - 33s - loss: 0.8452 - acc: 0.7262    \n",
      "Epoch 2/2\n",
      "3777/3777 [==============================] - 33s - loss: 0.3065 - acc: 0.9142    \n",
      "Epoch 1/5\n",
      "3777/3777 [==============================] - 33s - loss: 0.1530 - acc: 0.9574    \n",
      "Epoch 2/5\n",
      "3777/3777 [==============================] - 33s - loss: 0.0421 - acc: 0.9910    \n",
      "Epoch 3/5\n",
      "3777/3777 [==============================] - 33s - loss: 0.1992 - acc: 0.9407    \n",
      "Epoch 4/5\n",
      "3777/3777 [==============================] - 33s - loss: 0.0489 - acc: 0.9897    \n",
      "Epoch 5/5\n",
      "3777/3777 [==============================] - 33s - loss: 0.0549 - acc: 0.9905    \n",
      "Training model 4\n",
      "th\n",
      "Epoch 1/2\n",
      "3777/3777 [==============================] - 33s - loss: 0.7666 - acc: 0.7527    \n",
      "Epoch 2/2\n",
      "3777/3777 [==============================] - 33s - loss: 0.2231 - acc: 0.9357    \n",
      "Epoch 1/5\n",
      "3777/3777 [==============================] - 33s - loss: 0.0874 - acc: 0.9786    \n",
      "Epoch 2/5\n",
      "3777/3777 [==============================] - 33s - loss: 0.1302 - acc: 0.9706    \n",
      "Epoch 3/5\n",
      "3777/3777 [==============================] - 33s - loss: 0.0369 - acc: 0.9926    \n",
      "Epoch 4/5\n",
      "3777/3777 [==============================] - 33s - loss: 0.1173 - acc: 0.9690    \n",
      "Epoch 5/5\n",
      "3777/3777 [==============================] - 33s - loss: 0.1088 - acc: 0.9693    \n",
      "Training model 5\n",
      "th\n",
      "Epoch 1/2\n",
      "3777/3777 [==============================] - 33s - loss: 0.7900 - acc: 0.7437    \n",
      "Epoch 2/2\n",
      "3777/3777 [==============================] - 33s - loss: 0.2124 - acc: 0.9399    \n",
      "Epoch 1/5\n",
      "3777/3777 [==============================] - 33s - loss: 0.0691 - acc: 0.9844    \n",
      "Epoch 2/5\n",
      "3777/3777 [==============================] - 33s - loss: 0.1065 - acc: 0.9746    \n",
      "Epoch 3/5\n",
      "3777/3777 [==============================] - 33s - loss: 0.1036 - acc: 0.9680    \n",
      "Epoch 4/5\n",
      "3777/3777 [==============================] - 33s - loss: 0.0869 - acc: 0.9764    \n",
      "Epoch 5/5\n",
      "3777/3777 [==============================] - 33s - loss: 0.0634 - acc: 0.9860    \n",
      "Training model 6\n",
      "th\n",
      "Epoch 1/2\n",
      "3777/3777 [==============================] - 33s - loss: 0.7684 - acc: 0.7514    \n",
      "Epoch 2/2\n",
      "3777/3777 [==============================] - 33s - loss: 0.1919 - acc: 0.9447    \n",
      "Epoch 1/5\n",
      "3777/3777 [==============================] - 33s - loss: 0.1300 - acc: 0.9645    \n",
      "Epoch 2/5\n",
      "3777/3777 [==============================] - 33s - loss: 0.0553 - acc: 0.9884    \n",
      "Epoch 3/5\n",
      "3777/3777 [==============================] - 33s - loss: 0.0927 - acc: 0.9764    \n",
      "Epoch 4/5\n",
      "3777/3777 [==============================] - 33s - loss: 0.0284 - acc: 0.9921    \n",
      "Epoch 5/5\n",
      "3777/3777 [==============================] - 33s - loss: 0.0981 - acc: 0.9738    \n",
      "Training model 7\n",
      "th\n",
      "Epoch 1/2\n",
      "3777/3777 [==============================] - 33s - loss: 0.7955 - acc: 0.7329    \n",
      "Epoch 2/2\n",
      "3777/3777 [==============================] - 33s - loss: 0.2492 - acc: 0.9277    \n",
      "Epoch 1/5\n",
      "3777/3777 [==============================] - 33s - loss: 0.0697 - acc: 0.9825    \n",
      "Epoch 2/5\n",
      "3777/3777 [==============================] - 33s - loss: 0.1287 - acc: 0.9685    \n",
      "Epoch 3/5\n",
      "3777/3777 [==============================] - 33s - loss: 0.1098 - acc: 0.9685    \n",
      "Epoch 4/5\n",
      "3777/3777 [==============================] - 33s - loss: 0.0694 - acc: 0.9846    \n",
      "Epoch 5/5\n",
      "3777/3777 [==============================] - 33s - loss: 0.0373 - acc: 0.9910    \n",
      "Training model 8\n",
      "th\n",
      "Epoch 1/2\n",
      "3777/3777 [==============================] - 33s - loss: 0.7598 - acc: 0.7506    \n",
      "Epoch 2/2\n",
      "3777/3777 [==============================] - 33s - loss: 0.2826 - acc: 0.9245    \n",
      "Epoch 1/5\n",
      "3777/3777 [==============================] - 33s - loss: 0.1427 - acc: 0.9606    \n",
      "Epoch 2/5\n",
      "3777/3777 [==============================] - 33s - loss: 0.1252 - acc: 0.9693    \n",
      "Epoch 3/5\n",
      "3777/3777 [==============================] - 33s - loss: 0.0397 - acc: 0.9915    \n",
      "Epoch 4/5\n",
      "3777/3777 [==============================] - 33s - loss: 0.0669 - acc: 0.9836    \n",
      "Epoch 5/5\n",
      "3777/3777 [==============================] - 33s - loss: 0.2686 - acc: 0.9198    \n",
      "Training model 9\n",
      "th\n",
      "Epoch 1/2\n",
      "3777/3777 [==============================] - 33s - loss: 0.8119 - acc: 0.7368    \n",
      "Epoch 2/2\n",
      "3777/3777 [==============================] - 33s - loss: 0.2308 - acc: 0.9367    \n",
      "Epoch 1/5\n",
      "3777/3777 [==============================] - 33s - loss: 0.2099 - acc: 0.9436    \n",
      "Epoch 2/5\n",
      "3777/3777 [==============================] - 33s - loss: 0.1955 - acc: 0.9439    \n",
      "Epoch 3/5\n",
      "3777/3777 [==============================] - 33s - loss: 0.1922 - acc: 0.9492    \n",
      "Epoch 4/5\n",
      "3777/3777 [==============================] - 33s - loss: 0.1000 - acc: 0.9767    \n",
      "Epoch 5/5\n",
      "3777/3777 [==============================] - 33s - loss: 0.1177 - acc: 0.9690    \n",
      "Training model 10\n",
      "th\n",
      "Epoch 1/2\n",
      "3777/3777 [==============================] - 33s - loss: 0.7614 - acc: 0.7524    \n",
      "Epoch 2/2\n",
      "3777/3777 [==============================] - 33s - loss: 0.2640 - acc: 0.9253    \n",
      "Epoch 1/5\n",
      "3777/3777 [==============================] - 33s - loss: 0.1563 - acc: 0.9563    \n",
      "Epoch 2/5\n",
      "3777/3777 [==============================] - 33s - loss: 0.0525 - acc: 0.9876    \n",
      "Epoch 3/5\n",
      "3777/3777 [==============================] - 33s - loss: 0.0315 - acc: 0.9910    \n",
      "Epoch 4/5\n",
      "3777/3777 [==============================] - 33s - loss: 0.0135 - acc: 0.9968    \n",
      "Epoch 5/5\n",
      "3777/3777 [==============================] - 33s - loss: 0.0095 - acc: 0.9974    \n",
      "Training model 11\n",
      "th\n",
      "Epoch 1/2\n",
      "3777/3777 [==============================] - 33s - loss: 0.7588 - acc: 0.7567    \n",
      "Epoch 2/2\n",
      "3777/3777 [==============================] - 33s - loss: 0.2518 - acc: 0.9282    \n",
      "Epoch 1/5\n",
      "3777/3777 [==============================] - 33s - loss: 0.0910 - acc: 0.9741    \n",
      "Epoch 2/5\n",
      "3777/3777 [==============================] - 33s - loss: 0.1305 - acc: 0.9619    \n",
      "Epoch 3/5\n",
      "3777/3777 [==============================] - 33s - loss: 0.0935 - acc: 0.9801    \n",
      "Epoch 4/5\n",
      "3777/3777 [==============================] - 33s - loss: 0.0698 - acc: 0.9838    \n",
      "Epoch 5/5\n",
      "3777/3777 [==============================] - 33s - loss: 0.0196 - acc: 0.9960    \n",
      "Training model 12\n",
      "th\n",
      "Epoch 1/2\n",
      "3777/3777 [==============================] - 33s - loss: 0.8038 - acc: 0.7389    \n",
      "Epoch 2/2\n",
      "3777/3777 [==============================] - 33s - loss: 0.2074 - acc: 0.9431    \n",
      "Epoch 1/5\n",
      "3777/3777 [==============================] - 33s - loss: 0.2179 - acc: 0.9404    \n",
      "Epoch 2/5\n",
      "3777/3777 [==============================] - 33s - loss: 0.1441 - acc: 0.9616    \n",
      "Epoch 3/5\n",
      "3777/3777 [==============================] - 33s - loss: 0.0326 - acc: 0.9942    \n",
      "Epoch 4/5\n",
      "3777/3777 [==============================] - 33s - loss: 0.0736 - acc: 0.9820    \n",
      "Epoch 5/5\n",
      "3777/3777 [==============================] - 33s - loss: 0.0620 - acc: 0.9876    \n",
      "Training model 13\n",
      "th\n",
      "Epoch 1/2\n",
      "3777/3777 [==============================] - 33s - loss: 0.8520 - acc: 0.7212    \n",
      "Epoch 2/2\n",
      "3777/3777 [==============================] - 33s - loss: 0.2853 - acc: 0.9227    \n",
      "Epoch 1/5\n",
      "3777/3777 [==============================] - 33s - loss: 0.1565 - acc: 0.9611    \n",
      "Epoch 2/5\n",
      "3777/3777 [==============================] - 33s - loss: 0.0470 - acc: 0.9884    \n",
      "Epoch 3/5\n",
      "3777/3777 [==============================] - 33s - loss: 0.0959 - acc: 0.9751    \n",
      "Epoch 4/5\n",
      "3777/3777 [==============================] - 33s - loss: 0.0907 - acc: 0.9783    \n",
      "Epoch 5/5\n",
      "3777/3777 [==============================] - 33s - loss: 0.0633 - acc: 0.9841    \n",
      "Training model 14\n",
      "th\n",
      "Epoch 1/2\n",
      "3777/3777 [==============================] - 33s - loss: 0.7449 - acc: 0.7652    \n",
      "Epoch 2/2\n",
      "3777/3777 [==============================] - 33s - loss: 0.2423 - acc: 0.9317    \n",
      "Epoch 1/5\n",
      "3777/3777 [==============================] - 33s - loss: 0.1048 - acc: 0.9701    \n",
      "Epoch 2/5\n",
      "3777/3777 [==============================] - 33s - loss: 0.0308 - acc: 0.9931    \n",
      "Epoch 3/5\n",
      "3777/3777 [==============================] - 33s - loss: 0.0875 - acc: 0.9793    \n",
      "Epoch 4/5\n",
      "3777/3777 [==============================] - 33s - loss: 0.0981 - acc: 0.9727    \n",
      "Epoch 5/5\n",
      "3777/3777 [==============================] - 33s - loss: 0.0380 - acc: 0.9907    \n",
      "Training model 15\n",
      "th\n",
      "Epoch 1/2\n",
      "3777/3777 [==============================] - 33s - loss: 0.7541 - acc: 0.7522    \n",
      "Epoch 2/2\n",
      "3777/3777 [==============================] - 33s - loss: 0.3220 - acc: 0.9010    \n",
      "Epoch 1/5\n",
      "3777/3777 [==============================] - 33s - loss: 0.1326 - acc: 0.9656    \n",
      "Epoch 2/5\n",
      "3777/3777 [==============================] - 33s - loss: 0.0941 - acc: 0.9751    \n",
      "Epoch 3/5\n",
      "3777/3777 [==============================] - 33s - loss: 0.1454 - acc: 0.9608    \n",
      "Epoch 4/5\n",
      "3777/3777 [==============================] - 33s - loss: 0.1011 - acc: 0.9730    \n",
      "Epoch 5/5\n",
      "3777/3777 [==============================] - 33s - loss: 0.0736 - acc: 0.9812    \n",
      "Training model 16\n",
      "th\n",
      "Epoch 1/2\n",
      "3777/3777 [==============================] - 33s - loss: 0.7583 - acc: 0.7527    \n",
      "Epoch 2/2\n",
      "3777/3777 [==============================] - 33s - loss: 0.2122 - acc: 0.9410    \n",
      "Epoch 1/5\n",
      "3777/3777 [==============================] - 33s - loss: 0.1788 - acc: 0.9510    \n",
      "Epoch 2/5\n",
      "3777/3777 [==============================] - 33s - loss: 0.1463 - acc: 0.9582    \n",
      "Epoch 3/5\n",
      "3777/3777 [==============================] - 33s - loss: 0.2801 - acc: 0.9179    \n",
      "Epoch 4/5\n",
      "3777/3777 [==============================] - 33s - loss: 0.2002 - acc: 0.9492    \n",
      "Epoch 5/5\n",
      "3777/3777 [==============================] - 33s - loss: 0.1112 - acc: 0.9711    \n",
      "Training model 17\n",
      "th\n",
      "Epoch 1/2\n",
      "3777/3777 [==============================] - 33s - loss: 0.7956 - acc: 0.7376    \n",
      "Epoch 2/2\n",
      "3777/3777 [==============================] - 33s - loss: 0.2272 - acc: 0.9357    \n",
      "Epoch 1/5\n",
      "3777/3777 [==============================] - 33s - loss: 0.0632 - acc: 0.9849    \n",
      "Epoch 2/5\n",
      "3777/3777 [==============================] - 33s - loss: 0.0369 - acc: 0.9929    \n",
      "Epoch 3/5\n",
      "3777/3777 [==============================] - 33s - loss: 0.0146 - acc: 0.9974    \n",
      "Epoch 4/5\n",
      "3777/3777 [==============================] - 33s - loss: 0.3006 - acc: 0.9089    \n",
      "Epoch 5/5\n",
      "3777/3777 [==============================] - 33s - loss: 0.0812 - acc: 0.9772    \n",
      "Training model 18\n",
      "th\n",
      "Epoch 1/2\n",
      "3777/3777 [==============================] - 33s - loss: 0.7875 - acc: 0.7371    \n",
      "Epoch 2/2\n",
      "3777/3777 [==============================] - 33s - loss: 0.2676 - acc: 0.9261    \n",
      "Epoch 1/5\n",
      "3777/3777 [==============================] - 33s - loss: 0.1209 - acc: 0.9674    \n",
      "Epoch 2/5\n",
      "3777/3777 [==============================] - 33s - loss: 0.0438 - acc: 0.9899    \n",
      "Epoch 3/5\n",
      "3777/3777 [==============================] - 33s - loss: 0.0981 - acc: 0.9756    \n",
      "Epoch 4/5\n",
      "3777/3777 [==============================] - 33s - loss: 0.0534 - acc: 0.9854    \n",
      "Epoch 5/5\n",
      "3777/3777 [==============================] - 33s - loss: 0.0904 - acc: 0.9746    \n",
      "Training model 19\n",
      "th\n",
      "Epoch 1/2\n",
      "3777/3777 [==============================] - 33s - loss: 0.7872 - acc: 0.7389    \n",
      "Epoch 2/2\n",
      "3777/3777 [==============================] - 33s - loss: 0.1714 - acc: 0.9550    \n",
      "Epoch 1/5\n",
      "3777/3777 [==============================] - 33s - loss: 0.2008 - acc: 0.9455    \n",
      "Epoch 2/5\n",
      "3777/3777 [==============================] - 33s - loss: 0.1479 - acc: 0.9603    \n",
      "Epoch 3/5\n",
      "3777/3777 [==============================] - 33s - loss: 0.0304 - acc: 0.9947    \n",
      "Epoch 4/5\n",
      "3777/3777 [==============================] - 33s - loss: 0.0112 - acc: 0.9981    \n",
      "Epoch 5/5\n",
      "3777/3777 [==============================] - 33s - loss: 0.0108 - acc: 0.9971    \n",
      "Training model 20\n",
      "th\n",
      "Epoch 1/2\n",
      "3777/3777 [==============================] - 33s - loss: 0.7760 - acc: 0.7569    \n",
      "Epoch 2/2\n",
      "3777/3777 [==============================] - 33s - loss: 0.2280 - acc: 0.9343    \n",
      "Epoch 1/5\n",
      "3777/3777 [==============================] - 33s - loss: 0.2438 - acc: 0.9312    \n",
      "Epoch 2/5\n",
      "3777/3777 [==============================] - 33s - loss: 0.1515 - acc: 0.9624    \n",
      "Epoch 3/5\n",
      "3777/3777 [==============================] - 33s - loss: 0.0433 - acc: 0.9899    \n",
      "Epoch 4/5\n",
      "3777/3777 [==============================] - 33s - loss: 0.0154 - acc: 0.9971    \n",
      "Epoch 5/5\n",
      "3777/3777 [==============================] - 33s - loss: 0.0667 - acc: 0.9865    \n",
      "Training model 21\n",
      "th\n",
      "Epoch 1/2\n",
      "3777/3777 [==============================] - 33s - loss: 0.7682 - acc: 0.7445    \n",
      "Epoch 2/2\n",
      "3777/3777 [==============================] - 33s - loss: 0.2588 - acc: 0.9267    \n",
      "Epoch 1/5\n",
      "3777/3777 [==============================] - 33s - loss: 0.0798 - acc: 0.9804    \n",
      "Epoch 2/5\n",
      "3777/3777 [==============================] - 33s - loss: 0.0351 - acc: 0.9899    \n",
      "Epoch 3/5\n",
      "3777/3777 [==============================] - 33s - loss: 0.0292 - acc: 0.9926    \n",
      "Epoch 4/5\n",
      "3777/3777 [==============================] - 33s - loss: 0.3220 - acc: 0.8999    \n",
      "Epoch 5/5\n",
      "3777/3777 [==============================] - 33s - loss: 0.1832 - acc: 0.9497    \n",
      "Training model 22\n",
      "th\n",
      "Epoch 1/2\n",
      "3777/3777 [==============================] - 33s - loss: 0.7670 - acc: 0.7442    \n",
      "Epoch 2/2\n",
      "3777/3777 [==============================] - 33s - loss: 0.2280 - acc: 0.9365    \n",
      "Epoch 1/5\n",
      "3777/3777 [==============================] - 33s - loss: 0.2398 - acc: 0.9277    \n",
      "Epoch 2/5\n",
      "3777/3777 [==============================] - 33s - loss: 0.1203 - acc: 0.9730    \n",
      "Epoch 3/5\n",
      "3777/3777 [==============================] - 33s - loss: 0.1087 - acc: 0.9698    \n",
      "Epoch 4/5\n",
      "3777/3777 [==============================] - 33s - loss: 0.0286 - acc: 0.9934    \n",
      "Epoch 5/5\n",
      "3777/3777 [==============================] - 33s - loss: 0.0301 - acc: 0.9934    \n",
      "Training model 23\n",
      "th\n",
      "Epoch 1/2\n",
      "3777/3777 [==============================] - 33s - loss: 0.8111 - acc: 0.7323    \n",
      "Epoch 2/2\n",
      "3777/3777 [==============================] - 33s - loss: 0.2930 - acc: 0.9132    \n",
      "Epoch 1/5\n",
      "3777/3777 [==============================] - 33s - loss: 0.1354 - acc: 0.9703    \n",
      "Epoch 2/5\n",
      "3777/3777 [==============================] - 33s - loss: 0.0388 - acc: 0.9913    \n",
      "Epoch 3/5\n",
      "3777/3777 [==============================] - 33s - loss: 0.0876 - acc: 0.9791    \n",
      "Epoch 4/5\n",
      "3777/3777 [==============================] - 33s - loss: 0.0710 - acc: 0.9844    \n",
      "Epoch 5/5\n",
      "3777/3777 [==============================] - 33s - loss: 0.0392 - acc: 0.9907    \n",
      "Training model 24\n",
      "th\n",
      "Epoch 1/2\n",
      "3777/3777 [==============================] - 33s - loss: 0.7812 - acc: 0.7445    \n",
      "Epoch 2/2\n",
      "3777/3777 [==============================] - 33s - loss: 0.2163 - acc: 0.9378    \n",
      "Epoch 1/5\n",
      "3777/3777 [==============================] - 33s - loss: 0.1937 - acc: 0.9439    \n",
      "Epoch 2/5\n",
      "3777/3777 [==============================] - 33s - loss: 0.2146 - acc: 0.9415    \n",
      "Epoch 3/5\n",
      "3777/3777 [==============================] - 33s - loss: 0.0572 - acc: 0.9865    \n",
      "Epoch 4/5\n",
      "3777/3777 [==============================] - 33s - loss: 0.0334 - acc: 0.9952    \n",
      "Epoch 5/5\n",
      "3777/3777 [==============================] - 33s - loss: 0.1438 - acc: 0.9600    \n",
      "Training model 25\n",
      "th\n",
      "Epoch 1/2\n",
      "3777/3777 [==============================] - 33s - loss: 0.7402 - acc: 0.7572    \n",
      "Epoch 2/2\n",
      "3777/3777 [==============================] - 33s - loss: 0.2397 - acc: 0.9343    \n",
      "Epoch 1/5\n",
      "3777/3777 [==============================] - 33s - loss: 0.1648 - acc: 0.9579    \n",
      "Epoch 2/5\n",
      "3777/3777 [==============================] - 33s - loss: 0.1621 - acc: 0.9568    \n",
      "Epoch 3/5\n",
      "3777/3777 [==============================] - 33s - loss: 0.0458 - acc: 0.9870    \n",
      "Epoch 4/5\n",
      "3777/3777 [==============================] - 33s - loss: 0.0240 - acc: 0.9934    \n",
      "Epoch 5/5\n",
      "3777/3777 [==============================] - 33s - loss: 0.0188 - acc: 0.9955    \n",
      "Training model 26\n",
      "th\n",
      "Epoch 1/2\n",
      "3777/3777 [==============================] - 33s - loss: 0.8039 - acc: 0.7363    \n",
      "Epoch 2/2\n",
      "3777/3777 [==============================] - 33s - loss: 0.2584 - acc: 0.9312    \n",
      "Epoch 1/5\n",
      "3777/3777 [==============================] - 33s - loss: 0.1786 - acc: 0.9508    \n",
      "Epoch 2/5\n",
      "3777/3777 [==============================] - 33s - loss: 0.1578 - acc: 0.9574    \n",
      "Epoch 3/5\n",
      "3777/3777 [==============================] - 33s - loss: 0.1020 - acc: 0.9756    \n",
      "Epoch 4/5\n",
      "3777/3777 [==============================] - 33s - loss: 0.0578 - acc: 0.9878    \n",
      "Epoch 5/5\n",
      "3777/3777 [==============================] - 33s - loss: 0.0286 - acc: 0.9939    \n",
      "Training model 27\n",
      "th\n",
      "Epoch 1/2\n",
      "3777/3777 [==============================] - 33s - loss: 0.7989 - acc: 0.7482    \n",
      "Epoch 2/2\n",
      "3777/3777 [==============================] - 33s - loss: 0.2133 - acc: 0.9428    \n",
      "Epoch 1/5\n",
      "3777/3777 [==============================] - 33s - loss: 0.2217 - acc: 0.9335    \n",
      "Epoch 2/5\n",
      "3777/3777 [==============================] - 33s - loss: 0.0522 - acc: 0.9889    \n",
      "Epoch 3/5\n",
      "3777/3777 [==============================] - 33s - loss: 0.0210 - acc: 0.9968    \n",
      "Epoch 4/5\n",
      "3777/3777 [==============================] - 33s - loss: 0.0095 - acc: 0.9974    \n",
      "Epoch 5/5\n",
      "3777/3777 [==============================] - 33s - loss: 0.0066 - acc: 0.9989    \n",
      "Training model 28\n",
      "th\n",
      "Epoch 1/2\n",
      "3777/3777 [==============================] - 33s - loss: 0.7891 - acc: 0.7424    \n",
      "Epoch 2/2\n",
      "3777/3777 [==============================] - 33s - loss: 0.3179 - acc: 0.9121    \n",
      "Epoch 1/5\n",
      "3777/3777 [==============================] - 33s - loss: 0.0987 - acc: 0.9756    \n",
      "Epoch 2/5\n",
      "3777/3777 [==============================] - 33s - loss: 0.1724 - acc: 0.9537    \n",
      "Epoch 3/5\n",
      "3777/3777 [==============================] - 33s - loss: 0.0693 - acc: 0.9820    \n",
      "Epoch 4/5\n",
      "3777/3777 [==============================] - 33s - loss: 0.1431 - acc: 0.9635    \n",
      "Epoch 5/5\n",
      "3777/3777 [==============================] - 33s - loss: 0.1321 - acc: 0.9656    \n",
      "Training model 29\n",
      "th\n",
      "Epoch 1/2\n",
      "3777/3777 [==============================] - 33s - loss: 0.7505 - acc: 0.7556    \n",
      "Epoch 2/2\n",
      "3777/3777 [==============================] - 33s - loss: 0.2177 - acc: 0.9394    \n",
      "Epoch 1/5\n",
      "3777/3777 [==============================] - 33s - loss: 0.2323 - acc: 0.9335    \n",
      "Epoch 2/5\n",
      "3777/3777 [==============================] - 33s - loss: 0.0725 - acc: 0.9836    \n",
      "Epoch 3/5\n",
      "3777/3777 [==============================] - 33s - loss: 0.0735 - acc: 0.9828    \n",
      "Epoch 4/5\n",
      "3777/3777 [==============================] - 33s - loss: 0.0275 - acc: 0.9936    \n",
      "Epoch 5/5\n",
      "3777/3777 [==============================] - 33s - loss: 0.0060 - acc: 0.9984    \n",
      "Training model 30\n",
      "th\n",
      "Epoch 1/2\n",
      "3777/3777 [==============================] - 33s - loss: 0.7825 - acc: 0.7469    \n",
      "Epoch 2/2\n",
      "3777/3777 [==============================] - 33s - loss: 0.2527 - acc: 0.9272    \n",
      "Epoch 1/5\n",
      "3777/3777 [==============================] - 33s - loss: 0.0826 - acc: 0.9783    \n",
      "Epoch 2/5\n",
      "3777/3777 [==============================] - 33s - loss: 0.0322 - acc: 0.9939    \n",
      "Epoch 3/5\n",
      "3777/3777 [==============================] - 33s - loss: 0.0128 - acc: 0.9974    \n",
      "Epoch 4/5\n",
      "3777/3777 [==============================] - 33s - loss: 0.2798 - acc: 0.9147    \n",
      "Epoch 5/5\n",
      "3777/3777 [==============================] - 33s - loss: 0.1248 - acc: 0.9682    \n",
      "Training model 31\n",
      "th\n",
      "Epoch 1/2\n",
      "3777/3777 [==============================] - 33s - loss: 0.7847 - acc: 0.7424    \n",
      "Epoch 2/2\n",
      "3777/3777 [==============================] - 33s - loss: 0.2629 - acc: 0.9232    \n",
      "Epoch 1/5\n",
      "3777/3777 [==============================] - 33s - loss: 0.1510 - acc: 0.9606    \n",
      "Epoch 2/5\n",
      "3777/3777 [==============================] - 33s - loss: 0.1114 - acc: 0.9680    \n",
      "Epoch 3/5\n",
      "3777/3777 [==============================] - 33s - loss: 0.0959 - acc: 0.9772    \n",
      "Epoch 4/5\n",
      "3777/3777 [==============================] - 33s - loss: 0.0949 - acc: 0.9759    \n",
      "Epoch 5/5\n",
      "3777/3777 [==============================] - 33s - loss: 0.1421 - acc: 0.9595    \n",
      "Training model 32\n",
      "th\n",
      "Epoch 1/2\n",
      "3777/3777 [==============================] - 33s - loss: 0.7711 - acc: 0.7519    \n",
      "Epoch 2/2\n",
      "3777/3777 [==============================] - 33s - loss: 0.1992 - acc: 0.9447    \n",
      "Epoch 1/5\n",
      "3777/3777 [==============================] - 33s - loss: 0.1809 - acc: 0.9484    \n",
      "Epoch 2/5\n",
      "3777/3777 [==============================] - 33s - loss: 0.0544 - acc: 0.9860    \n",
      "Epoch 3/5\n",
      "3777/3777 [==============================] - 33s - loss: 0.0962 - acc: 0.9751    \n",
      "Epoch 4/5\n",
      "3777/3777 [==============================] - 33s - loss: 0.0281 - acc: 0.9942    \n",
      "Epoch 5/5\n",
      "3777/3777 [==============================] - 33s - loss: 0.0460 - acc: 0.9910    \n",
      "Training model 33\n",
      "th\n",
      "Epoch 1/2\n",
      "3777/3777 [==============================] - 33s - loss: 0.7725 - acc: 0.7477    \n",
      "Epoch 2/2\n",
      "3777/3777 [==============================] - 33s - loss: 0.1939 - acc: 0.9489    \n",
      "Epoch 1/5\n",
      "3777/3777 [==============================] - 33s - loss: 0.0883 - acc: 0.9748    \n",
      "Epoch 2/5\n",
      "3777/3777 [==============================] - 33s - loss: 0.1976 - acc: 0.9402    \n",
      "Epoch 3/5\n",
      "3777/3777 [==============================] - 33s - loss: 0.1698 - acc: 0.9513    \n",
      "Epoch 4/5\n",
      "3777/3777 [==============================] - 33s - loss: 0.1247 - acc: 0.9714    \n",
      "Epoch 5/5\n",
      "3777/3777 [==============================] - 33s - loss: 0.0326 - acc: 0.9918    \n",
      "Training model 34\n",
      "th\n",
      "Epoch 1/2\n",
      "3777/3777 [==============================] - 33s - loss: 0.7418 - acc: 0.7652    \n",
      "Epoch 2/2\n",
      "3777/3777 [==============================] - 33s - loss: 0.2474 - acc: 0.9277    \n",
      "Epoch 1/5\n",
      "3777/3777 [==============================] - 33s - loss: 0.1346 - acc: 0.9703    \n",
      "Epoch 2/5\n",
      "3777/3777 [==============================] - 33s - loss: 0.0686 - acc: 0.9804    \n",
      "Epoch 3/5\n",
      "3777/3777 [==============================] - 33s - loss: 0.0645 - acc: 0.9820    \n",
      "Epoch 4/5\n",
      "3777/3777 [==============================] - 33s - loss: 0.0282 - acc: 0.9936    \n",
      "Epoch 5/5\n",
      "3777/3777 [==============================] - 33s - loss: 0.0180 - acc: 0.9963    \n",
      "Training model 35\n",
      "th\n",
      "Epoch 1/2\n",
      "3777/3777 [==============================] - 33s - loss: 0.7939 - acc: 0.7437    \n",
      "Epoch 2/2\n",
      "3777/3777 [==============================] - 33s - loss: 0.2672 - acc: 0.9253    \n",
      "Epoch 1/5\n",
      "3777/3777 [==============================] - 33s - loss: 0.1766 - acc: 0.9545    \n",
      "Epoch 2/5\n",
      "3777/3777 [==============================] - 33s - loss: 0.0863 - acc: 0.9817    \n",
      "Epoch 3/5\n",
      "3777/3777 [==============================] - 33s - loss: 0.1821 - acc: 0.9449    \n",
      "Epoch 4/5\n",
      "3777/3777 [==============================] - 33s - loss: 0.0569 - acc: 0.9846    \n",
      "Epoch 5/5\n",
      "3777/3777 [==============================] - 33s - loss: 0.0201 - acc: 0.9966    \n",
      "Training model 36\n",
      "th\n",
      "Epoch 1/2\n",
      "3777/3777 [==============================] - 33s - loss: 0.7550 - acc: 0.7495    \n",
      "Epoch 2/2\n",
      "3777/3777 [==============================] - 33s - loss: 0.2136 - acc: 0.9402    \n",
      "Epoch 1/5\n",
      "3777/3777 [==============================] - 33s - loss: 0.1491 - acc: 0.9613    \n",
      "Epoch 2/5\n",
      "3777/3777 [==============================] - 33s - loss: 0.1420 - acc: 0.9640    \n",
      "Epoch 3/5\n",
      "3777/3777 [==============================] - 33s - loss: 0.0314 - acc: 0.9939    \n",
      "Epoch 4/5\n",
      "3777/3777 [==============================] - 33s - loss: 0.0210 - acc: 0.9950    \n",
      "Epoch 5/5\n",
      "3777/3777 [==============================] - 33s - loss: 0.0990 - acc: 0.9733    \n",
      "Training model 37\n",
      "th\n",
      "Epoch 1/2\n",
      "3777/3777 [==============================] - 33s - loss: 0.7834 - acc: 0.7403    \n",
      "Epoch 2/2\n",
      "3777/3777 [==============================] - 33s - loss: 0.2076 - acc: 0.9439    \n",
      "Epoch 1/5\n",
      "3777/3777 [==============================] - 33s - loss: 0.0667 - acc: 0.9823    \n",
      "Epoch 2/5\n",
      "3777/3777 [==============================] - 33s - loss: 0.0476 - acc: 0.9862    \n",
      "Epoch 3/5\n",
      "3777/3777 [==============================] - 33s - loss: 0.0224 - acc: 0.9947    \n",
      "Epoch 4/5\n",
      "3777/3777 [==============================] - 33s - loss: 0.0074 - acc: 0.9992    \n",
      "Epoch 5/5\n",
      "3777/3777 [==============================] - 33s - loss: 0.1810 - acc: 0.9455    \n",
      "Training model 38\n",
      "th\n",
      "Epoch 1/2\n",
      "3777/3777 [==============================] - 33s - loss: 0.7627 - acc: 0.7551    \n",
      "Epoch 2/2\n",
      "3777/3777 [==============================] - 33s - loss: 0.3589 - acc: 0.9039    \n",
      "Epoch 1/5\n",
      "3777/3777 [==============================] - 33s - loss: 0.2199 - acc: 0.9373    \n",
      "Epoch 2/5\n",
      "3777/3777 [==============================] - 33s - loss: 0.0746 - acc: 0.9804    \n",
      "Epoch 3/5\n",
      "3777/3777 [==============================] - 33s - loss: 0.0333 - acc: 0.9905    \n",
      "Epoch 4/5\n",
      "3777/3777 [==============================] - 33s - loss: 0.0716 - acc: 0.9841    \n",
      "Epoch 5/5\n",
      "3777/3777 [==============================] - 33s - loss: 0.1368 - acc: 0.9606    \n",
      "Training model 39\n",
      "th\n",
      "Epoch 1/2\n",
      "3777/3777 [==============================] - 33s - loss: 0.7470 - acc: 0.7572    \n",
      "Epoch 2/2\n",
      "3777/3777 [==============================] - 33s - loss: 0.2720 - acc: 0.9267    \n",
      "Epoch 1/5\n",
      "3777/3777 [==============================] - 33s - loss: 0.1974 - acc: 0.9473    \n",
      "Epoch 2/5\n",
      "3777/3777 [==============================] - 33s - loss: 0.0705 - acc: 0.9838    \n",
      "Epoch 3/5\n",
      "3777/3777 [==============================] - 33s - loss: 0.0240 - acc: 0.9942    \n",
      "Epoch 4/5\n",
      "3777/3777 [==============================] - 33s - loss: 0.0793 - acc: 0.9825    \n",
      "Epoch 5/5\n",
      "3777/3777 [==============================] - 33s - loss: 0.0218 - acc: 0.9963    \n"
     ]
    }
   ],
   "source": [
    "for i in range(100):\n",
    "    print('Training model {}'.format(i))\n",
    "    fully_conv(i)"
   ]
  },
  {
   "cell_type": "code",
   "execution_count": 94,
   "metadata": {
    "collapsed": false
   },
   "outputs": [
    {
     "name": "stdout",
     "output_type": "stream",
     "text": [
      "Finish predicting 10 samples\n",
      "Finish predicting 20 samples\n",
      "Finish predicting 30 samples\n",
      "Finish predicting 40 samples\n"
     ]
    }
   ],
   "source": [
    "preds_ens = []\n",
    "for i in range(100):\n",
    "    model.load_weights(path+'models/inception_'+str(i)+'.h5')\n",
    "    preds_ens.append(model.predict(conv_test_feat, batch_size = batch_size))\n",
    "    if i % 10 == 9:\n",
    "        print('Finish predicting {} samples'.format(i+1))"
   ]
  },
  {
   "cell_type": "code",
   "execution_count": 95,
   "metadata": {
    "collapsed": false
   },
   "outputs": [
    {
     "data": {
      "text/plain": [
       "(40, 1000, 8)"
      ]
     },
     "execution_count": 95,
     "metadata": {},
     "output_type": "execute_result"
    }
   ],
   "source": [
    "preds_ens_inception = np.stack(preds_ens)\n",
    "preds_ens_inception.shape"
   ]
  },
  {
   "cell_type": "code",
   "execution_count": 96,
   "metadata": {
    "collapsed": true
   },
   "outputs": [],
   "source": [
    "save_array(path+'results/preds_ens_inception.dat', preds_ens_inception)"
   ]
  },
  {
   "cell_type": "markdown",
   "metadata": {},
   "source": [
    "## Submission"
   ]
  },
  {
   "cell_type": "code",
   "execution_count": 80,
   "metadata": {
    "collapsed": false
   },
   "outputs": [
    {
     "data": {
      "text/plain": [
       "(100, 1000, 8)"
      ]
     },
     "execution_count": 80,
     "metadata": {},
     "output_type": "execute_result"
    }
   ],
   "source": [
    "preds_ens_vgg = load_array(path+'results/preds_ens_vgg.dat')\n",
    "preds_ens_vgg.shape"
   ]
  },
  {
   "cell_type": "code",
   "execution_count": 81,
   "metadata": {
    "collapsed": false
   },
   "outputs": [
    {
     "data": {
      "text/plain": [
       "(100, 1000, 8)"
      ]
     },
     "execution_count": 81,
     "metadata": {},
     "output_type": "execute_result"
    }
   ],
   "source": [
    "preds_ens_resnet_v1 = load_array(path+'results/preds_ens_resnet_v1.dat')\n",
    "preds_ens_resnet_v1.shape"
   ]
  },
  {
   "cell_type": "code",
   "execution_count": 82,
   "metadata": {
    "collapsed": false
   },
   "outputs": [
    {
     "data": {
      "text/plain": [
       "(100, 1000, 8)"
      ]
     },
     "execution_count": 82,
     "metadata": {},
     "output_type": "execute_result"
    }
   ],
   "source": [
    "preds_ens_resnet_v2 = load_array(path+'results/preds_ens_resnet_v2.dat')\n",
    "preds_ens_resnet_v2.shape"
   ]
  },
  {
   "cell_type": "code",
   "execution_count": 83,
   "metadata": {
    "collapsed": false
   },
   "outputs": [
    {
     "data": {
      "text/plain": [
       "(100, 1000, 8)"
      ]
     },
     "execution_count": 83,
     "metadata": {},
     "output_type": "execute_result"
    }
   ],
   "source": [
    "preds_ens_resnet_bb = load_array(path+'results/preds_ens_resnet_bb.dat')\n",
    "preds_ens_resnet_bb.shape"
   ]
  },
  {
   "cell_type": "code",
   "execution_count": 84,
   "metadata": {
    "collapsed": false
   },
   "outputs": [
    {
     "data": {
      "text/plain": [
       "(100, 1000, 8)"
      ]
     },
     "execution_count": 84,
     "metadata": {},
     "output_type": "execute_result"
    }
   ],
   "source": [
    "#Here we split preds_ens_resnet_bb of dimension (200, 1000, 8) into two parts of equal sizes\n",
    "preds_ens_resnet_bb_2 = load_array(path+'results/preds_ens_resnet_bb_2.dat')\n",
    "preds_ens_resnet_bb_2.shape"
   ]
  },
  {
   "cell_type": "code",
   "execution_count": 85,
   "metadata": {
    "collapsed": false
   },
   "outputs": [
    {
     "data": {
      "text/plain": [
       "(100, 12153, 8)"
      ]
     },
     "execution_count": 85,
     "metadata": {},
     "output_type": "execute_result"
    }
   ],
   "source": [
    "preds2_ens_vgg = load_array(path+'results/preds2_ens_vgg.dat')\n",
    "preds2_ens_vgg.shape"
   ]
  },
  {
   "cell_type": "code",
   "execution_count": 86,
   "metadata": {
    "collapsed": false
   },
   "outputs": [
    {
     "data": {
      "text/plain": [
       "(100, 12153, 8)"
      ]
     },
     "execution_count": 86,
     "metadata": {},
     "output_type": "execute_result"
    }
   ],
   "source": [
    "preds2_ens_resnet_v1 = load_array(path+'results/preds2_ens_resnet_v1.dat')\n",
    "preds2_ens_resnet_v1.shape"
   ]
  },
  {
   "cell_type": "code",
   "execution_count": 87,
   "metadata": {
    "collapsed": false
   },
   "outputs": [
    {
     "data": {
      "text/plain": [
       "(100, 12153, 8)"
      ]
     },
     "execution_count": 87,
     "metadata": {},
     "output_type": "execute_result"
    }
   ],
   "source": [
    "preds2_ens_resnet_v2 = load_array(path+'results/preds2_ens_resnet_v2.dat')\n",
    "preds2_ens_resnet_v2.shape"
   ]
  },
  {
   "cell_type": "code",
   "execution_count": 88,
   "metadata": {
    "collapsed": false
   },
   "outputs": [
    {
     "data": {
      "text/plain": [
       "(100, 12153, 8)"
      ]
     },
     "execution_count": 88,
     "metadata": {},
     "output_type": "execute_result"
    }
   ],
   "source": [
    "preds2_ens_resnet_bb = load_array(path+'results/preds2_ens_resnet_bb.dat')\n",
    "preds2_ens_resnet_bb.shape"
   ]
  },
  {
   "cell_type": "code",
   "execution_count": 89,
   "metadata": {
    "collapsed": false
   },
   "outputs": [
    {
     "data": {
      "text/plain": [
       "(100, 12153, 8)"
      ]
     },
     "execution_count": 89,
     "metadata": {},
     "output_type": "execute_result"
    }
   ],
   "source": [
    "#Here we split preds2_ens_resnet_bb of dimension (200, 12153, 8) into two parts of equal sizes\n",
    "preds2_ens_resnet_bb_2 = load_array(path+'results/preds2_ens_resnet_bb_2.dat')\n",
    "preds2_ens_resnet_bb_2.shape"
   ]
  },
  {
   "cell_type": "code",
   "execution_count": 90,
   "metadata": {
    "collapsed": false
   },
   "outputs": [
    {
     "data": {
      "text/plain": [
       "(700, 1000, 8)"
      ]
     },
     "execution_count": 90,
     "metadata": {},
     "output_type": "execute_result"
    }
   ],
   "source": [
    "preds_ens = np.concatenate((preds_ens_vgg, preds_ens_resnet_v1, preds_ens_resnet_v2, \n",
    "                            preds_ens_resnet_bb, preds_ens_resnet_bb_2), axis = 0)\n",
    "preds_ens.shape"
   ]
  },
  {
   "cell_type": "code",
   "execution_count": 91,
   "metadata": {
    "collapsed": true
   },
   "outputs": [],
   "source": [
    "preds = preds_ens.mean(axis = 0)"
   ]
  },
  {
   "cell_type": "code",
   "execution_count": 92,
   "metadata": {
    "collapsed": false
   },
   "outputs": [
    {
     "data": {
      "text/plain": [
       "(700, 12153, 8)"
      ]
     },
     "execution_count": 92,
     "metadata": {},
     "output_type": "execute_result"
    }
   ],
   "source": [
    "preds2_ens = np.concatenate((preds2_ens_vgg, preds2_ens_resnet_v1, preds2_ens_resnet_v2, \n",
    "                             preds2_ens_resnet_bb, preds2_ens_resnet_bb_2), axis = 0)\n",
    "preds2_ens.shape"
   ]
  },
  {
   "cell_type": "code",
   "execution_count": 93,
   "metadata": {
    "collapsed": true
   },
   "outputs": [],
   "source": [
    "preds2 = preds2_ens.mean(axis = 0)"
   ]
  },
  {
   "cell_type": "code",
   "execution_count": 94,
   "metadata": {
    "collapsed": false
   },
   "outputs": [],
   "source": [
    "#use np.clip to avoid over-confident predictions\n",
    "submission = pd.DataFrame(np.clip(preds, 0.005, 1-0.005), \n",
    "                          columns = ['ALB', 'BET', 'DOL', 'LAG', 'NoF', 'OTHER', 'SHARK', 'YFT'])"
   ]
  },
  {
   "cell_type": "code",
   "execution_count": 95,
   "metadata": {
    "collapsed": true
   },
   "outputs": [],
   "source": [
    "submission.insert(0, 'image', [f.split('/')[-1] for f in test_filenames])"
   ]
  },
  {
   "cell_type": "code",
   "execution_count": 96,
   "metadata": {
    "collapsed": false
   },
   "outputs": [],
   "source": [
    "submission = submission.sort_values(by = 'image')"
   ]
  },
  {
   "cell_type": "code",
   "execution_count": 97,
   "metadata": {
    "collapsed": false,
    "scrolled": true
   },
   "outputs": [
    {
     "data": {
      "text/html": [
       "<div>\n",
       "<table border=\"1\" class=\"dataframe\">\n",
       "  <thead>\n",
       "    <tr style=\"text-align: right;\">\n",
       "      <th></th>\n",
       "      <th>image</th>\n",
       "      <th>ALB</th>\n",
       "      <th>BET</th>\n",
       "      <th>DOL</th>\n",
       "      <th>LAG</th>\n",
       "      <th>NoF</th>\n",
       "      <th>OTHER</th>\n",
       "      <th>SHARK</th>\n",
       "      <th>YFT</th>\n",
       "    </tr>\n",
       "  </thead>\n",
       "  <tbody>\n",
       "    <tr>\n",
       "      <th>550</th>\n",
       "      <td>img_00005.jpg</td>\n",
       "      <td>0.005000</td>\n",
       "      <td>0.005000</td>\n",
       "      <td>0.005000</td>\n",
       "      <td>0.005000</td>\n",
       "      <td>0.995000</td>\n",
       "      <td>0.005000</td>\n",
       "      <td>0.005000</td>\n",
       "      <td>0.005000</td>\n",
       "    </tr>\n",
       "    <tr>\n",
       "      <th>748</th>\n",
       "      <td>img_00007.jpg</td>\n",
       "      <td>0.401732</td>\n",
       "      <td>0.152770</td>\n",
       "      <td>0.010288</td>\n",
       "      <td>0.016284</td>\n",
       "      <td>0.005000</td>\n",
       "      <td>0.050149</td>\n",
       "      <td>0.005000</td>\n",
       "      <td>0.366132</td>\n",
       "    </tr>\n",
       "    <tr>\n",
       "      <th>920</th>\n",
       "      <td>img_00009.jpg</td>\n",
       "      <td>0.989379</td>\n",
       "      <td>0.006259</td>\n",
       "      <td>0.005000</td>\n",
       "      <td>0.005000</td>\n",
       "      <td>0.005000</td>\n",
       "      <td>0.005000</td>\n",
       "      <td>0.005000</td>\n",
       "      <td>0.005000</td>\n",
       "    </tr>\n",
       "    <tr>\n",
       "      <th>212</th>\n",
       "      <td>img_00018.jpg</td>\n",
       "      <td>0.865520</td>\n",
       "      <td>0.078684</td>\n",
       "      <td>0.005000</td>\n",
       "      <td>0.008885</td>\n",
       "      <td>0.005000</td>\n",
       "      <td>0.026606</td>\n",
       "      <td>0.005000</td>\n",
       "      <td>0.013844</td>\n",
       "    </tr>\n",
       "    <tr>\n",
       "      <th>908</th>\n",
       "      <td>img_00027.jpg</td>\n",
       "      <td>0.323903</td>\n",
       "      <td>0.052104</td>\n",
       "      <td>0.005000</td>\n",
       "      <td>0.005000</td>\n",
       "      <td>0.033267</td>\n",
       "      <td>0.119276</td>\n",
       "      <td>0.027178</td>\n",
       "      <td>0.438860</td>\n",
       "    </tr>\n",
       "  </tbody>\n",
       "</table>\n",
       "</div>"
      ],
      "text/plain": [
       "             image       ALB       BET       DOL       LAG       NoF  \\\n",
       "550  img_00005.jpg  0.005000  0.005000  0.005000  0.005000  0.995000   \n",
       "748  img_00007.jpg  0.401732  0.152770  0.010288  0.016284  0.005000   \n",
       "920  img_00009.jpg  0.989379  0.006259  0.005000  0.005000  0.005000   \n",
       "212  img_00018.jpg  0.865520  0.078684  0.005000  0.008885  0.005000   \n",
       "908  img_00027.jpg  0.323903  0.052104  0.005000  0.005000  0.033267   \n",
       "\n",
       "        OTHER     SHARK       YFT  \n",
       "550  0.005000  0.005000  0.005000  \n",
       "748  0.050149  0.005000  0.366132  \n",
       "920  0.005000  0.005000  0.005000  \n",
       "212  0.026606  0.005000  0.013844  \n",
       "908  0.119276  0.027178  0.438860  "
      ]
     },
     "execution_count": 97,
     "metadata": {},
     "output_type": "execute_result"
    }
   ],
   "source": [
    "submission.head()"
   ]
  },
  {
   "cell_type": "code",
   "execution_count": 98,
   "metadata": {
    "collapsed": true
   },
   "outputs": [],
   "source": [
    "submission2 = pd.DataFrame(np.clip(preds2, 0.005, 1-0.005), \n",
    "                          columns = ['ALB', 'BET', 'DOL', 'LAG', 'NoF', 'OTHER', 'SHARK', 'YFT'])"
   ]
  },
  {
   "cell_type": "code",
   "execution_count": 99,
   "metadata": {
    "collapsed": false
   },
   "outputs": [],
   "source": [
    "submission2.insert(0, 'image', ['test_stg2/' + f.split('/')[-1] for f in test2_filenames])"
   ]
  },
  {
   "cell_type": "code",
   "execution_count": 100,
   "metadata": {
    "collapsed": true
   },
   "outputs": [],
   "source": [
    "submission2 = submission2.sort_values(by = 'image')"
   ]
  },
  {
   "cell_type": "code",
   "execution_count": 101,
   "metadata": {
    "collapsed": false
   },
   "outputs": [
    {
     "data": {
      "text/html": [
       "<div>\n",
       "<table border=\"1\" class=\"dataframe\">\n",
       "  <thead>\n",
       "    <tr style=\"text-align: right;\">\n",
       "      <th></th>\n",
       "      <th>image</th>\n",
       "      <th>ALB</th>\n",
       "      <th>BET</th>\n",
       "      <th>DOL</th>\n",
       "      <th>LAG</th>\n",
       "      <th>NoF</th>\n",
       "      <th>OTHER</th>\n",
       "      <th>SHARK</th>\n",
       "      <th>YFT</th>\n",
       "    </tr>\n",
       "  </thead>\n",
       "  <tbody>\n",
       "    <tr>\n",
       "      <th>5145</th>\n",
       "      <td>test_stg2/image_00001.jpg</td>\n",
       "      <td>0.512668</td>\n",
       "      <td>0.180666</td>\n",
       "      <td>0.005000</td>\n",
       "      <td>0.006530</td>\n",
       "      <td>0.168870</td>\n",
       "      <td>0.008757</td>\n",
       "      <td>0.013768</td>\n",
       "      <td>0.105565</td>\n",
       "    </tr>\n",
       "    <tr>\n",
       "      <th>11191</th>\n",
       "      <td>test_stg2/image_00002.jpg</td>\n",
       "      <td>0.424265</td>\n",
       "      <td>0.030756</td>\n",
       "      <td>0.005000</td>\n",
       "      <td>0.005000</td>\n",
       "      <td>0.497180</td>\n",
       "      <td>0.014084</td>\n",
       "      <td>0.006754</td>\n",
       "      <td>0.021767</td>\n",
       "    </tr>\n",
       "    <tr>\n",
       "      <th>3769</th>\n",
       "      <td>test_stg2/image_00003.jpg</td>\n",
       "      <td>0.553744</td>\n",
       "      <td>0.012554</td>\n",
       "      <td>0.005000</td>\n",
       "      <td>0.006163</td>\n",
       "      <td>0.320273</td>\n",
       "      <td>0.014777</td>\n",
       "      <td>0.005068</td>\n",
       "      <td>0.083118</td>\n",
       "    </tr>\n",
       "    <tr>\n",
       "      <th>2124</th>\n",
       "      <td>test_stg2/image_00004.jpg</td>\n",
       "      <td>0.486216</td>\n",
       "      <td>0.158614</td>\n",
       "      <td>0.073859</td>\n",
       "      <td>0.013138</td>\n",
       "      <td>0.024330</td>\n",
       "      <td>0.029429</td>\n",
       "      <td>0.039303</td>\n",
       "      <td>0.175110</td>\n",
       "    </tr>\n",
       "    <tr>\n",
       "      <th>948</th>\n",
       "      <td>test_stg2/image_00005.jpg</td>\n",
       "      <td>0.339345</td>\n",
       "      <td>0.014498</td>\n",
       "      <td>0.014402</td>\n",
       "      <td>0.005000</td>\n",
       "      <td>0.401382</td>\n",
       "      <td>0.049770</td>\n",
       "      <td>0.022358</td>\n",
       "      <td>0.156371</td>\n",
       "    </tr>\n",
       "  </tbody>\n",
       "</table>\n",
       "</div>"
      ],
      "text/plain": [
       "                           image       ALB       BET       DOL       LAG  \\\n",
       "5145   test_stg2/image_00001.jpg  0.512668  0.180666  0.005000  0.006530   \n",
       "11191  test_stg2/image_00002.jpg  0.424265  0.030756  0.005000  0.005000   \n",
       "3769   test_stg2/image_00003.jpg  0.553744  0.012554  0.005000  0.006163   \n",
       "2124   test_stg2/image_00004.jpg  0.486216  0.158614  0.073859  0.013138   \n",
       "948    test_stg2/image_00005.jpg  0.339345  0.014498  0.014402  0.005000   \n",
       "\n",
       "            NoF     OTHER     SHARK       YFT  \n",
       "5145   0.168870  0.008757  0.013768  0.105565  \n",
       "11191  0.497180  0.014084  0.006754  0.021767  \n",
       "3769   0.320273  0.014777  0.005068  0.083118  \n",
       "2124   0.024330  0.029429  0.039303  0.175110  \n",
       "948    0.401382  0.049770  0.022358  0.156371  "
      ]
     },
     "execution_count": 101,
     "metadata": {},
     "output_type": "execute_result"
    }
   ],
   "source": [
    "submission2.head()"
   ]
  },
  {
   "cell_type": "code",
   "execution_count": 102,
   "metadata": {
    "collapsed": true
   },
   "outputs": [],
   "source": [
    "submission_final = pd.concat([submission, submission2])"
   ]
  },
  {
   "cell_type": "code",
   "execution_count": 103,
   "metadata": {
    "collapsed": false
   },
   "outputs": [
    {
     "data": {
      "text/plain": [
       "(13153, 9)"
      ]
     },
     "execution_count": 103,
     "metadata": {},
     "output_type": "execute_result"
    }
   ],
   "source": [
    "submission_final.shape"
   ]
  },
  {
   "cell_type": "code",
   "execution_count": 115,
   "metadata": {
    "collapsed": true
   },
   "outputs": [],
   "source": [
    "submission_name = '../data/fish/results/submission.gz'"
   ]
  },
  {
   "cell_type": "code",
   "execution_count": 116,
   "metadata": {
    "collapsed": true
   },
   "outputs": [],
   "source": [
    "submission_final.to_csv(submission_name, index = False, compression = 'gzip')"
   ]
  },
  {
   "cell_type": "code",
   "execution_count": 117,
   "metadata": {
    "collapsed": false
   },
   "outputs": [
    {
     "data": {
      "text/html": [
       "<a href='../data/fish/results/submission.gz' target='_blank'>../data/fish/results/submission.gz</a><br>"
      ],
      "text/plain": [
       "/home/ubuntu/courses/deeplearning1/data/fish/results/submission.gz"
      ]
     },
     "execution_count": 117,
     "metadata": {},
     "output_type": "execute_result"
    }
   ],
   "source": [
    "FileLink(submission_name)"
   ]
  },
  {
   "cell_type": "code",
   "execution_count": null,
   "metadata": {
    "collapsed": true
   },
   "outputs": [],
   "source": []
  }
 ],
 "metadata": {
  "anaconda-cloud": {},
  "kernelspec": {
   "display_name": "Python 3",
   "language": "python",
   "name": "python3"
  },
  "language_info": {
   "codemirror_mode": {
    "name": "ipython",
    "version": 3
   },
   "file_extension": ".py",
   "mimetype": "text/x-python",
   "name": "python",
   "nbconvert_exporter": "python",
   "pygments_lexer": "ipython3",
   "version": "3.6.0"
  }
 },
 "nbformat": 4,
 "nbformat_minor": 1
}
